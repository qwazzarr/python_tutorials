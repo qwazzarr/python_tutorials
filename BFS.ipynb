{
 "cells": [
  {
   "cell_type": "code",
   "execution_count": 4,
   "metadata": {},
   "outputs": [],
   "source": [
    "def empty_graph(n):\n",
    "    board = dict()\n",
    "    for i in range(n):\n",
    "        for b in range(n):\n",
    "            board[str(i)+str(b)]=set()\n",
    "    return board"
   ]
  },
  {
   "cell_type": "code",
   "execution_count": 40,
   "metadata": {},
   "outputs": [],
   "source": [
    "def write_edges(board,vert,hor,n):\n",
    "    for i in range(n):\n",
    "        for b in range(n):\n",
    "            v1 = str(i)+str(b)\n",
    "            v2 = ''\n",
    "            if 0<=b+vert < n and 0 <= i+hor <n:\n",
    "                v2 = str(i+hor)+str(b+vert)\n",
    "                board = add_edge(v1,v2,board)\n",
    "            if 0<=b-vert <n and 0 <= i+hor <n:\n",
    "                v2 = str(i+hor)+str(b-vert)\n",
    "                board = add_edge(v1,v2,board)\n",
    "            if 0<=b+hor <n and 0<= i + vert <n:\n",
    "                v2 = str(i+vert)+str(b+hor)\n",
    "                board = add_edge(v1,v2,board)\n",
    "            if 0<=b-hor <n and 0 <= i+vert <n:\n",
    "                v2 = str(i+vert)+str(b-hor)\n",
    "                board = add_edge(v1,v2,board)\n",
    "                \n",
    "    return board\n",
    "    \n",
    "    \n",
    "    "
   ]
  },
  {
   "cell_type": "code",
   "execution_count": 41,
   "metadata": {},
   "outputs": [],
   "source": [
    "board = empty_graph(3)"
   ]
  },
  {
   "cell_type": "code",
   "execution_count": 42,
   "metadata": {},
   "outputs": [
    {
     "data": {
      "text/plain": [
       "{'00': {'12', '21'},\n",
       " '01': {'20', '22'},\n",
       " '02': {'10', '21'},\n",
       " '10': {'02', '22'},\n",
       " '11': set(),\n",
       " '12': {'00', '20'},\n",
       " '20': {'01', '12'},\n",
       " '21': {'00', '02'},\n",
       " '22': {'01', '10'}}"
      ]
     },
     "execution_count": 42,
     "metadata": {},
     "output_type": "execute_result"
    }
   ],
   "source": [
    "write_edges(board,2,1,3)"
   ]
  },
  {
   "cell_type": "code",
   "execution_count": 15,
   "metadata": {},
   "outputs": [],
   "source": [
    "def add_edge(v1,v2,board):\n",
    "    board[v1].add(v2)\n",
    "    board[v2].add(v1)\n",
    "    return board\n",
    "    "
   ]
  },
  {
   "cell_type": "code",
   "execution_count": 20,
   "metadata": {},
   "outputs": [
    {
     "data": {
      "text/plain": [
       "{'00': set(),\n",
       " '01': set(),\n",
       " '02': set(),\n",
       " '10': set(),\n",
       " '11': set(),\n",
       " '12': set(),\n",
       " '20': set(),\n",
       " '21': set(),\n",
       " '22': set()}"
      ]
     },
     "execution_count": 20,
     "metadata": {},
     "output_type": "execute_result"
    }
   ],
   "source": [
    "board"
   ]
  },
  {
   "cell_type": "code",
   "execution_count": 108,
   "metadata": {},
   "outputs": [],
   "source": [
    "def knightlOnAChessboard(n):\n",
    "    answer = [[] for i in range(n-1)]\n",
    "    for i in range(1,n):\n",
    "        for b in range(1,n):\n",
    "            board = empty_graph(n)\n",
    "            board = write_edges(board,i,b,n)\n",
    "            length = calculate_trajectory(board,n)\n",
    "            if length == None:\n",
    "                length = -1\n",
    "            answer[i-1].append(length)\n",
    "    return answer\n",
    "            "
   ]
  },
  {
   "cell_type": "code",
   "execution_count": 109,
   "metadata": {},
   "outputs": [],
   "source": [
    "def calculate_trajectory(board,n):\n",
    "    from collections import deque\n",
    "    distances = {v: None for v in board}\n",
    "    parents = {v: None for v in board}\n",
    "    start = '00'\n",
    "    end = str(n-1)+str(n-1)\n",
    "    distances[start] = 0\n",
    "    queue = deque([start])\n",
    "    while queue:\n",
    "        cur_v = queue.popleft()\n",
    "        for neigh_v in board[cur_v]:\n",
    "            if distances[neigh_v] is None:\n",
    "                distances[neigh_v] = distances[cur_v]+1\n",
    "                parents[neigh_v] = cur_v\n",
    "                queue.append(neigh_v)\n",
    "    return distances[end]"
   ]
  },
  {
   "cell_type": "code",
   "execution_count": 111,
   "metadata": {
    "scrolled": false
   },
   "outputs": [
    {
     "data": {
      "text/plain": [
       "[[12, 8, 6, 8, 4, 4, 8, 8, 6, 4, 2, 24],\n",
       " [8, 6, 6, 4, 10, 4, 12, 8, 12, 2, 12, 12],\n",
       " [6, 6, 4, 8, 6, 4, 8, 8, 2, 8, 8, 8],\n",
       " [8, 4, 8, 3, 8, 4, 10, 2, 36, 16, -1, 3],\n",
       " [4, 10, 6, 8, -1, 4, 2, -1, -1, -1, -1, -1],\n",
       " [4, 4, 4, 4, 4, 2, 4, 4, 4, 4, 4, 4],\n",
       " [8, 12, 8, 10, 2, 4, -1, -1, -1, -1, -1, -1],\n",
       " [8, 8, 8, 2, -1, 4, -1, -1, -1, -1, -1, -1],\n",
       " [6, 12, 2, 36, -1, 4, -1, -1, -1, -1, -1, -1],\n",
       " [4, 2, 8, 16, -1, 4, -1, -1, -1, -1, -1, -1],\n",
       " [2, 12, 8, -1, -1, 4, -1, -1, -1, -1, -1, -1],\n",
       " [24, 12, 8, 3, -1, 4, -1, -1, -1, -1, -1, 1]]"
      ]
     },
     "execution_count": 111,
     "metadata": {},
     "output_type": "execute_result"
    }
   ],
   "source": [
    "knightlOnAChessboard(13)"
   ]
  },
  {
   "cell_type": "code",
   "execution_count": 69,
   "metadata": {},
   "outputs": [
    {
     "data": {
      "text/plain": [
       "[[None, None, None], [None, None, None], [None, None, None]]"
      ]
     },
     "execution_count": 69,
     "metadata": {},
     "output_type": "execute_result"
    }
   ],
   "source": [
    "12 8 6 8 4 4 8 12 6 20 2 24\n",
    "8 6 6 4 10 4 12 8 12 2 12 12\n",
    "6 6 4 8 6 4 8 8 2 8 8 8\n",
    "8 4 8 3 8 4 12 2 36 16 -1 3\n",
    "4 10 6 8 -1 4 2 -1 -1 -1 -1 -1\n",
    "4 4 4 4 4 2 4 4 4 4 4 4\n",
    "8 12 8 12 2 4 -1 -1 -1 -1 -1 -1\n",
    "12 8 8 2 -1 4 -1 -1 -1 -1 -1 -1\n",
    "6 12 2 36 -1 4 -1 -1 -1 -1 -1 -1\n",
    "20 2 8 16 -1 4 -1 -1 -1 -1 -1 -1\n",
    "2 12 8 -1 -1 4 -1 -1 -1 -1 -1 -1\n",
    "24 12 8 3 -1 4 -1 -1 -1 -1 -1 1"
   ]
  },
  {
   "cell_type": "code",
   "execution_count": 103,
   "metadata": {},
   "outputs": [],
   "source": [
    "answer = [[] for i in range(n)]"
   ]
  },
  {
   "cell_type": "code",
   "execution_count": 104,
   "metadata": {},
   "outputs": [
    {
     "data": {
      "text/plain": [
       "[[], [], []]"
      ]
     },
     "execution_count": 104,
     "metadata": {},
     "output_type": "execute_result"
    }
   ],
   "source": [
    "answer"
   ]
  },
  {
   "cell_type": "code",
   "execution_count": null,
   "metadata": {},
   "outputs": [],
   "source": []
  }
 ],
 "metadata": {
  "kernelspec": {
   "display_name": "Python 3",
   "language": "python",
   "name": "python3"
  },
  "language_info": {
   "codemirror_mode": {
    "name": "ipython",
    "version": 3
   },
   "file_extension": ".py",
   "mimetype": "text/x-python",
   "name": "python",
   "nbconvert_exporter": "python",
   "pygments_lexer": "ipython3",
   "version": "3.7.4"
  }
 },
 "nbformat": 4,
 "nbformat_minor": 2
}
