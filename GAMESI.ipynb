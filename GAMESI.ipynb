{
 "cells": [
  {
   "cell_type": "code",
   "execution_count": 1,
   "metadata": {},
   "outputs": [],
   "source": [
    "import turtle"
   ]
  },
  {
   "cell_type": "code",
   "execution_count": 2,
   "metadata": {},
   "outputs": [
    {
     "ename": "TclError",
     "evalue": "invalid command name \".!canvas\"",
     "output_type": "error",
     "traceback": [
      "\u001b[0;31m---------------------------------------------------------------------------\u001b[0m",
      "\u001b[0;31mTclError\u001b[0m                                  Traceback (most recent call last)",
      "\u001b[0;32m<ipython-input-2-317cc6ae3d1a>\u001b[0m in \u001b[0;36m<module>\u001b[0;34m\u001b[0m\n\u001b[1;32m     76\u001b[0m \u001b[0;34m\u001b[0m\u001b[0m\n\u001b[1;32m     77\u001b[0m     \u001b[0;31m# move the ball\u001b[0m\u001b[0;34m\u001b[0m\u001b[0;34m\u001b[0m\u001b[0;34m\u001b[0m\u001b[0m\n\u001b[0;32m---> 78\u001b[0;31m     \u001b[0mball\u001b[0m\u001b[0;34m.\u001b[0m\u001b[0msetx\u001b[0m\u001b[0;34m(\u001b[0m\u001b[0mball\u001b[0m\u001b[0;34m.\u001b[0m\u001b[0mxcor\u001b[0m\u001b[0;34m(\u001b[0m\u001b[0;34m)\u001b[0m\u001b[0;34m+\u001b[0m\u001b[0mball\u001b[0m\u001b[0;34m.\u001b[0m\u001b[0mdx\u001b[0m\u001b[0;34m)\u001b[0m\u001b[0;34m\u001b[0m\u001b[0;34m\u001b[0m\u001b[0m\n\u001b[0m\u001b[1;32m     79\u001b[0m     \u001b[0mball\u001b[0m\u001b[0;34m.\u001b[0m\u001b[0msety\u001b[0m\u001b[0;34m(\u001b[0m\u001b[0mball\u001b[0m\u001b[0;34m.\u001b[0m\u001b[0mycor\u001b[0m\u001b[0;34m(\u001b[0m\u001b[0;34m)\u001b[0m\u001b[0;34m+\u001b[0m\u001b[0mball\u001b[0m\u001b[0;34m.\u001b[0m\u001b[0mdy\u001b[0m\u001b[0;34m)\u001b[0m\u001b[0;34m\u001b[0m\u001b[0;34m\u001b[0m\u001b[0m\n\u001b[1;32m     80\u001b[0m     \u001b[0;31m# border checking\u001b[0m\u001b[0;34m\u001b[0m\u001b[0;34m\u001b[0m\u001b[0;34m\u001b[0m\u001b[0m\n",
      "\u001b[0;32m/opt/anaconda3/lib/python3.7/turtle.py\u001b[0m in \u001b[0;36msetx\u001b[0;34m(self, x)\u001b[0m\n\u001b[1;32m   1806\u001b[0m         \u001b[0;34m(\u001b[0m\u001b[0;36m10.00\u001b[0m\u001b[0;34m,\u001b[0m \u001b[0;36m240.00\u001b[0m\u001b[0;34m)\u001b[0m\u001b[0;34m\u001b[0m\u001b[0;34m\u001b[0m\u001b[0m\n\u001b[1;32m   1807\u001b[0m         \"\"\"\n\u001b[0;32m-> 1808\u001b[0;31m         \u001b[0mself\u001b[0m\u001b[0;34m.\u001b[0m\u001b[0m_goto\u001b[0m\u001b[0;34m(\u001b[0m\u001b[0mVec2D\u001b[0m\u001b[0;34m(\u001b[0m\u001b[0mx\u001b[0m\u001b[0;34m,\u001b[0m \u001b[0mself\u001b[0m\u001b[0;34m.\u001b[0m\u001b[0m_position\u001b[0m\u001b[0;34m[\u001b[0m\u001b[0;36m1\u001b[0m\u001b[0;34m]\u001b[0m\u001b[0;34m)\u001b[0m\u001b[0;34m)\u001b[0m\u001b[0;34m\u001b[0m\u001b[0;34m\u001b[0m\u001b[0m\n\u001b[0m\u001b[1;32m   1809\u001b[0m \u001b[0;34m\u001b[0m\u001b[0m\n\u001b[1;32m   1810\u001b[0m     \u001b[0;32mdef\u001b[0m \u001b[0msety\u001b[0m\u001b[0;34m(\u001b[0m\u001b[0mself\u001b[0m\u001b[0;34m,\u001b[0m \u001b[0my\u001b[0m\u001b[0;34m)\u001b[0m\u001b[0;34m:\u001b[0m\u001b[0;34m\u001b[0m\u001b[0;34m\u001b[0m\u001b[0m\n",
      "\u001b[0;32m/opt/anaconda3/lib/python3.7/turtle.py\u001b[0m in \u001b[0;36m_goto\u001b[0;34m(self, end)\u001b[0m\n\u001b[1;32m   3156\u001b[0m                       (self.currentLineItem,\n\u001b[1;32m   3157\u001b[0m                       \u001b[0mself\u001b[0m\u001b[0;34m.\u001b[0m\u001b[0mcurrentLine\u001b[0m\u001b[0;34m[\u001b[0m\u001b[0;34m:\u001b[0m\u001b[0;34m]\u001b[0m\u001b[0;34m,\u001b[0m\u001b[0;34m\u001b[0m\u001b[0;34m\u001b[0m\u001b[0m\n\u001b[0;32m-> 3158\u001b[0;31m                       \u001b[0mscreen\u001b[0m\u001b[0;34m.\u001b[0m\u001b[0m_pointlist\u001b[0m\u001b[0;34m(\u001b[0m\u001b[0mself\u001b[0m\u001b[0;34m.\u001b[0m\u001b[0mcurrentLineItem\u001b[0m\u001b[0;34m)\u001b[0m\u001b[0;34m,\u001b[0m\u001b[0;34m\u001b[0m\u001b[0;34m\u001b[0m\u001b[0m\n\u001b[0m\u001b[1;32m   3159\u001b[0m                       self.items[:])\n\u001b[1;32m   3160\u001b[0m                       )\n",
      "\u001b[0;32m/opt/anaconda3/lib/python3.7/turtle.py\u001b[0m in \u001b[0;36m_pointlist\u001b[0;34m(self, item)\u001b[0m\n\u001b[1;32m    753\u001b[0m         (9.9999999999999982, 0.0)]\n\u001b[1;32m    754\u001b[0m         >>> \"\"\"\n\u001b[0;32m--> 755\u001b[0;31m         \u001b[0mcl\u001b[0m \u001b[0;34m=\u001b[0m \u001b[0mself\u001b[0m\u001b[0;34m.\u001b[0m\u001b[0mcv\u001b[0m\u001b[0;34m.\u001b[0m\u001b[0mcoords\u001b[0m\u001b[0;34m(\u001b[0m\u001b[0mitem\u001b[0m\u001b[0;34m)\u001b[0m\u001b[0;34m\u001b[0m\u001b[0;34m\u001b[0m\u001b[0m\n\u001b[0m\u001b[1;32m    756\u001b[0m         \u001b[0mpl\u001b[0m \u001b[0;34m=\u001b[0m \u001b[0;34m[\u001b[0m\u001b[0;34m(\u001b[0m\u001b[0mcl\u001b[0m\u001b[0;34m[\u001b[0m\u001b[0mi\u001b[0m\u001b[0;34m]\u001b[0m\u001b[0;34m,\u001b[0m \u001b[0;34m-\u001b[0m\u001b[0mcl\u001b[0m\u001b[0;34m[\u001b[0m\u001b[0mi\u001b[0m\u001b[0;34m+\u001b[0m\u001b[0;36m1\u001b[0m\u001b[0;34m]\u001b[0m\u001b[0;34m)\u001b[0m \u001b[0;32mfor\u001b[0m \u001b[0mi\u001b[0m \u001b[0;32min\u001b[0m \u001b[0mrange\u001b[0m\u001b[0;34m(\u001b[0m\u001b[0;36m0\u001b[0m\u001b[0;34m,\u001b[0m \u001b[0mlen\u001b[0m\u001b[0;34m(\u001b[0m\u001b[0mcl\u001b[0m\u001b[0;34m)\u001b[0m\u001b[0;34m,\u001b[0m \u001b[0;36m2\u001b[0m\u001b[0;34m)\u001b[0m\u001b[0;34m]\u001b[0m\u001b[0;34m\u001b[0m\u001b[0;34m\u001b[0m\u001b[0m\n\u001b[1;32m    757\u001b[0m         \u001b[0;32mreturn\u001b[0m  \u001b[0mpl\u001b[0m\u001b[0;34m\u001b[0m\u001b[0;34m\u001b[0m\u001b[0m\n",
      "\u001b[0;32m<string>\u001b[0m in \u001b[0;36mcoords\u001b[0;34m(self, *args, **kw)\u001b[0m\n",
      "\u001b[0;32m/opt/anaconda3/lib/python3.7/tkinter/__init__.py\u001b[0m in \u001b[0;36mcoords\u001b[0;34m(self, *args)\u001b[0m\n\u001b[1;32m   2467\u001b[0m         return [self.tk.getdouble(x) for x in\n\u001b[1;32m   2468\u001b[0m                            self.tk.splitlist(\n\u001b[0;32m-> 2469\u001b[0;31m                    self.tk.call((self._w, 'coords') + args))]\n\u001b[0m\u001b[1;32m   2470\u001b[0m     \u001b[0;32mdef\u001b[0m \u001b[0m_create\u001b[0m\u001b[0;34m(\u001b[0m\u001b[0mself\u001b[0m\u001b[0;34m,\u001b[0m \u001b[0mitemType\u001b[0m\u001b[0;34m,\u001b[0m \u001b[0margs\u001b[0m\u001b[0;34m,\u001b[0m \u001b[0mkw\u001b[0m\u001b[0;34m)\u001b[0m\u001b[0;34m:\u001b[0m \u001b[0;31m# Args: (val, val, ..., cnf={})\u001b[0m\u001b[0;34m\u001b[0m\u001b[0;34m\u001b[0m\u001b[0m\n\u001b[1;32m   2471\u001b[0m         \u001b[0;34m\"\"\"Internal function.\"\"\"\u001b[0m\u001b[0;34m\u001b[0m\u001b[0;34m\u001b[0m\u001b[0m\n",
      "\u001b[0;31mTclError\u001b[0m: invalid command name \".!canvas\""
     ]
    }
   ],
   "source": [
    "wn = turtle.Screen()\n",
    "wn.title('Ping Pong')\n",
    "wn.bgcolor(\"black\")\n",
    "wn.setup(width=800 , height=600)\n",
    "wn.tracer(0)\n",
    " \n",
    "#Paddle A\n",
    "paddle_a = turtle.Turtle()\n",
    "paddle_a.speed(0)\n",
    "paddle_a.shape(\"square\")\n",
    "paddle_a.color(\"white\")\n",
    "paddle_a.shapesize(stretch_wid = 5, stretch_len = 1)\n",
    "paddle_a.penup() # do not drow a line\n",
    "paddle_a.goto(-350,0)\n",
    "#Paddle B\n",
    "\n",
    "paddle_b = turtle.Turtle()\n",
    "paddle_b.speed(0)\n",
    "paddle_b.shape(\"square\")\n",
    "paddle_b.color(\"white\")\n",
    "paddle_b.shapesize(stretch_wid = 5, stretch_len = 1)\n",
    "paddle_b.penup() # do not drow a line\n",
    "paddle_b.goto(350,0)\n",
    "\n",
    "# Ball\n",
    "ball = turtle.Turtle()\n",
    "ball.speed(0)\n",
    "ball.shape(\"square\")\n",
    "ball.color(\"white\")\n",
    "ball.penup()\n",
    "ball.goto(0,0)\n",
    "ball.dx = 2\n",
    "ball.dy = 2\n",
    "score = 0\n",
    "pen = turtle.Turtle()\n",
    "pen.speed(0)\n",
    "pen.color(\"white\")\n",
    "pen.penup()\n",
    "pen.hideturtle()\n",
    "pen.goto(0,0)\n",
    "pen.write(str(score),align=\"center\" ,font =(\"Courier\",40 , \"normal\"))\n",
    "# function \n",
    "def paddle_a_up():\n",
    "    y = paddle_a.ycor()\n",
    "    y += 20\n",
    "    paddle_a.sety(y)\n",
    "def paddle_a_down():\n",
    "    y = paddle_a.ycor()\n",
    "    y -= 20\n",
    "    paddle_a.sety(y)\n",
    "def paddle_b_down():\n",
    "    y = paddle_b.ycor()\n",
    "    y -= 20\n",
    "    paddle_b.sety(y)\n",
    "def paddle_b_up():\n",
    "    y = paddle_b.ycor()\n",
    "    y += 20\n",
    "    paddle_b.sety(y)\n",
    "\n",
    "# Keyborad binding \n",
    "wn.listen()\n",
    "wn.onkeypress(paddle_a_up, \"w\")\n",
    "wn.onkeypress(paddle_a_down, \"s\")\n",
    "wn.onkeypress(paddle_b_up, \"Up\")\n",
    "wn.onkeypress(paddle_b_down, \"Down\")\n",
    "\n",
    "\n",
    "\n",
    "\n",
    "\n",
    "\n",
    "    \n",
    "#Main game loop\n",
    "while True:\n",
    "    wn.update()\n",
    "    \n",
    "    # move the ball\n",
    "    ball.setx(ball.xcor()+ball.dx)\n",
    "    ball.sety(ball.ycor()+ball.dy)\n",
    "    # border checking\n",
    "    if ball.ycor()>=295:\n",
    "        ball.sety(295)\n",
    "        ball.dy = -ball.dy\n",
    "    if ball.ycor()<=-295:\n",
    "        ball.sety(-295)\n",
    "        ball.dy = -ball.dy\n",
    "    if abs(ball.xcor())>=395:\n",
    "        ball.goto(0,0)\n",
    "        ball.dx = -ball.dx\n",
    "    if  ball.xcor() < -340:\n",
    "        if abs(paddle_a.ycor()-ball.ycor())<=50:\n",
    "            if ball.xcor() > -350:\n",
    "                ball.setx(-340)\n",
    "                ball.dx= -ball.dx\n",
    "                score +=1\n",
    "                pen.clear()\n",
    "                pen.write(str(score),align=\"center\" ,font =(\"Courier\",40 , \"normal\"))\n",
    "    if  ball.xcor() > 340:\n",
    "        if abs(paddle_b.ycor()-ball.ycor())<=50:\n",
    "            if ball.xcor() < 350:\n",
    "                ball.setx(340)\n",
    "                ball.dx= -ball.dx\n",
    "                score +=1\n",
    "                pen.clear()\n",
    "                pen.write(str(score),align=\"center\" ,font =(\"Courier\",40 , \"normal\"))"
   ]
  },
  {
   "cell_type": "code",
   "execution_count": 12,
   "metadata": {},
   "outputs": [
    {
     "name": "stdout",
     "output_type": "stream",
     "text": [
      "Collecting pygame\n",
      "\u001b[?25l  Downloading https://files.pythonhosted.org/packages/32/37/453bbb62f90feff2a2b75fc739b674319f5f6a8789d5d21c6d2d7d42face/pygame-1.9.6-cp37-cp37m-macosx_10_11_intel.whl (4.9MB)\n",
      "\u001b[K     |████████████████████████████████| 4.9MB 4.2MB/s eta 0:00:01\n",
      "\u001b[?25hInstalling collected packages: pygame\n",
      "Successfully installed pygame-1.9.6\n",
      "Note: you may need to restart the kernel to use updated packages.\n"
     ]
    }
   ],
   "source": [
    "pip install pygame"
   ]
  },
  {
   "cell_type": "code",
   "execution_count": 1,
   "metadata": {},
   "outputs": [
    {
     "name": "stdout",
     "output_type": "stream",
     "text": [
      "pygame 1.9.6\n",
      "Hello from the pygame community. https://www.pygame.org/contribute.html\n"
     ]
    }
   ],
   "source": [
    "import pygame"
   ]
  },
  {
   "cell_type": "code",
   "execution_count": 2,
   "metadata": {},
   "outputs": [
    {
     "data": {
      "text/plain": [
       "(6, 0)"
      ]
     },
     "execution_count": 2,
     "metadata": {},
     "output_type": "execute_result"
    }
   ],
   "source": [
    "pygame.init()"
   ]
  },
  {
   "cell_type": "code",
   "execution_count": 3,
   "metadata": {},
   "outputs": [],
   "source": [
    "screen = pygame.display.set_mode((600,800))"
   ]
  },
  {
   "cell_type": "code",
   "execution_count": 4,
   "metadata": {},
   "outputs": [],
   "source": [
    "pygame.display.set_caption(\"Fish-Fish\")"
   ]
  },
  {
   "cell_type": "raw",
   "metadata": {},
   "source": []
  },
  {
   "cell_type": "code",
   "execution_count": 6,
   "metadata": {},
   "outputs": [],
   "source": [
    "import random\n",
    "pygame.font.init()\n",
    "\n",
    "screen = pygame.display.set_mode((600,800))\n",
    "pygame.display.set_caption(\"Fish-Fish\")\n",
    "\n",
    "x_bird=50\n",
    "y_bird=50\n",
    "width=20\n",
    "height = 10\n",
    "run = True\n",
    "isJump = False\n",
    "jumpcount = 0\n",
    "falling_time = 20\n",
    "start = False\n",
    "bool1 = False\n",
    "bool2 = False\n",
    "Aheightc1 = 300\n",
    "Aheightc2 = 300\n",
    "Bheightc1 = 300\n",
    "Bheightc2 = 300\n",
    "widthc = 50\n",
    "game_time = 0\n",
    "\n",
    "x1=350\n",
    "score = 0\n",
    "max_score = 0\n",
    "x2=550\n",
    "\n",
    "y1_lower=800-Bheightc1\n",
    "\n",
    "y2_lower=800 - Bheightc2\n",
    "font = pygame.font.Font('freesansbold.ttf', 32)\n",
    "text = font.render(str(score), True, (255, 255, 255))\n",
    "text1 = font.render('max score:' + str(max_score), True, (255, 255, 255))\n",
    "textRect = text.get_rect()\n",
    "text1Rect = text1.get_rect()\n",
    "textRect.center = (300,400)\n",
    "text1Rect.center = (300,450)\n",
    "flappy_bird = pygame.image.load('/Users/arseniikhmara/Downloads/flappy_bird_png.png')\n",
    "def generate_heights():\n",
    "    summ = random.randrange(150, 750, 1)\n",
    "    Aheightc = random.randrange(0,summ,1)\n",
    "    Bheightc = summ - Aheightc\n",
    "    return Aheightc ,Bheightc\n",
    "\n",
    "def bird_is_alife():\n",
    "    if y_bird>=800:\n",
    "        return False\n",
    "    if x_bird+20>=x1 and x_bird<=x1+widthc:\n",
    "        if y_bird <= Aheightc1:\n",
    "            return False\n",
    "        if y_bird+10>=800-Bheightc1:\n",
    "            return False\n",
    "    \n",
    "    \n",
    "    if x_bird+20>=x2 and x_bird<=x2+widthc:\n",
    "        if y_bird <= Aheightc2:\n",
    "            return False\n",
    "        if y_bird+10>=800-Bheightc2:\n",
    "            return False\n",
    "    \n",
    "    \n",
    "    return True\n",
    "        \n",
    "    \n",
    "    \n",
    "def move_columns():\n",
    "    global x1\n",
    "    global x2\n",
    "    global Aheightc1\n",
    "    global Bheightc1\n",
    "    global Aheightc2\n",
    "    global Bheightc2\n",
    "    global bool1\n",
    "    global bool2\n",
    "    if x1 <= 0:\n",
    "        x1 = 600\n",
    "        Aheightc1,Bheightc1 = generate_heights()\n",
    "        bool1 = False\n",
    "    if x2 <= 0:\n",
    "        x2 = 600\n",
    "        Aheightc2,Bheightc2 = generate_heights()\n",
    "        bool2 = False\n",
    "    x1-=7*(1+game_time/500)\n",
    "    x2-=7*(1+game_time/500)\n",
    "           \n",
    "def draww_columns():\n",
    "           pygame.draw.rect(screen, (13,210 ,13 ) , (x1,0,widthc,Aheightc1))\n",
    "           pygame.draw.rect(screen, (13,210 , 13), (x2,0,widthc,Aheightc2))\n",
    "           pygame.draw.rect(screen, (13,210, 13) , (x1,800-Bheightc1,widthc,Bheightc1))\n",
    "           pygame.draw.rect(screen, (13,210, 13) , (x2,800-Bheightc2,widthc,Bheightc2))\n",
    "        \n",
    "def achieve_score():\n",
    "    global bool1\n",
    "    global bool2\n",
    "    global score\n",
    "    global text\n",
    "    if x_bird>x1+25 and not bool1:\n",
    "        score +=1\n",
    "        bool1 = True\n",
    "    if x_bird>x2+25 and not bool2:\n",
    "        score +=1\n",
    "        bool2 = True\n",
    "    text = font.render(str(score), True, (255, 255, 255))\n",
    "def max_score_achieve():\n",
    "    global max_score\n",
    "    global text1\n",
    "    max_score = max(max_score,score)\n",
    "    text1 = font.render('max score:' + str(max_score), True, (255, 255, 255))\n",
    "while run:\n",
    "    pygame.time.delay(10)\n",
    "    for event in pygame.event.get():\n",
    "        if event.type == pygame.QUIT:\n",
    "            run = False\n",
    "    keys = pygame.key.get_pressed()\n",
    "    if keys[pygame.K_SPACE]:\n",
    "        start = True\n",
    "    if start:\n",
    "        game_time+=1\n",
    "        jumpcount-=1\n",
    "        if keys[pygame.K_SPACE]:\n",
    "            jumpcount = 10\n",
    "        if bird_is_alife():\n",
    "            achieve_score()\n",
    "            move_columns()\n",
    "            sign = 1\n",
    "            if jumpcount <0:\n",
    "                sign = -1\n",
    "            y_bird-=(jumpcount**2)*sign*0.3\n",
    "            jumpcount-=1\n",
    "        else:\n",
    "            max_score_achieve()\n",
    "            x_bird=50\n",
    "            y_bird=50\n",
    "            width=20\n",
    "            height = 10\n",
    "            run = True\n",
    "            isJump = False\n",
    "            jumpcount = 0\n",
    "            falling_time = 20\n",
    "            start = False\n",
    "            score = 0\n",
    "            text = font.render(str(score), True, (255, 255, 255))\n",
    "            bool1 = False\n",
    "            bool2 = False\n",
    "\n",
    "            Aheightc1 = 300\n",
    "            Aheightc2 = 300\n",
    "            Bheightc1 = 300\n",
    "            Bheightc2 = 300\n",
    "            widthc = 50\n",
    "            game_time = 0\n",
    "            x1=350\n",
    "\n",
    "\n",
    "            x2=550\n",
    "\n",
    "            y1_lower=800-Bheightc1\n",
    "\n",
    "            y2_lower=800 - Bheightc2\n",
    "        \n",
    "    screen.fill((0,0,0))\n",
    "    pygame.draw.rect(screen, (13, 210 , 13) , (x_bird,y_bird,width,height))\n",
    "    draww_columns()\n",
    "    screen.blit(text, textRect)\n",
    "    screen.blit(text1, text1Rect)\n",
    "    screen.blit(flappy_bird,(x_bird-25,y_bird-50))\n",
    "    pygame.display.update()\n",
    "pygame.quit()"
   ]
  },
  {
   "cell_type": "code",
   "execution_count": 3,
   "metadata": {},
   "outputs": [],
   "source": [
    "import random"
   ]
  },
  {
   "cell_type": "code",
   "execution_count": 9,
   "metadata": {},
   "outputs": [
    {
     "name": "stdout",
     "output_type": "stream",
     "text": [
      "['sfnsdisplaycondensedthinotf', 'timesnewromanboldttf', 'applebraillepinpoint8dotttf', 'stixsizfivesymregotf', 'georgiaboldttf', 'bradleyhandboldttf', 'gujaratimtttc', 'newyorkitalicttf', 'pingfangttc', 'brushscriptttf', 'stixintupdregotf', 'stixsizthreesymregotf', 'aquakanattc', 'optimattc', 'ヒラキノ明朝pronttc', 'arialroundedboldttf', 'applemyungjottf', 'newyorkttf', 'alnilettc', 'georgiabolditalicttf', 'stixintupsmbolotf', 'lastresortotf', 'noteworthyttc', 'stixnonunibolitaotf', 'oriyamnttc', 'stixgeneralotf', 'stixintdregotf', 'stixnonuniitaotf', 'gurmukhittf', 'sfnsdisplaycondensedregularotf', 'ヒラキノ角コシックw3ttc', 'stixvarbolotf', 'ptmonottc', 'stixsizthreesymbolotf', 'tamilmnttc', 'avenirttc', 'wingdings3ttf', 'dinalternateboldttf', 'webdingsttf', 'ptserifcaptionttc', 'diwanthuluthttf', 'sfcompactdisplayttf', 'stixsiztwosymbolotf', 'kohinoorbanglattc', 'silomttf', 'sfnstextcondensedlightotf', 'sfnstextcondensedboldotf', 'muktamaheettc', 'stixsizonesymbolotf', 'chalkboardsettc', 'arialnarrowitalicttf', 'gillsansttc', 'keyboardttf', 'galvjittc', 'comicsansmsttf', 'applegothicttf', 'sfnsdisplaycondensedheavyotf', 'stixsiztwosymregotf', 'timesnewromanbolditalicttf', 'symbolttf', 'tahomaboldttf', 'arabicuitextttc', 'sfnsroundedttf', 'notosansmyanmarttc', 'comicsansmsboldttf', 'kohinoorgujaratittc', 'impactttf', 'timesnewromanttf', 'ヒラキノ角コシックw1ttc', 'arabicuidisplayttc', 'songtittc', 'stixintupdbolotf', 'myanmarmnttc', 'ヒラキノ角コシックw8ttc', 'verdanaboldttf', 'sfnsdisplaycondensedultralightotf', 'papyrusttc', 'avenirnextttc', 'notonastaliqttc', 'luminarittf', 'munattc', 'trattatellottf', 'sfnstextcondensedheavyotf', 'stixvarotf', 'sfnstextcondensedsemiboldotf', 'shree714ttc', 'decotypenaskhttc', 'kohinoorttc', 'newpeninimmtttc', 'markerfeltttc', 'sfnsdisplaycondensedblackotf', 'ptserifttc', 'stixsizonesymregotf', 'snellroundhandttc', 'gurmukhisangammnttc', 'sfnsdisplaycondensedlightotf', 'andalemonottf', 'trebuchetmsboldttf', 'helveticaneuedeskinterfacettc', 'charterttc', 'banglasangammnttc', 'copperplatettc', 'nisc18030ttf', 'kokonorttf', 'applesdgothicneottc', 'bodoni72osttc', 'sathuttf', 'sfcompacttextttf', 'khmersangammnttf', 'stixintupsmregotf', 'laomnttc', 'ヒラキノ角コシックw6ttc', 'bodoni72smallcapsbookttf', 'kohinoorteluguttc', 'stixgeneralbolitaotf', 'verdanaitalicttf', 'applebraillettf', 'mshtakanttc', 'sinhalasangammnttc', 'tamilsangammnttc', 'beirutttc', 'sfnsdisplaycondensedsemiboldotf', 'stixsizfoursymregotf', 'stixgeneralbolotf', 'mishafigoldttf', 'verdanabolditalicttf', 'timesttc', 'stixnonunibolotf', 'laosangammnttf', 'chalkboardttc', 'notoserifmyanmarttc', 'kannadamnttc', 'applebrailleoutline6dotttf', 'couriernewboldttf', 'cochinttc', 'sfnsdisplaycondensedmediumotf', 'microsoftsansserifttf', 'thonburittc', 'georgiattf', 'altarikhttc', 'sfnstextcondensedmediumotf', 'couriernewitalicttf', 'ヒラキノ角コシックw4ttc', 'helveticattc', 'corsivattc', 'arialnarrowboldttf', 'arialblackttf', 'raananattc', 'malayalammnttc', 'malayalamsangammnttc', 'oriyasangammnttc', 'signpainterttc', 'phosphatettc', 'itfdevanagarittc', 'savoyeletttc', 'ヒラキノ丸コpronw4ttc', 'zapfinottf', 'devanagarimtttc', 'albayanttc', 'sfnsmonottf', 'lucidagrandettc', 'khmermnttc', 'kufistandardgkttc', 'waseemttc', 'rockwellttc', 'georgiaitalicttf', 'stixintsmregotf', 'herculanumttf', 'notosansjavaneseregularotf', 'avenirnextcondensedttc', 'stheitilightttc', 'ptsansttc', 'ヒラキノ角コシックw2ttc', 'notosanskannadattc', 'sfnstextcondensedregularotf', 'hoeflertextornamentsttf', 'plantagenetcherokeettf', 'dincondensedboldttf', 'ヒラキノ角コシックw9ttc', 'sfnsmonoitalicttf', 'stixintdbolotf', 'futurattc', 'banglamnttc', 'applesymbolsttf', 'couriernewttf', 'telugumnttc', 'chalkdusterttf', 'hiraginosansgbttc', 'farahttc', 'arialttf', 'arialboldttf', 'applechanceryttf', 'stixsizfoursymbolotf', 'arialitalicttf', 'stheitimediumttc', 'geezaprottc', 'mishafittf', 'stixintupregotf', 'bodoniornamentsttf', 'baskervillettc', 'sfnsttf', 'myanmarsangammnttc', 'trebuchetmsbolditalicttf', 'bodoni72ttc', 'sinhalamnttc', 'telugusangammnttc', 'baghdadttc', 'skiattf', 'arialbolditalicttf', 'sfcompactroundedttf', 'wingdingsttf', 'palatinottc', 'diwankufittc', 'stixnonuniotf', 'applebraillepinpoint6dotttf', 'ヒラキノ角コシックw0ttc', 'bigcaslonttf', 'sfnsdisplaycondensedboldotf', 'krungthepttf', 'arialhbttc', 'helveticaneuettc', 'gujaratisangammnttc', 'hoeflertextttc', 'ヒラキノ角コシックw7ttc', 'applebrailleoutline8dotttf', 'tahomattf', 'stixintupbolotf', 'sfnsitalicttf', 'sanattc', 'kailasattc', 'stixintsmbolotf', 'kefattc', 'menlottc', 'ayuthayattf', 'applecoloremojittc', 'damascusttc', 'wingdings2ttf', 'didotttc', 'verdanattf', 'timesnewromanitalicttf', 'couriernewbolditalicttf', 'euphemiacasttc', 'inaimathimnttc', 'sukhumvitsetttc', 'farisittf', 'notosansoriyattc', 'gurmukhimnttc', 'kannadasangammnttc', 'zapfdingbatsttf', 'trebuchetmsitalicttf', 'ヒラキノ角コシックw5ttc', 'devanagarisangammnttc', 'arialnarrowbolditalicttf', 'trebuchetmsttf', 'nadeemttc', 'stixgeneralitalicotf', 'arialunicodettf', 'americantypewriterttc', 'arialnarrowttf', 'sfcompacttextitalicttf']\n"
     ]
    }
   ],
   "source": [
    "print(pygame.font.get_fonts())"
   ]
  },
  {
   "cell_type": "code",
   "execution_count": 11,
   "metadata": {},
   "outputs": [],
   "source": [
    "pygame.font.init()"
   ]
  },
  {
   "cell_type": "code",
   "execution_count": 6,
   "metadata": {},
   "outputs": [
    {
     "data": {
      "text/plain": [
       "<Surface(18x33x32 SW)>"
      ]
     },
     "execution_count": 6,
     "metadata": {},
     "output_type": "execute_result"
    }
   ],
   "source": [
    "text"
   ]
  },
  {
   "cell_type": "code",
   "execution_count": 5,
   "metadata": {},
   "outputs": [],
   "source": [
    "flappy_bird = pygame.image.load('/Users/arseniikhmara/Downloads/flappy_bird_png.png')"
   ]
  },
  {
   "cell_type": "code",
   "execution_count": 8,
   "metadata": {},
   "outputs": [
    {
     "data": {
      "text/plain": [
       "<Surface(2309x2092x32 SW)>"
      ]
     },
     "execution_count": 8,
     "metadata": {},
     "output_type": "execute_result"
    }
   ],
   "source": [
    "flappy_bird"
   ]
  },
  {
   "cell_type": "code",
   "execution_count": null,
   "metadata": {},
   "outputs": [],
   "source": []
  }
 ],
 "metadata": {
  "kernelspec": {
   "display_name": "Python 3",
   "language": "python",
   "name": "python3"
  },
  "language_info": {
   "codemirror_mode": {
    "name": "ipython",
    "version": 3
   },
   "file_extension": ".py",
   "mimetype": "text/x-python",
   "name": "python",
   "nbconvert_exporter": "python",
   "pygments_lexer": "ipython3",
   "version": "3.7.4"
  }
 },
 "nbformat": 4,
 "nbformat_minor": 2
}
