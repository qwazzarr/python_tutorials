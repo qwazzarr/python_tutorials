{
 "cells": [
  {
   "cell_type": "code",
   "execution_count": null,
   "metadata": {},
   "outputs": [],
   "source": [
    "import requests\n",
    "import vk_api\n",
    "\n",
    "vk_session = vk_api.VkApi(token='3905421ccd993cdd912dae8ad0a8e54baa6fd03a244af2eabaab017f1b2f12db09')"
   ]
  },
  {
   "cell_type": "code",
   "execution_count": null,
   "metadata": {},
   "outputs": [],
   "source": [
    "from vk_api.longpoll import VkLongPoll, VkEventType\n",
    "longpoll = VkLongPoll(vk_session)\n",
    "vk = vk_session.get_api()\n",
    "for event in longpoll.listen():\n",
    "    if event.type == VkEventType.MESSAGE_NEW and event.to_me and event.text:\n",
    "   #Слушаем longpoll, если пришло сообщение то:\t\t\t\n",
    "        if event.text == 'Первый вариант фразы' or event.text == 'Второй вариант фразы': #Если написали заданную фразу\n",
    "            if event.from_user: #Если написали в ЛС\n",
    "                vk.messages.send( #Отправляем сообщение\n",
    "                    user_id=event.user_id,\n",
    "                    message='Ваш текст'\n",
    "\t\t)\n",
    "            elif event.from_chat: #Если написали в Беседе\n",
    "                vk.messages.send( #Отправляем собщение\n",
    "                    chat_id=event.chat_id,\n",
    "                    message='Ваш текст'\n",
    "\t\t)"
   ]
  },
  {
   "cell_type": "code",
   "execution_count": 8,
   "metadata": {},
   "outputs": [
    {
     "data": {
      "text/plain": [
       "'w'"
      ]
     },
     "execution_count": 8,
     "metadata": {},
     "output_type": "execute_result"
    }
   ],
   "source": [
    "a = ''\n",
    "b = 'w'\n",
    "a+b"
   ]
  },
  {
   "cell_type": "code",
   "execution_count": 9,
   "metadata": {},
   "outputs": [
    {
     "data": {
      "text/plain": [
       "['1', '2', '3']"
      ]
     },
     "execution_count": 9,
     "metadata": {},
     "output_type": "execute_result"
    }
   ],
   "source": [
    "a = '123'\n",
    "list(a)"
   ]
  },
  {
   "cell_type": "code",
   "execution_count": 58,
   "metadata": {},
   "outputs": [],
   "source": [
    "def ispair(indx,jewels):\n",
    "    score = 0\n",
    "    while indx < len(jewels)-1 :\n",
    "        if jewels[indx] == jewels[indx+1]:\n",
    "            #print(jewels, indx)\n",
    "            del jewels[indx] \n",
    "            del jewels[indx]\n",
    "            indx -=1\n",
    "            if indx <0:\n",
    "                indx = 0\n",
    "            score +=1\n",
    "            #print(jewels)\n",
    "        else:\n",
    "            return score, jewels, indx+1\n",
    "    return score, jewels, indx+1\n",
    "def getMaxScore(jewels):\n",
    "    jewels = list(jewels)\n",
    "    i = 0\n",
    "    score = 0\n",
    "    while i< len(jewels)-1:\n",
    "        lscore , jewels , i  = ispair(i, jewels)\n",
    "        score += lscore\n",
    "        #print(score)\n",
    "        \n",
    "    #print('stop',jewels)\n",
    "    return score"
   ]
  },
  {
   "cell_type": "code",
   "execution_count": 29,
   "metadata": {},
   "outputs": [],
   "source": [
    "test = '''uzpdbuzpdbrlrlelrvwelrvwzaoaooodvjvjtvtvcjcjqbbcqbbcfqcwfqcwegpuegpujjagajjagaddkbkbmbwvimbwviggvvcl\n",
    "          arparpjjdridrisprsprtitiwxwxffhzwhzwxpxpbzxmbbzxmbgghghgiavdiavdwkwkyayryayrgvsgvsmlmljcssjcsscnucnu\n",
    "          jijjijqhbpqhbpgnfbnfbtwrrtwrroaoaqbeqbevtvtztfsztfsydlydlaqcuaqcuxqswxqswttuauaxnoxnojsjjsjununqqyyp\n",
    "          nenegicgicnzblnzbltatabgnbgnxxmntfmntfqxstqqxstqyvveyvvetfktfkepkvepkvkktltlamhmhqqijyijysjjyppfyppf\n",
    "          ngngcvicviukukazrazrfhfhpxgpxgayzcyzcxrajrajosiieemodumoduvolgvolgamamiwiwaxhaxhvvhvhvhzduzdujjrggaa\n",
    "          znistgqezkqikizdhxauxfvumwjdcvshhdrvqyxooujqvnnfaiznistgqezkqikizdhxauxfvumwjdcvshhdrvqyxooujqvnnfai\n",
    "          ffvmgoweggowegjfwvojfwvovvggvzavzajijijkvcwjkvcwpekfwpekfwccffagagqqfgeqqfgezzkveaakveaawazjwazjooyy\n",
    "          ppueuecvucvugrrdpgrrdpvwvwfmklkfmklkwtwwtwicneicnegkcgkcccpprofxrofxnnhcrmvcrmvbtrlubtrlutvntvnjvjvy\n",
    "          rbnkxmlulwrdrtisdawugnwapzexvgeasgjujvnqwfepawehallllzxuntshxgxrxqprbnfibsoypbcgyxmbkysbeiejfnrdftld\n",
    "          nnqcksqcksccnfaunfaubsbsyypnjpnjguvguvwwcyicyiqxcgfqxcgfnnmfzymfzyvevekktxzctxzcjtjtnwqynwqykeesseeq'''"
   ]
  },
  {
   "cell_type": "code",
   "execution_count": 30,
   "metadata": {},
   "outputs": [],
   "source": [
    "test = test.split('\\n          ')"
   ]
  },
  {
   "cell_type": "code",
   "execution_count": 31,
   "metadata": {},
   "outputs": [
    {
     "data": {
      "text/plain": [
       "['uzpdbuzpdbrlrlelrvwelrvwzaoaooodvjvjtvtvcjcjqbbcqbbcfqcwfqcwegpuegpujjagajjagaddkbkbmbwvimbwviggvvcl',\n",
       " 'arparpjjdridrisprsprtitiwxwxffhzwhzwxpxpbzxmbbzxmbgghghgiavdiavdwkwkyayryayrgvsgvsmlmljcssjcsscnucnu',\n",
       " 'jijjijqhbpqhbpgnfbnfbtwrrtwrroaoaqbeqbevtvtztfsztfsydlydlaqcuaqcuxqswxqswttuauaxnoxnojsjjsjununqqyyp',\n",
       " 'nenegicgicnzblnzbltatabgnbgnxxmntfmntfqxstqqxstqyvveyvvetfktfkepkvepkvkktltlamhmhqqijyijysjjyppfyppf',\n",
       " 'ngngcvicviukukazrazrfhfhpxgpxgayzcyzcxrajrajosiieemodumoduvolgvolgamamiwiwaxhaxhvvhvhvhzduzdujjrggaa',\n",
       " 'znistgqezkqikizdhxauxfvumwjdcvshhdrvqyxooujqvnnfaiznistgqezkqikizdhxauxfvumwjdcvshhdrvqyxooujqvnnfai',\n",
       " 'ffvmgoweggowegjfwvojfwvovvggvzavzajijijkvcwjkvcwpekfwpekfwccffagagqqfgeqqfgezzkveaakveaawazjwazjooyy',\n",
       " 'ppueuecvucvugrrdpgrrdpvwvwfmklkfmklkwtwwtwicneicnegkcgkcccpprofxrofxnnhcrmvcrmvbtrlubtrlutvntvnjvjvy',\n",
       " 'rbnkxmlulwrdrtisdawugnwapzexvgeasgjujvnqwfepawehallllzxuntshxgxrxqprbnfibsoypbcgyxmbkysbeiejfnrdftld',\n",
       " 'nnqcksqcksccnfaunfaubsbsyypnjpnjguvguvwwcyicyiqxcgfqxcgfnnmfzymfzyvevekktxzctxzcjtjtnwqynwqykeesseeq']"
      ]
     },
     "execution_count": 31,
     "metadata": {},
     "output_type": "execute_result"
    }
   ],
   "source": [
    "test"
   ]
  },
  {
   "cell_type": "code",
   "execution_count": 61,
   "metadata": {},
   "outputs": [
    {
     "name": "stdout",
     "output_type": "stream",
     "text": [
      "11\n",
      "7\n",
      "11\n",
      "9\n",
      "7\n",
      "6\n",
      "13\n",
      "9\n",
      "2\n",
      "9\n"
     ]
    }
   ],
   "source": [
    "for i in test:\n",
    "    print(getMaxScore(i))"
   ]
  },
  {
   "cell_type": "code",
   "execution_count": 36,
   "metadata": {},
   "outputs": [],
   "source": [
    "11\n",
    "7\n",
    "11\n",
    "9\n",
    "7\n",
    "6\n",
    "13\n",
    "9\n",
    "2\n",
    "9"
   ]
  },
  {
   "cell_type": "code",
   "execution_count": 37,
   "metadata": {},
   "outputs": [],
   "source": [
    "del a[0]"
   ]
  },
  {
   "cell_type": "code",
   "execution_count": 39,
   "metadata": {},
   "outputs": [],
   "source": [
    "b = a "
   ]
  },
  {
   "cell_type": "code",
   "execution_count": 40,
   "metadata": {},
   "outputs": [
    {
     "data": {
      "text/plain": [
       "[]"
      ]
     },
     "execution_count": 40,
     "metadata": {},
     "output_type": "execute_result"
    }
   ],
   "source": [
    "b"
   ]
  },
  {
   "cell_type": "code",
   "execution_count": 15,
   "metadata": {},
   "outputs": [],
   "source": [
    "class A:\n",
    "    def __init__(self,  a, b):\n",
    "        self.a = a\n",
    "        self.b = b\n",
    "    def __repr__(self):\n",
    "        return self.a*self.b"
   ]
  },
  {
   "cell_type": "code",
   "execution_count": 13,
   "metadata": {},
   "outputs": [],
   "source": [
    "b = A(1,2)"
   ]
  },
  {
   "cell_type": "code",
   "execution_count": 3,
   "metadata": {},
   "outputs": [],
   "source": [
    "a = 0.055"
   ]
  },
  {
   "cell_type": "code",
   "execution_count": 7,
   "metadata": {},
   "outputs": [
    {
     "data": {
      "text/plain": [
       "0.05"
      ]
     },
     "execution_count": 7,
     "metadata": {},
     "output_type": "execute_result"
    }
   ],
   "source": [
    "((a*100)//1)/100"
   ]
  },
  {
   "cell_type": "code",
   "execution_count": 16,
   "metadata": {},
   "outputs": [
    {
     "ename": "TypeError",
     "evalue": "__repr__ returned non-string (type int)",
     "output_type": "error",
     "traceback": [
      "\u001b[0;31m---------------------------------------------------------------------------\u001b[0m",
      "\u001b[0;31mTypeError\u001b[0m                                 Traceback (most recent call last)",
      "\u001b[0;32m/opt/anaconda3/lib/python3.7/site-packages/IPython/core/formatters.py\u001b[0m in \u001b[0;36m__call__\u001b[0;34m(self, obj)\u001b[0m\n\u001b[1;32m    700\u001b[0m                 \u001b[0mtype_pprinters\u001b[0m\u001b[0;34m=\u001b[0m\u001b[0mself\u001b[0m\u001b[0;34m.\u001b[0m\u001b[0mtype_printers\u001b[0m\u001b[0;34m,\u001b[0m\u001b[0;34m\u001b[0m\u001b[0;34m\u001b[0m\u001b[0m\n\u001b[1;32m    701\u001b[0m                 deferred_pprinters=self.deferred_printers)\n\u001b[0;32m--> 702\u001b[0;31m             \u001b[0mprinter\u001b[0m\u001b[0;34m.\u001b[0m\u001b[0mpretty\u001b[0m\u001b[0;34m(\u001b[0m\u001b[0mobj\u001b[0m\u001b[0;34m)\u001b[0m\u001b[0;34m\u001b[0m\u001b[0;34m\u001b[0m\u001b[0m\n\u001b[0m\u001b[1;32m    703\u001b[0m             \u001b[0mprinter\u001b[0m\u001b[0;34m.\u001b[0m\u001b[0mflush\u001b[0m\u001b[0;34m(\u001b[0m\u001b[0;34m)\u001b[0m\u001b[0;34m\u001b[0m\u001b[0;34m\u001b[0m\u001b[0m\n\u001b[1;32m    704\u001b[0m             \u001b[0;32mreturn\u001b[0m \u001b[0mstream\u001b[0m\u001b[0;34m.\u001b[0m\u001b[0mgetvalue\u001b[0m\u001b[0;34m(\u001b[0m\u001b[0;34m)\u001b[0m\u001b[0;34m\u001b[0m\u001b[0;34m\u001b[0m\u001b[0m\n",
      "\u001b[0;32m/opt/anaconda3/lib/python3.7/site-packages/IPython/lib/pretty.py\u001b[0m in \u001b[0;36mpretty\u001b[0;34m(self, obj)\u001b[0m\n\u001b[1;32m    400\u001b[0m                         \u001b[0;32mif\u001b[0m \u001b[0mcls\u001b[0m \u001b[0;32mis\u001b[0m \u001b[0;32mnot\u001b[0m \u001b[0mobject\u001b[0m\u001b[0;31m \u001b[0m\u001b[0;31m\\\u001b[0m\u001b[0;34m\u001b[0m\u001b[0;34m\u001b[0m\u001b[0m\n\u001b[1;32m    401\u001b[0m                                 \u001b[0;32mand\u001b[0m \u001b[0mcallable\u001b[0m\u001b[0;34m(\u001b[0m\u001b[0mcls\u001b[0m\u001b[0;34m.\u001b[0m\u001b[0m__dict__\u001b[0m\u001b[0;34m.\u001b[0m\u001b[0mget\u001b[0m\u001b[0;34m(\u001b[0m\u001b[0;34m'__repr__'\u001b[0m\u001b[0;34m)\u001b[0m\u001b[0;34m)\u001b[0m\u001b[0;34m:\u001b[0m\u001b[0;34m\u001b[0m\u001b[0;34m\u001b[0m\u001b[0m\n\u001b[0;32m--> 402\u001b[0;31m                             \u001b[0;32mreturn\u001b[0m \u001b[0m_repr_pprint\u001b[0m\u001b[0;34m(\u001b[0m\u001b[0mobj\u001b[0m\u001b[0;34m,\u001b[0m \u001b[0mself\u001b[0m\u001b[0;34m,\u001b[0m \u001b[0mcycle\u001b[0m\u001b[0;34m)\u001b[0m\u001b[0;34m\u001b[0m\u001b[0;34m\u001b[0m\u001b[0m\n\u001b[0m\u001b[1;32m    403\u001b[0m \u001b[0;34m\u001b[0m\u001b[0m\n\u001b[1;32m    404\u001b[0m             \u001b[0;32mreturn\u001b[0m \u001b[0m_default_pprint\u001b[0m\u001b[0;34m(\u001b[0m\u001b[0mobj\u001b[0m\u001b[0;34m,\u001b[0m \u001b[0mself\u001b[0m\u001b[0;34m,\u001b[0m \u001b[0mcycle\u001b[0m\u001b[0;34m)\u001b[0m\u001b[0;34m\u001b[0m\u001b[0;34m\u001b[0m\u001b[0m\n",
      "\u001b[0;32m/opt/anaconda3/lib/python3.7/site-packages/IPython/lib/pretty.py\u001b[0m in \u001b[0;36m_repr_pprint\u001b[0;34m(obj, p, cycle)\u001b[0m\n\u001b[1;32m    695\u001b[0m     \u001b[0;34m\"\"\"A pprint that just redirects to the normal repr function.\"\"\"\u001b[0m\u001b[0;34m\u001b[0m\u001b[0;34m\u001b[0m\u001b[0m\n\u001b[1;32m    696\u001b[0m     \u001b[0;31m# Find newlines and replace them with p.break_()\u001b[0m\u001b[0;34m\u001b[0m\u001b[0;34m\u001b[0m\u001b[0;34m\u001b[0m\u001b[0m\n\u001b[0;32m--> 697\u001b[0;31m     \u001b[0moutput\u001b[0m \u001b[0;34m=\u001b[0m \u001b[0mrepr\u001b[0m\u001b[0;34m(\u001b[0m\u001b[0mobj\u001b[0m\u001b[0;34m)\u001b[0m\u001b[0;34m\u001b[0m\u001b[0;34m\u001b[0m\u001b[0m\n\u001b[0m\u001b[1;32m    698\u001b[0m     \u001b[0;32mfor\u001b[0m \u001b[0midx\u001b[0m\u001b[0;34m,\u001b[0m\u001b[0moutput_line\u001b[0m \u001b[0;32min\u001b[0m \u001b[0menumerate\u001b[0m\u001b[0;34m(\u001b[0m\u001b[0moutput\u001b[0m\u001b[0;34m.\u001b[0m\u001b[0msplitlines\u001b[0m\u001b[0;34m(\u001b[0m\u001b[0;34m)\u001b[0m\u001b[0;34m)\u001b[0m\u001b[0;34m:\u001b[0m\u001b[0;34m\u001b[0m\u001b[0;34m\u001b[0m\u001b[0m\n\u001b[1;32m    699\u001b[0m         \u001b[0;32mif\u001b[0m \u001b[0midx\u001b[0m\u001b[0;34m:\u001b[0m\u001b[0;34m\u001b[0m\u001b[0;34m\u001b[0m\u001b[0m\n",
      "\u001b[0;31mTypeError\u001b[0m: __repr__ returned non-string (type int)"
     ]
    }
   ],
   "source": [
    "A(1,2)"
   ]
  },
  {
   "cell_type": "code",
   "execution_count": 17,
   "metadata": {},
   "outputs": [
    {
     "data": {
      "text/plain": [
       "[1, 2, 3, 4]"
      ]
     },
     "execution_count": 17,
     "metadata": {},
     "output_type": "execute_result"
    }
   ],
   "source": [
    "a = [1,2,4, 3]\n",
    "sorted(a)"
   ]
  },
  {
   "cell_type": "code",
   "execution_count": 18,
   "metadata": {},
   "outputs": [],
   "source": [
    "a = '1234'"
   ]
  },
  {
   "cell_type": "code",
   "execution_count": 20,
   "metadata": {},
   "outputs": [
    {
     "ename": "TypeError",
     "evalue": "'str' object does not support item assignment",
     "output_type": "error",
     "traceback": [
      "\u001b[0;31m---------------------------------------------------------------------------\u001b[0m",
      "\u001b[0;31mTypeError\u001b[0m                                 Traceback (most recent call last)",
      "\u001b[0;32m<ipython-input-20-e48727b8fd90>\u001b[0m in \u001b[0;36m<module>\u001b[0;34m\u001b[0m\n\u001b[0;32m----> 1\u001b[0;31m \u001b[0ma\u001b[0m\u001b[0;34m[\u001b[0m\u001b[0;36m0\u001b[0m\u001b[0;34m]\u001b[0m \u001b[0;34m=\u001b[0m \u001b[0;34m'2 '\u001b[0m\u001b[0;34m\u001b[0m\u001b[0;34m\u001b[0m\u001b[0m\n\u001b[0m",
      "\u001b[0;31mTypeError\u001b[0m: 'str' object does not support item assignment"
     ]
    }
   ],
   "source": [
    "a[0] = '2 '"
   ]
  },
  {
   "cell_type": "code",
   "execution_count": 27,
   "metadata": {},
   "outputs": [],
   "source": [
    "a= ['1','2','3',]\n",
    "new_list = list(map(int, a))"
   ]
  },
  {
   "cell_type": "code",
   "execution_count": 28,
   "metadata": {},
   "outputs": [
    {
     "data": {
      "text/plain": [
       "[1, 2, 3]"
      ]
     },
     "execution_count": 28,
     "metadata": {},
     "output_type": "execute_result"
    }
   ],
   "source": [
    "new_list"
   ]
  },
  {
   "cell_type": "code",
   "execution_count": 30,
   "metadata": {},
   "outputs": [
    {
     "name": "stdout",
     "output_type": "stream",
     "text": [
      "1\n",
      "2\n"
     ]
    }
   ],
   "source": [
    "for i in filter(bool, range(3)):\n",
    "    print(i)"
   ]
  },
  {
   "cell_type": "code",
   "execution_count": 1,
   "metadata": {},
   "outputs": [
    {
     "data": {
      "text/plain": [
       "3"
      ]
     },
     "execution_count": 1,
     "metadata": {},
     "output_type": "execute_result"
    }
   ],
   "source": [
    "a = 3\n",
    "b = a\n",
    "b = 5\n",
    "a"
   ]
  },
  {
   "cell_type": "code",
   "execution_count": null,
   "metadata": {},
   "outputs": [],
   "source": []
  }
 ],
 "metadata": {
  "kernelspec": {
   "display_name": "Python 3",
   "language": "python",
   "name": "python3"
  },
  "language_info": {
   "codemirror_mode": {
    "name": "ipython",
    "version": 3
   },
   "file_extension": ".py",
   "mimetype": "text/x-python",
   "name": "python",
   "nbconvert_exporter": "python",
   "pygments_lexer": "ipython3",
   "version": "3.7.4"
  }
 },
 "nbformat": 4,
 "nbformat_minor": 4
}
