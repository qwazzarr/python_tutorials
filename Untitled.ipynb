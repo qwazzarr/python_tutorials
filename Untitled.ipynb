{
 "cells": [
  {
   "cell_type": "code",
   "execution_count": 105,
   "metadata": {},
   "outputs": [],
   "source": [
    "import requests\n",
    "import vk_api\n",
    "\n",
    "vk_session = vk_api.VkApi(token='3905421ccd993cdd912dae8ad0a8e54baa6fd03a244af2eabaab017f1b2f12db093fd763e800aa4b0631b')"
   ]
  },
  {
   "cell_type": "code",
   "execution_count": null,
   "metadata": {},
   "outputs": [],
   "source": []
  },
  {
   "cell_type": "code",
   "execution_count": null,
   "metadata": {},
   "outputs": [],
   "source": [
    "from vk_api.longpoll import VkLongPoll, VkEventType\n",
    "longpoll = VkLongPoll(vk_session)\n",
    "vk = vk_session.get_api()\n",
    "for event in longpoll.listen():\n",
    "    if event.type == VkEventType.MESSAGE_NEW and event.to_me and event.text:\n",
    "   #Слушаем longpoll, если пришло сообщение то:\t\t\t\n",
    "        if event.text == 'Привет' or event.text == 'Hello': #Если написали заданную фразу\n",
    "            if event.from_user: #Если написали в ЛС\n",
    "                vk.messages.send( #Отправляем сообщение\n",
    "                    user_id=event.user_id,\n",
    "                    random_id=event.random_id,\n",
    "                    message='Возможно тебе не интерестно, но Гастабот лучший бот в этой вселенной !'\n",
    "\t\t)\n",
    "        elif event.text =='На ком мне поиграть?':\n",
    "            if event.from_user: #Если написали в ЛС\n",
    "                vk.messages.send( #Отправляем сообщение\n",
    "                    user_id=event.user_id,\n",
    "                    random_id=event.random_id,\n",
    "                    message='Однозначно, мидовая течка! ')\n",
    "        elif event.text !='Привет': #Если написали заданную фразу\n",
    "            if event.from_user: #Если написали в ЛС\n",
    "                vk.messages.send( #Отправляем сообщение\n",
    "                    user_id=event.user_id,\n",
    "                    random_id=event.random_id,\n",
    "                    \n",
    "                    message='Вначале приветствие , молодой джентльмен! ')"
   ]
  },
  {
   "cell_type": "code",
   "execution_count": 48,
   "metadata": {},
   "outputs": [],
   "source": [
    "import random"
   ]
  },
  {
   "cell_type": "code",
   "execution_count": 49,
   "metadata": {},
   "outputs": [],
   "source": [
    "heroes = ['Sven','Ursa']"
   ]
  },
  {
   "cell_type": "code",
   "execution_count": 58,
   "metadata": {},
   "outputs": [
    {
     "data": {
      "text/plain": [
       "'Ursa'"
      ]
     },
     "execution_count": 58,
     "metadata": {},
     "output_type": "execute_result"
    }
   ],
   "source": [
    "b = random.choice(heroes)\n",
    "b"
   ]
  },
  {
   "cell_type": "code",
   "execution_count": 1,
   "metadata": {},
   "outputs": [
    {
     "ename": "NameError",
     "evalue": "name 'data' is not defined",
     "output_type": "error",
     "traceback": [
      "\u001b[0;31m---------------------------------------------------------------------------\u001b[0m",
      "\u001b[0;31mNameError\u001b[0m                                 Traceback (most recent call last)",
      "\u001b[0;32m<ipython-input-1-c5d84736ba45>\u001b[0m in \u001b[0;36m<module>\u001b[0;34m\u001b[0m\n\u001b[0;32m----> 1\u001b[0;31m \u001b[0mdata\u001b[0m\u001b[0;34m\u001b[0m\u001b[0;34m\u001b[0m\u001b[0m\n\u001b[0m",
      "\u001b[0;31mNameError\u001b[0m: name 'data' is not defined"
     ]
    }
   ],
   "source": [
    "data"
   ]
  },
  {
   "cell_type": "code",
   "execution_count": 30,
   "metadata": {},
   "outputs": [],
   "source": [
    "\n",
    "import numpy as np\n",
    "import pandas\n",
    "data = open('Heroes.rtf').read()"
   ]
  },
  {
   "cell_type": "code",
   "execution_count": 20,
   "metadata": {},
   "outputs": [
    {
     "data": {
      "text/plain": [
       "'{\\\\rtf1\\\\ansi\\\\ansicpg1252\\\\cocoartf2511\\n\\\\cocoatextscaling0\\\\cocoaplatform0{\\\\fonttbl\\\\f0\\\\fswiss\\\\fcharset0 Helvetica;}\\n{\\\\colortbl;\\\\red255\\\\green255\\\\blue255;}\\n{\\\\*\\\\expandedcolortbl;;}\\n\\\\paperw11900\\\\paperh16840\\\\margl1440\\\\margr1440\\\\vieww10800\\\\viewh8400\\\\viewkind0\\n\\\\pard\\\\tx566\\\\tx1133\\\\tx1700\\\\tx2267\\\\tx2834\\\\tx3401\\\\tx3968\\\\tx4535\\\\tx5102\\\\tx5669\\\\tx6236\\\\tx6803\\\\pardirnatural\\\\partightenfactor0\\n\\n\\\\f0\\\\fs24 \\\\cf0 Abaddon\\\\\\n\\\\\\nAlchemist\\\\\\n\\\\\\nAxe\\\\\\n\\\\\\nBeastmaster\\\\\\n\\\\\\nBrewmaster\\\\\\nBristleback icon.png\\\\\\nBristleback\\\\\\nCentaur Warrunner icon.png\\\\\\nCentaur Warrunner\\\\\\nChaos Knight icon.png\\\\\\nChaos Knight\\\\\\nClockwerk icon.png\\\\\\nClockwerk\\\\\\nDoom icon.png\\\\\\nDoom\\\\\\nDragon Knight icon.png\\\\\\nDragon Knight\\\\\\nEarth Spirit icon.png\\\\\\nEarth Spirit\\\\\\nEarthshaker icon.png\\\\\\nEarthshaker\\\\\\nElder Titan icon.png\\\\\\nElder Titan\\\\\\nHuskar icon.png\\\\\\nHuskar\\\\\\nIo icon.png\\\\\\nIo\\\\\\nKunkka icon.png\\\\\\nKunkka\\\\\\nLegion Commander icon.png\\\\\\nLegion Commander\\\\\\nLifestealer icon.png\\\\\\nLifestealer\\\\\\nLycan icon.png\\\\\\nLycan\\\\\\nMagnus icon.png\\\\\\nMagnus\\\\\\nMars icon.png\\\\\\nMars\\\\\\nNight Stalker icon.png\\\\\\nNight Stalker\\\\\\nOmniknight icon.png\\\\\\nOmniknight\\\\\\nPhoenix icon.png\\\\\\nPhoenix\\\\\\nPudge icon.png\\\\\\nPudge\\\\\\nSand King icon.png\\\\\\nSand King\\\\\\nSlardar icon.png\\\\\\nSlardar\\\\\\nSnapfire icon.png\\\\\\nSnapfire\\\\\\nSpirit Breaker icon.png\\\\\\nSpirit Breaker\\\\\\nSven icon.png\\\\\\nSven\\\\\\nTidehunter icon.png\\\\\\nTidehunter\\\\\\nTimbersaw icon.png\\\\\\nTimbersaw\\\\\\nTiny icon.png\\\\\\nTiny\\\\\\nTreant Protector icon.png\\\\\\nTreant Protector\\\\\\nTusk icon.png\\\\\\nTusk\\\\\\nUnderlord icon.png\\\\\\nUnderlord\\\\\\nUndying icon.png\\\\\\nUndying\\\\\\nWraith King icon.png\\\\\\nWraith King\\\\\\n Agility attribute symbol.png Agility\\\\\\nAnti-Mage icon.png\\\\\\nAnti-Mage\\\\\\n\\\\\\nArc Warden\\\\\\n\\\\\\nBloodseeker\\\\\\n\\\\\\nBounty Hunter\\\\\\n\\\\\\nBroodmother\\\\\\n\\\\\\nClinkz\\\\\\n\\\\\\nDrow Ranger\\\\\\n\\\\\\nEmber Spirit\\\\\\n\\\\\\nFaceless Void\\\\\\n\\\\\\nGyrocopter\\\\\\n\\\\\\nJuggernaut\\\\\\n\\\\\\nLone Druid\\\\\\n\\\\\\nLuna\\\\\\n\\\\\\nMedusa\\\\\\n\\\\\\nMeepo\\\\\\n\\\\\\nMirana\\\\\\n\\\\\\nMonkey King\\\\\\n\\\\\\nMorphling\\\\\\n\\\\\\nNaga Siren\\\\\\n\\\\\\nNyx Assassin\\\\\\n\\\\\\nPangolier\\\\\\n\\\\\\nPhantom Assassin\\\\\\n\\\\\\nPhantom Lancer\\\\\\n\\\\\\nRazor\\\\\\n\\\\\\nRiki\\\\\\n\\\\\\nShadow Fiend\\\\\\n\\\\\\nSlark\\\\\\n\\\\\\nSniper\\\\\\n\\\\\\nSpectre\\\\\\n\\\\\\nTemplar Assassin\\\\\\n\\\\\\nTerrorblade\\\\\\n\\\\\\nTroll Warlord\\\\\\n\\\\\\nUrsa\\\\\\n\\\\\\nVengeful Spirit\\\\\\n\\\\\\nVenomancer\\\\\\n\\\\\\nViper\\\\\\n\\\\\\nWeaver\\\\\\n\\\\\\n\\\\\\nAncient Apparition\\\\\\n\\\\\\nBane\\\\\\n\\\\\\nBatrider\\\\\\n\\\\\\n\\\\\\nCrystal Maiden\\\\\\n\\\\\\nDark Seer\\\\\\n\\\\\\nDark Willow\\\\\\n\\\\\\nDazzle\\\\\\n\\\\\\nDeath Prophet\\\\\\n\\\\\\nDisruptor\\\\\\n\\\\\\nEnchantress\\\\\\n\\\\\\nEnigma\\\\\\n\\\\\\nGrimstroke\\\\\\n\\\\\\nInvoker\\\\\\n\\\\\\nJakiro\\\\\\n\\\\\\nKeeper of the Light\\\\\\n\\\\\\nLeshrac\\\\\\n\\\\\\nLich\\\\\\n\\\\\\nLina\\\\\\n\\\\\\nLion\\\\\\n\\\\\\nNature Prophet\\\\\\n\\\\\\nNecrophos\\\\\\n\\\\\\nOgre Magi\\\\\\n\\\\\\nOracle\\\\\\n\\\\\\nOutworld Devourer\\\\\\n\\\\\\nPuck\\\\\\n\\\\\\nPugna\\\\\\n\\\\\\nQueen of Pain\\\\\\n\\\\\\nRubick\\\\\\n\\\\\\nShadow Demon\\\\\\n\\\\\\nShadow Shaman\\\\\\n\\\\\\nSilencer\\\\\\n\\\\\\nSkywrath Mage\\\\\\n\\\\\\nStorm Spirit\\\\\\n\\\\\\nTechies\\\\\\n\\\\\\nTinker\\\\\\n\\\\\\nVisage\\\\\\n\\\\\\nVoid Spirit\\\\\\n\\\\\\nWarlock\\\\\\n\\\\\\nWindranger\\\\\\n\\\\\\nWinter Wyvern\\\\\\n\\\\\\nWitch Doctor\\\\\\n\\\\\\n}'"
      ]
     },
     "execution_count": 20,
     "metadata": {},
     "output_type": "execute_result"
    }
   ],
   "source": [
    "data"
   ]
  },
  {
   "cell_type": "code",
   "execution_count": 32,
   "metadata": {},
   "outputs": [],
   "source": [
    "data =data.split('\\\\')"
   ]
  },
  {
   "cell_type": "code",
   "execution_count": 43,
   "metadata": {},
   "outputs": [
    {
     "data": {
      "text/plain": [
       "'cf0 Abaddon'"
      ]
     },
     "execution_count": 43,
     "metadata": {},
     "output_type": "execute_result"
    }
   ],
   "source": [
    "data[41]"
   ]
  },
  {
   "cell_type": "code",
   "execution_count": 44,
   "metadata": {},
   "outputs": [],
   "source": [
    "b = 'asdadd'"
   ]
  },
  {
   "cell_type": "code",
   "execution_count": 47,
   "metadata": {},
   "outputs": [],
   "source": [
    "if 'asa' in b:\n",
    "    print('Yes')"
   ]
  },
  {
   "cell_type": "code",
   "execution_count": 48,
   "metadata": {},
   "outputs": [],
   "source": [
    "b = 'bb'"
   ]
  },
  {
   "cell_type": "code",
   "execution_count": 49,
   "metadata": {},
   "outputs": [
    {
     "data": {
      "text/plain": [
       "''"
      ]
     },
     "execution_count": 49,
     "metadata": {},
     "output_type": "execute_result"
    }
   ],
   "source": [
    "b[2:]"
   ]
  },
  {
   "cell_type": "code",
   "execution_count": 69,
   "metadata": {},
   "outputs": [],
   "source": [
    "for i in range(43,279):\n",
    "    if 'png' not in data[i]:\n",
    "        heroess.append(data[i])"
   ]
  },
  {
   "cell_type": "code",
   "execution_count": 50,
   "metadata": {},
   "outputs": [
    {
     "data": {
      "text/plain": [
       "279"
      ]
     },
     "execution_count": 50,
     "metadata": {},
     "output_type": "execute_result"
    }
   ],
   "source": [
    "len(data)"
   ]
  },
  {
   "cell_type": "code",
   "execution_count": 68,
   "metadata": {},
   "outputs": [],
   "source": [
    "heroess = []"
   ]
  },
  {
   "cell_type": "code",
   "execution_count": 71,
   "metadata": {},
   "outputs": [],
   "source": [
    "for i in range(200):\n",
    "    b = heroess[i]\n",
    "    b = b[1:]\n",
    "    heroess[i] = b"
   ]
  },
  {
   "cell_type": "code",
   "execution_count": 64,
   "metadata": {},
   "outputs": [
    {
     "data": {
      "text/plain": [
       "200"
      ]
     },
     "execution_count": 64,
     "metadata": {},
     "output_type": "execute_result"
    }
   ],
   "source": [
    "len(heroess)"
   ]
  },
  {
   "cell_type": "code",
   "execution_count": 72,
   "metadata": {},
   "outputs": [
    {
     "data": {
      "text/plain": [
       "['Alchemist',\n",
       " '',\n",
       " 'Axe',\n",
       " '',\n",
       " 'Beastmaster',\n",
       " '',\n",
       " 'Brewmaster',\n",
       " 'Bristleback',\n",
       " 'Centaur Warrunner',\n",
       " 'Chaos Knight',\n",
       " 'Clockwerk',\n",
       " 'Doom',\n",
       " 'Dragon Knight',\n",
       " 'Earth Spirit',\n",
       " 'Earthshaker',\n",
       " 'Elder Titan',\n",
       " 'Huskar',\n",
       " 'Io',\n",
       " 'Kunkka',\n",
       " 'Legion Commander',\n",
       " 'Lifestealer',\n",
       " 'Lycan',\n",
       " 'Magnus',\n",
       " 'Mars',\n",
       " 'Night Stalker',\n",
       " 'Omniknight',\n",
       " 'Phoenix',\n",
       " 'Pudge',\n",
       " 'Sand King',\n",
       " 'Slardar',\n",
       " 'Snapfire',\n",
       " 'Spirit Breaker',\n",
       " 'Sven',\n",
       " 'Tidehunter',\n",
       " 'Timbersaw',\n",
       " 'Tiny',\n",
       " 'Treant Protector',\n",
       " 'Tusk',\n",
       " 'Underlord',\n",
       " 'Undying',\n",
       " 'Wraith King',\n",
       " 'Anti-Mage',\n",
       " '',\n",
       " 'Arc Warden',\n",
       " '',\n",
       " 'Bloodseeker',\n",
       " '',\n",
       " 'Bounty Hunter',\n",
       " '',\n",
       " 'Broodmother',\n",
       " '',\n",
       " 'Clinkz',\n",
       " '',\n",
       " 'Drow Ranger',\n",
       " '',\n",
       " 'Ember Spirit',\n",
       " '',\n",
       " 'Faceless Void',\n",
       " '',\n",
       " 'Gyrocopter',\n",
       " '',\n",
       " 'Juggernaut',\n",
       " '',\n",
       " 'Lone Druid',\n",
       " '',\n",
       " 'Luna',\n",
       " '',\n",
       " 'Medusa',\n",
       " '',\n",
       " 'Meepo',\n",
       " '',\n",
       " 'Mirana',\n",
       " '',\n",
       " 'Monkey King',\n",
       " '',\n",
       " 'Morphling',\n",
       " '',\n",
       " 'Naga Siren',\n",
       " '',\n",
       " 'Nyx Assassin',\n",
       " '',\n",
       " 'Pangolier',\n",
       " '',\n",
       " 'Phantom Assassin',\n",
       " '',\n",
       " 'Phantom Lancer',\n",
       " '',\n",
       " 'Razor',\n",
       " '',\n",
       " 'Riki',\n",
       " '',\n",
       " 'Shadow Fiend',\n",
       " '',\n",
       " 'Slark',\n",
       " '',\n",
       " 'Sniper',\n",
       " '',\n",
       " 'Spectre',\n",
       " '',\n",
       " 'Templar Assassin',\n",
       " '',\n",
       " 'Terrorblade',\n",
       " '',\n",
       " 'Troll Warlord',\n",
       " '',\n",
       " 'Ursa',\n",
       " '',\n",
       " 'Vengeful Spirit',\n",
       " '',\n",
       " 'Venomancer',\n",
       " '',\n",
       " 'Viper',\n",
       " '',\n",
       " 'Weaver',\n",
       " '',\n",
       " '',\n",
       " 'Ancient Apparition',\n",
       " '',\n",
       " 'Bane',\n",
       " '',\n",
       " 'Batrider',\n",
       " '',\n",
       " '',\n",
       " 'Crystal Maiden',\n",
       " '',\n",
       " 'Dark Seer',\n",
       " '',\n",
       " 'Dark Willow',\n",
       " '',\n",
       " 'Dazzle',\n",
       " '',\n",
       " 'Death Prophet',\n",
       " '',\n",
       " 'Disruptor',\n",
       " '',\n",
       " 'Enchantress',\n",
       " '',\n",
       " 'Enigma',\n",
       " '',\n",
       " 'Grimstroke',\n",
       " '',\n",
       " 'Invoker',\n",
       " '',\n",
       " 'Jakiro',\n",
       " '',\n",
       " 'Keeper of the Light',\n",
       " '',\n",
       " 'Leshrac',\n",
       " '',\n",
       " 'Lich',\n",
       " '',\n",
       " 'Lina',\n",
       " '',\n",
       " 'Lion',\n",
       " '',\n",
       " 'Nature Prophet',\n",
       " '',\n",
       " 'Necrophos',\n",
       " '',\n",
       " 'Ogre Magi',\n",
       " '',\n",
       " 'Oracle',\n",
       " '',\n",
       " 'Outworld Devourer',\n",
       " '',\n",
       " 'Puck',\n",
       " '',\n",
       " 'Pugna',\n",
       " '',\n",
       " 'Queen of Pain',\n",
       " '',\n",
       " 'Rubick',\n",
       " '',\n",
       " 'Shadow Demon',\n",
       " '',\n",
       " 'Shadow Shaman',\n",
       " '',\n",
       " 'Silencer',\n",
       " '',\n",
       " 'Skywrath Mage',\n",
       " '',\n",
       " 'Storm Spirit',\n",
       " '',\n",
       " 'Techies',\n",
       " '',\n",
       " 'Tinker',\n",
       " '',\n",
       " 'Visage',\n",
       " '',\n",
       " 'Void Spirit',\n",
       " '',\n",
       " 'Warlock',\n",
       " '',\n",
       " 'Windranger',\n",
       " '',\n",
       " 'Winter Wyvern',\n",
       " '',\n",
       " 'Witch Doctor',\n",
       " '',\n",
       " '}']"
      ]
     },
     "execution_count": 72,
     "metadata": {},
     "output_type": "execute_result"
    }
   ],
   "source": [
    "heroess"
   ]
  },
  {
   "cell_type": "code",
   "execution_count": 73,
   "metadata": {},
   "outputs": [
    {
     "name": "stdout",
     "output_type": "stream",
     "text": [
      "s\n"
     ]
    }
   ],
   "source": [
    "d = ''\n",
    "if d:\n",
    "    print('b')\n",
    "else:\n",
    "    print('s')"
   ]
  },
  {
   "cell_type": "code",
   "execution_count": 87,
   "metadata": {},
   "outputs": [],
   "source": [
    "for i in range(118):\n",
    "    if not heroess[i]:\n",
    "        del heroess[i]"
   ]
  },
  {
   "cell_type": "code",
   "execution_count": 77,
   "metadata": {},
   "outputs": [],
   "source": [
    "ad = ['b','d']\n",
    "del ad[0]"
   ]
  },
  {
   "cell_type": "code",
   "execution_count": 78,
   "metadata": {},
   "outputs": [
    {
     "data": {
      "text/plain": [
       "['d']"
      ]
     },
     "execution_count": 78,
     "metadata": {},
     "output_type": "execute_result"
    }
   ],
   "source": [
    "ad"
   ]
  },
  {
   "cell_type": "code",
   "execution_count": 88,
   "metadata": {},
   "outputs": [
    {
     "data": {
      "text/plain": [
       "['Alchemist',\n",
       " 'Axe',\n",
       " 'Beastmaster',\n",
       " 'Brewmaster',\n",
       " 'Bristleback',\n",
       " 'Centaur Warrunner',\n",
       " 'Chaos Knight',\n",
       " 'Clockwerk',\n",
       " 'Doom',\n",
       " 'Dragon Knight',\n",
       " 'Earth Spirit',\n",
       " 'Earthshaker',\n",
       " 'Elder Titan',\n",
       " 'Huskar',\n",
       " 'Io',\n",
       " 'Kunkka',\n",
       " 'Legion Commander',\n",
       " 'Lifestealer',\n",
       " 'Lycan',\n",
       " 'Magnus',\n",
       " 'Mars',\n",
       " 'Night Stalker',\n",
       " 'Omniknight',\n",
       " 'Phoenix',\n",
       " 'Pudge',\n",
       " 'Sand King',\n",
       " 'Slardar',\n",
       " 'Snapfire',\n",
       " 'Spirit Breaker',\n",
       " 'Sven',\n",
       " 'Tidehunter',\n",
       " 'Timbersaw',\n",
       " 'Tiny',\n",
       " 'Treant Protector',\n",
       " 'Tusk',\n",
       " 'Underlord',\n",
       " 'Undying',\n",
       " 'Wraith King',\n",
       " 'Anti-Mage',\n",
       " 'Arc Warden',\n",
       " 'Bloodseeker',\n",
       " 'Bounty Hunter',\n",
       " 'Broodmother',\n",
       " 'Clinkz',\n",
       " 'Drow Ranger',\n",
       " 'Ember Spirit',\n",
       " 'Faceless Void',\n",
       " 'Gyrocopter',\n",
       " 'Juggernaut',\n",
       " 'Lone Druid',\n",
       " 'Luna',\n",
       " 'Medusa',\n",
       " 'Meepo',\n",
       " 'Mirana',\n",
       " 'Monkey King',\n",
       " 'Morphling',\n",
       " 'Naga Siren',\n",
       " 'Nyx Assassin',\n",
       " 'Pangolier',\n",
       " 'Phantom Assassin',\n",
       " 'Phantom Lancer',\n",
       " 'Razor',\n",
       " 'Riki',\n",
       " 'Shadow Fiend',\n",
       " 'Slark',\n",
       " 'Sniper',\n",
       " 'Spectre',\n",
       " 'Templar Assassin',\n",
       " 'Terrorblade',\n",
       " 'Troll Warlord',\n",
       " 'Ursa',\n",
       " 'Vengeful Spirit',\n",
       " 'Venomancer',\n",
       " 'Viper',\n",
       " 'Weaver',\n",
       " 'Ancient Apparition',\n",
       " 'Bane',\n",
       " 'Batrider',\n",
       " 'Crystal Maiden',\n",
       " 'Dark Seer',\n",
       " 'Dark Willow',\n",
       " 'Dazzle',\n",
       " 'Death Prophet',\n",
       " 'Disruptor',\n",
       " 'Enchantress',\n",
       " 'Enigma',\n",
       " 'Grimstroke',\n",
       " 'Invoker',\n",
       " 'Jakiro',\n",
       " 'Keeper of the Light',\n",
       " 'Leshrac',\n",
       " 'Lich',\n",
       " 'Lina',\n",
       " 'Lion',\n",
       " 'Nature Prophet',\n",
       " 'Necrophos',\n",
       " 'Ogre Magi',\n",
       " 'Oracle',\n",
       " 'Outworld Devourer',\n",
       " 'Puck',\n",
       " 'Pugna',\n",
       " 'Queen of Pain',\n",
       " 'Rubick',\n",
       " 'Shadow Demon',\n",
       " 'Shadow Shaman',\n",
       " 'Silencer',\n",
       " 'Skywrath Mage',\n",
       " 'Storm Spirit',\n",
       " 'Techies',\n",
       " 'Tinker',\n",
       " 'Visage',\n",
       " 'Void Spirit',\n",
       " 'Warlock',\n",
       " 'Windranger',\n",
       " 'Winter Wyvern',\n",
       " 'Witch Doctor',\n",
       " '}',\n",
       " 'Abbadon']"
      ]
     },
     "execution_count": 88,
     "metadata": {},
     "output_type": "execute_result"
    }
   ],
   "source": [
    "heroess"
   ]
  },
  {
   "cell_type": "code",
   "execution_count": 81,
   "metadata": {},
   "outputs": [],
   "source": [
    "heroess.append('Abbadon')"
   ]
  },
  {
   "cell_type": "code",
   "execution_count": 136,
   "metadata": {},
   "outputs": [
    {
     "data": {
      "text/plain": [
       "118"
      ]
     },
     "execution_count": 136,
     "metadata": {},
     "output_type": "execute_result"
    }
   ],
   "source": [
    "len(heroess)"
   ]
  },
  {
   "cell_type": "code",
   "execution_count": 89,
   "metadata": {},
   "outputs": [
    {
     "ename": "AttributeError",
     "evalue": "'list' object has no attribute 'find'",
     "output_type": "error",
     "traceback": [
      "\u001b[0;31m---------------------------------------------------------------------------\u001b[0m",
      "\u001b[0;31mAttributeError\u001b[0m                            Traceback (most recent call last)",
      "\u001b[0;32m<ipython-input-89-33ac17c93bfc>\u001b[0m in \u001b[0;36m<module>\u001b[0;34m\u001b[0m\n\u001b[0;32m----> 1\u001b[0;31m \u001b[0mheroess\u001b[0m\u001b[0;34m.\u001b[0m\u001b[0mfind\u001b[0m\u001b[0;34m(\u001b[0m\u001b[0;34m'Void Spirit'\u001b[0m\u001b[0;34m)\u001b[0m\u001b[0;34m\u001b[0m\u001b[0;34m\u001b[0m\u001b[0m\n\u001b[0m",
      "\u001b[0;31mAttributeError\u001b[0m: 'list' object has no attribute 'find'"
     ]
    }
   ],
   "source": [
    "heroess.find('Void Spirit')"
   ]
  },
  {
   "cell_type": "code",
   "execution_count": 101,
   "metadata": {},
   "outputs": [
    {
     "name": "stdout",
     "output_type": "stream",
     "text": [
      "ХУЙ\n"
     ]
    }
   ],
   "source": [
    "for i in heroess:\n",
    "    if i == 'Zeus':\n",
    "        print('ХУЙ')"
   ]
  },
  {
   "cell_type": "code",
   "execution_count": 96,
   "metadata": {},
   "outputs": [
    {
     "ename": "IndexError",
     "evalue": "list index out of range",
     "output_type": "error",
     "traceback": [
      "\u001b[0;31m---------------------------------------------------------------------------\u001b[0m",
      "\u001b[0;31mIndexError\u001b[0m                                Traceback (most recent call last)",
      "\u001b[0;32m<ipython-input-96-461094869cd9>\u001b[0m in \u001b[0;36m<module>\u001b[0;34m\u001b[0m\n\u001b[1;32m      1\u001b[0m \u001b[0;32mfor\u001b[0m \u001b[0mi\u001b[0m \u001b[0;32min\u001b[0m \u001b[0mrange\u001b[0m\u001b[0;34m(\u001b[0m\u001b[0;36m118\u001b[0m\u001b[0;34m)\u001b[0m\u001b[0;34m:\u001b[0m\u001b[0;34m\u001b[0m\u001b[0;34m\u001b[0m\u001b[0m\n\u001b[0;32m----> 2\u001b[0;31m     \u001b[0;32mif\u001b[0m \u001b[0mheroess\u001b[0m\u001b[0;34m[\u001b[0m\u001b[0mi\u001b[0m\u001b[0;34m]\u001b[0m \u001b[0;34m==\u001b[0m \u001b[0;34m'}'\u001b[0m\u001b[0;34m:\u001b[0m\u001b[0;34m\u001b[0m\u001b[0;34m\u001b[0m\u001b[0m\n\u001b[0m\u001b[1;32m      3\u001b[0m         \u001b[0;32mdel\u001b[0m \u001b[0mheroess\u001b[0m\u001b[0;34m[\u001b[0m\u001b[0mi\u001b[0m\u001b[0;34m]\u001b[0m\u001b[0;34m\u001b[0m\u001b[0;34m\u001b[0m\u001b[0m\n",
      "\u001b[0;31mIndexError\u001b[0m: list index out of range"
     ]
    }
   ],
   "source": [
    "for i in range(118):\n",
    "    if heroess[i] == '}':\n",
    "        del heroess[i]"
   ]
  },
  {
   "cell_type": "code",
   "execution_count": 100,
   "metadata": {},
   "outputs": [],
   "source": [
    "heroess.append('Zeus')"
   ]
  },
  {
   "cell_type": "code",
   "execution_count": 102,
   "metadata": {},
   "outputs": [
    {
     "data": {
      "text/plain": [
       "118"
      ]
     },
     "execution_count": 102,
     "metadata": {},
     "output_type": "execute_result"
    }
   ],
   "source": [
    "len(heroess)"
   ]
  },
  {
   "cell_type": "code",
   "execution_count": 138,
   "metadata": {},
   "outputs": [
    {
     "data": {
      "text/plain": [
       "['Alchemist',\n",
       " 'Axe',\n",
       " 'Beastmaster',\n",
       " 'Brewmaster',\n",
       " 'Bristleback',\n",
       " 'Centaur Warrunner',\n",
       " 'Chaos Knight',\n",
       " 'Clockwerk',\n",
       " 'Doom',\n",
       " 'Dragon Knight',\n",
       " 'Earth Spirit',\n",
       " 'Earthshaker',\n",
       " 'Elder Titan',\n",
       " 'Huskar',\n",
       " 'Io',\n",
       " 'Kunkka',\n",
       " 'Legion Commander',\n",
       " 'Lifestealer',\n",
       " 'Lycan',\n",
       " 'Magnus',\n",
       " 'Mars',\n",
       " 'Night Stalker',\n",
       " 'Omniknight',\n",
       " 'Phoenix',\n",
       " 'Pudge',\n",
       " 'Sand King',\n",
       " 'Slardar',\n",
       " 'Snapfire',\n",
       " 'Spirit Breaker',\n",
       " 'Sven',\n",
       " 'Tidehunter',\n",
       " 'Timbersaw',\n",
       " 'Tiny',\n",
       " 'Treant Protector',\n",
       " 'Tusk',\n",
       " 'Underlord',\n",
       " 'Undying',\n",
       " 'Wraith King',\n",
       " 'Anti-Mage',\n",
       " 'Arc Warden',\n",
       " 'Bloodseeker',\n",
       " 'Bounty Hunter',\n",
       " 'Broodmother',\n",
       " 'Clinkz',\n",
       " 'Drow Ranger',\n",
       " 'Ember Spirit',\n",
       " 'Faceless Void',\n",
       " 'Gyrocopter',\n",
       " 'Juggernaut',\n",
       " 'Lone Druid',\n",
       " 'Luna',\n",
       " 'Medusa',\n",
       " 'Meepo',\n",
       " 'Mirana',\n",
       " 'Monkey King',\n",
       " 'Morphling',\n",
       " 'Naga Siren',\n",
       " 'Nyx Assassin',\n",
       " 'Pangolier',\n",
       " 'Phantom Assassin',\n",
       " 'Phantom Lancer',\n",
       " 'Razor',\n",
       " 'Riki',\n",
       " 'Shadow Fiend',\n",
       " 'Slark',\n",
       " 'Sniper',\n",
       " 'Spectre',\n",
       " 'Templar Assassin',\n",
       " 'Terrorblade',\n",
       " 'Troll Warlord',\n",
       " 'Ursa',\n",
       " 'Vengeful Spirit',\n",
       " 'Venomancer',\n",
       " 'Viper',\n",
       " 'Weaver',\n",
       " 'Ancient Apparition',\n",
       " 'Bane',\n",
       " 'Batrider',\n",
       " 'Crystal Maiden',\n",
       " 'Dark Seer',\n",
       " 'Dark Willow',\n",
       " 'Dazzle',\n",
       " 'Death Prophet',\n",
       " 'Disruptor',\n",
       " 'Enchantress',\n",
       " 'Enigma',\n",
       " 'Grimstroke',\n",
       " 'Invoker',\n",
       " 'Jakiro',\n",
       " 'Keeper of the Light',\n",
       " 'Leshrac',\n",
       " 'Lich',\n",
       " 'Lina',\n",
       " 'Lion',\n",
       " 'Nature Prophet',\n",
       " 'Necrophos',\n",
       " 'Ogre Magi',\n",
       " 'Oracle',\n",
       " 'Outworld Devourer',\n",
       " 'Puck',\n",
       " 'Pugna',\n",
       " 'Queen of Pain',\n",
       " 'Rubick',\n",
       " 'Shadow Demon',\n",
       " 'Shadow Shaman',\n",
       " 'Silencer',\n",
       " 'Skywrath Mage',\n",
       " 'Storm Spirit',\n",
       " 'Techies',\n",
       " 'Tinker',\n",
       " 'Visage',\n",
       " 'Void Spirit',\n",
       " 'Warlock',\n",
       " 'Windranger',\n",
       " 'Winter Wyvern',\n",
       " 'Witch Doctor',\n",
       " 'Abbadon',\n",
       " 'Zeus']"
      ]
     },
     "execution_count": 138,
     "metadata": {},
     "output_type": "execute_result"
    }
   ],
   "source": [
    "heroess"
   ]
  },
  {
   "cell_type": "code",
   "execution_count": 139,
   "metadata": {},
   "outputs": [],
   "source": [
    "import random"
   ]
  },
  {
   "cell_type": "code",
   "execution_count": 174,
   "metadata": {},
   "outputs": [
    {
     "ename": "KeyboardInterrupt",
     "evalue": "",
     "output_type": "error",
     "traceback": [
      "\u001b[0;31m---------------------------------------------------------------------------\u001b[0m",
      "\u001b[0;31mTypeError\u001b[0m                                 Traceback (most recent call last)",
      "\u001b[0;32m/opt/anaconda3/lib/python3.7/site-packages/urllib3/connectionpool.py\u001b[0m in \u001b[0;36m_make_request\u001b[0;34m(self, conn, method, url, timeout, chunked, **httplib_request_kw)\u001b[0m\n\u001b[1;32m    376\u001b[0m             \u001b[0;32mtry\u001b[0m\u001b[0;34m:\u001b[0m  \u001b[0;31m# Python 2.7, use buffering of HTTP responses\u001b[0m\u001b[0;34m\u001b[0m\u001b[0;34m\u001b[0m\u001b[0m\n\u001b[0;32m--> 377\u001b[0;31m                 \u001b[0mhttplib_response\u001b[0m \u001b[0;34m=\u001b[0m \u001b[0mconn\u001b[0m\u001b[0;34m.\u001b[0m\u001b[0mgetresponse\u001b[0m\u001b[0;34m(\u001b[0m\u001b[0mbuffering\u001b[0m\u001b[0;34m=\u001b[0m\u001b[0;32mTrue\u001b[0m\u001b[0;34m)\u001b[0m\u001b[0;34m\u001b[0m\u001b[0;34m\u001b[0m\u001b[0m\n\u001b[0m\u001b[1;32m    378\u001b[0m             \u001b[0;32mexcept\u001b[0m \u001b[0mTypeError\u001b[0m\u001b[0;34m:\u001b[0m  \u001b[0;31m# Python 3\u001b[0m\u001b[0;34m\u001b[0m\u001b[0;34m\u001b[0m\u001b[0m\n",
      "\u001b[0;31mTypeError\u001b[0m: getresponse() got an unexpected keyword argument 'buffering'",
      "\nDuring handling of the above exception, another exception occurred:\n",
      "\u001b[0;31mWantReadError\u001b[0m                             Traceback (most recent call last)",
      "\u001b[0;32m/opt/anaconda3/lib/python3.7/site-packages/urllib3/contrib/pyopenssl.py\u001b[0m in \u001b[0;36mrecv_into\u001b[0;34m(self, *args, **kwargs)\u001b[0m\n\u001b[1;32m    296\u001b[0m         \u001b[0;32mtry\u001b[0m\u001b[0;34m:\u001b[0m\u001b[0;34m\u001b[0m\u001b[0;34m\u001b[0m\u001b[0m\n\u001b[0;32m--> 297\u001b[0;31m             \u001b[0;32mreturn\u001b[0m \u001b[0mself\u001b[0m\u001b[0;34m.\u001b[0m\u001b[0mconnection\u001b[0m\u001b[0;34m.\u001b[0m\u001b[0mrecv_into\u001b[0m\u001b[0;34m(\u001b[0m\u001b[0;34m*\u001b[0m\u001b[0margs\u001b[0m\u001b[0;34m,\u001b[0m \u001b[0;34m**\u001b[0m\u001b[0mkwargs\u001b[0m\u001b[0;34m)\u001b[0m\u001b[0;34m\u001b[0m\u001b[0;34m\u001b[0m\u001b[0m\n\u001b[0m\u001b[1;32m    298\u001b[0m         \u001b[0;32mexcept\u001b[0m \u001b[0mOpenSSL\u001b[0m\u001b[0;34m.\u001b[0m\u001b[0mSSL\u001b[0m\u001b[0;34m.\u001b[0m\u001b[0mSysCallError\u001b[0m \u001b[0;32mas\u001b[0m \u001b[0me\u001b[0m\u001b[0;34m:\u001b[0m\u001b[0;34m\u001b[0m\u001b[0;34m\u001b[0m\u001b[0m\n",
      "\u001b[0;32m/opt/anaconda3/lib/python3.7/site-packages/OpenSSL/SSL.py\u001b[0m in \u001b[0;36mrecv_into\u001b[0;34m(self, buffer, nbytes, flags)\u001b[0m\n\u001b[1;32m   1821\u001b[0m             \u001b[0mresult\u001b[0m \u001b[0;34m=\u001b[0m \u001b[0m_lib\u001b[0m\u001b[0;34m.\u001b[0m\u001b[0mSSL_read\u001b[0m\u001b[0;34m(\u001b[0m\u001b[0mself\u001b[0m\u001b[0;34m.\u001b[0m\u001b[0m_ssl\u001b[0m\u001b[0;34m,\u001b[0m \u001b[0mbuf\u001b[0m\u001b[0;34m,\u001b[0m \u001b[0mnbytes\u001b[0m\u001b[0;34m)\u001b[0m\u001b[0;34m\u001b[0m\u001b[0;34m\u001b[0m\u001b[0m\n\u001b[0;32m-> 1822\u001b[0;31m         \u001b[0mself\u001b[0m\u001b[0;34m.\u001b[0m\u001b[0m_raise_ssl_error\u001b[0m\u001b[0;34m(\u001b[0m\u001b[0mself\u001b[0m\u001b[0;34m.\u001b[0m\u001b[0m_ssl\u001b[0m\u001b[0;34m,\u001b[0m \u001b[0mresult\u001b[0m\u001b[0;34m)\u001b[0m\u001b[0;34m\u001b[0m\u001b[0;34m\u001b[0m\u001b[0m\n\u001b[0m\u001b[1;32m   1823\u001b[0m \u001b[0;34m\u001b[0m\u001b[0m\n",
      "\u001b[0;32m/opt/anaconda3/lib/python3.7/site-packages/OpenSSL/SSL.py\u001b[0m in \u001b[0;36m_raise_ssl_error\u001b[0;34m(self, ssl, result)\u001b[0m\n\u001b[1;32m   1621\u001b[0m         \u001b[0;32mif\u001b[0m \u001b[0merror\u001b[0m \u001b[0;34m==\u001b[0m \u001b[0m_lib\u001b[0m\u001b[0;34m.\u001b[0m\u001b[0mSSL_ERROR_WANT_READ\u001b[0m\u001b[0;34m:\u001b[0m\u001b[0;34m\u001b[0m\u001b[0;34m\u001b[0m\u001b[0m\n\u001b[0;32m-> 1622\u001b[0;31m             \u001b[0;32mraise\u001b[0m \u001b[0mWantReadError\u001b[0m\u001b[0;34m(\u001b[0m\u001b[0;34m)\u001b[0m\u001b[0;34m\u001b[0m\u001b[0;34m\u001b[0m\u001b[0m\n\u001b[0m\u001b[1;32m   1623\u001b[0m         \u001b[0;32melif\u001b[0m \u001b[0merror\u001b[0m \u001b[0;34m==\u001b[0m \u001b[0m_lib\u001b[0m\u001b[0;34m.\u001b[0m\u001b[0mSSL_ERROR_WANT_WRITE\u001b[0m\u001b[0;34m:\u001b[0m\u001b[0;34m\u001b[0m\u001b[0;34m\u001b[0m\u001b[0m\n",
      "\u001b[0;31mWantReadError\u001b[0m: ",
      "\nDuring handling of the above exception, another exception occurred:\n",
      "\u001b[0;31mKeyboardInterrupt\u001b[0m                         Traceback (most recent call last)",
      "\u001b[0;32m<ipython-input-174-1e63c2f8c0ad>\u001b[0m in \u001b[0;36m<module>\u001b[0;34m\u001b[0m\n\u001b[1;32m      2\u001b[0m \u001b[0mlongpoll\u001b[0m \u001b[0;34m=\u001b[0m \u001b[0mVkLongPoll\u001b[0m\u001b[0;34m(\u001b[0m\u001b[0mvk_session\u001b[0m\u001b[0;34m)\u001b[0m\u001b[0;34m\u001b[0m\u001b[0;34m\u001b[0m\u001b[0m\n\u001b[1;32m      3\u001b[0m \u001b[0mvk\u001b[0m \u001b[0;34m=\u001b[0m \u001b[0mvk_session\u001b[0m\u001b[0;34m.\u001b[0m\u001b[0mget_api\u001b[0m\u001b[0;34m(\u001b[0m\u001b[0;34m)\u001b[0m\u001b[0;34m\u001b[0m\u001b[0;34m\u001b[0m\u001b[0m\n\u001b[0;32m----> 4\u001b[0;31m \u001b[0;32mfor\u001b[0m \u001b[0mevent\u001b[0m \u001b[0;32min\u001b[0m \u001b[0mlongpoll\u001b[0m\u001b[0;34m.\u001b[0m\u001b[0mlisten\u001b[0m\u001b[0;34m(\u001b[0m\u001b[0;34m)\u001b[0m\u001b[0;34m:\u001b[0m\u001b[0;34m\u001b[0m\u001b[0;34m\u001b[0m\u001b[0m\n\u001b[0m\u001b[1;32m      5\u001b[0m     \u001b[0;32mif\u001b[0m \u001b[0mevent\u001b[0m\u001b[0;34m.\u001b[0m\u001b[0mtype\u001b[0m \u001b[0;34m==\u001b[0m \u001b[0mVkEventType\u001b[0m\u001b[0;34m.\u001b[0m\u001b[0mMESSAGE_NEW\u001b[0m \u001b[0;32mand\u001b[0m \u001b[0mevent\u001b[0m\u001b[0;34m.\u001b[0m\u001b[0mto_me\u001b[0m \u001b[0;32mand\u001b[0m \u001b[0mevent\u001b[0m\u001b[0;34m.\u001b[0m\u001b[0mtext\u001b[0m\u001b[0;34m:\u001b[0m\u001b[0;34m\u001b[0m\u001b[0;34m\u001b[0m\u001b[0m\n\u001b[1;32m      6\u001b[0m    \u001b[0;31m#Слушаем longpoll, если пришло сообщение то:\u001b[0m\u001b[0;34m\u001b[0m\u001b[0;34m\u001b[0m\u001b[0;34m\u001b[0m\u001b[0m\n",
      "\u001b[0;32m/opt/anaconda3/lib/python3.7/site-packages/vk_api/longpoll.py\u001b[0m in \u001b[0;36mlisten\u001b[0;34m(self)\u001b[0m\n\u001b[1;32m    619\u001b[0m \u001b[0;34m\u001b[0m\u001b[0m\n\u001b[1;32m    620\u001b[0m         \u001b[0;32mwhile\u001b[0m \u001b[0;32mTrue\u001b[0m\u001b[0;34m:\u001b[0m\u001b[0;34m\u001b[0m\u001b[0;34m\u001b[0m\u001b[0m\n\u001b[0;32m--> 621\u001b[0;31m             \u001b[0;32mfor\u001b[0m \u001b[0mevent\u001b[0m \u001b[0;32min\u001b[0m \u001b[0mself\u001b[0m\u001b[0;34m.\u001b[0m\u001b[0mcheck\u001b[0m\u001b[0;34m(\u001b[0m\u001b[0;34m)\u001b[0m\u001b[0;34m:\u001b[0m\u001b[0;34m\u001b[0m\u001b[0;34m\u001b[0m\u001b[0m\n\u001b[0m\u001b[1;32m    622\u001b[0m                 \u001b[0;32myield\u001b[0m \u001b[0mevent\u001b[0m\u001b[0;34m\u001b[0m\u001b[0;34m\u001b[0m\u001b[0m\n",
      "\u001b[0;32m/opt/anaconda3/lib/python3.7/site-packages/vk_api/longpoll.py\u001b[0m in \u001b[0;36mcheck\u001b[0;34m(self)\u001b[0m\n\u001b[1;32m    558\u001b[0m             \u001b[0mself\u001b[0m\u001b[0;34m.\u001b[0m\u001b[0murl\u001b[0m\u001b[0;34m,\u001b[0m\u001b[0;34m\u001b[0m\u001b[0;34m\u001b[0m\u001b[0m\n\u001b[1;32m    559\u001b[0m             \u001b[0mparams\u001b[0m\u001b[0;34m=\u001b[0m\u001b[0mvalues\u001b[0m\u001b[0;34m,\u001b[0m\u001b[0;34m\u001b[0m\u001b[0;34m\u001b[0m\u001b[0m\n\u001b[0;32m--> 560\u001b[0;31m             \u001b[0mtimeout\u001b[0m\u001b[0;34m=\u001b[0m\u001b[0mself\u001b[0m\u001b[0;34m.\u001b[0m\u001b[0mwait\u001b[0m \u001b[0;34m+\u001b[0m \u001b[0;36m10\u001b[0m\u001b[0;34m\u001b[0m\u001b[0;34m\u001b[0m\u001b[0m\n\u001b[0m\u001b[1;32m    561\u001b[0m         ).json()\n\u001b[1;32m    562\u001b[0m \u001b[0;34m\u001b[0m\u001b[0m\n",
      "\u001b[0;32m/opt/anaconda3/lib/python3.7/site-packages/requests/sessions.py\u001b[0m in \u001b[0;36mget\u001b[0;34m(self, url, **kwargs)\u001b[0m\n\u001b[1;32m    544\u001b[0m \u001b[0;34m\u001b[0m\u001b[0m\n\u001b[1;32m    545\u001b[0m         \u001b[0mkwargs\u001b[0m\u001b[0;34m.\u001b[0m\u001b[0msetdefault\u001b[0m\u001b[0;34m(\u001b[0m\u001b[0;34m'allow_redirects'\u001b[0m\u001b[0;34m,\u001b[0m \u001b[0;32mTrue\u001b[0m\u001b[0;34m)\u001b[0m\u001b[0;34m\u001b[0m\u001b[0;34m\u001b[0m\u001b[0m\n\u001b[0;32m--> 546\u001b[0;31m         \u001b[0;32mreturn\u001b[0m \u001b[0mself\u001b[0m\u001b[0;34m.\u001b[0m\u001b[0mrequest\u001b[0m\u001b[0;34m(\u001b[0m\u001b[0;34m'GET'\u001b[0m\u001b[0;34m,\u001b[0m \u001b[0murl\u001b[0m\u001b[0;34m,\u001b[0m \u001b[0;34m**\u001b[0m\u001b[0mkwargs\u001b[0m\u001b[0;34m)\u001b[0m\u001b[0;34m\u001b[0m\u001b[0;34m\u001b[0m\u001b[0m\n\u001b[0m\u001b[1;32m    547\u001b[0m \u001b[0;34m\u001b[0m\u001b[0m\n\u001b[1;32m    548\u001b[0m     \u001b[0;32mdef\u001b[0m \u001b[0moptions\u001b[0m\u001b[0;34m(\u001b[0m\u001b[0mself\u001b[0m\u001b[0;34m,\u001b[0m \u001b[0murl\u001b[0m\u001b[0;34m,\u001b[0m \u001b[0;34m**\u001b[0m\u001b[0mkwargs\u001b[0m\u001b[0;34m)\u001b[0m\u001b[0;34m:\u001b[0m\u001b[0;34m\u001b[0m\u001b[0;34m\u001b[0m\u001b[0m\n",
      "\u001b[0;32m/opt/anaconda3/lib/python3.7/site-packages/requests/sessions.py\u001b[0m in \u001b[0;36mrequest\u001b[0;34m(self, method, url, params, data, headers, cookies, files, auth, timeout, allow_redirects, proxies, hooks, stream, verify, cert, json)\u001b[0m\n\u001b[1;32m    531\u001b[0m         }\n\u001b[1;32m    532\u001b[0m         \u001b[0msend_kwargs\u001b[0m\u001b[0;34m.\u001b[0m\u001b[0mupdate\u001b[0m\u001b[0;34m(\u001b[0m\u001b[0msettings\u001b[0m\u001b[0;34m)\u001b[0m\u001b[0;34m\u001b[0m\u001b[0;34m\u001b[0m\u001b[0m\n\u001b[0;32m--> 533\u001b[0;31m         \u001b[0mresp\u001b[0m \u001b[0;34m=\u001b[0m \u001b[0mself\u001b[0m\u001b[0;34m.\u001b[0m\u001b[0msend\u001b[0m\u001b[0;34m(\u001b[0m\u001b[0mprep\u001b[0m\u001b[0;34m,\u001b[0m \u001b[0;34m**\u001b[0m\u001b[0msend_kwargs\u001b[0m\u001b[0;34m)\u001b[0m\u001b[0;34m\u001b[0m\u001b[0;34m\u001b[0m\u001b[0m\n\u001b[0m\u001b[1;32m    534\u001b[0m \u001b[0;34m\u001b[0m\u001b[0m\n\u001b[1;32m    535\u001b[0m         \u001b[0;32mreturn\u001b[0m \u001b[0mresp\u001b[0m\u001b[0;34m\u001b[0m\u001b[0;34m\u001b[0m\u001b[0m\n",
      "\u001b[0;32m/opt/anaconda3/lib/python3.7/site-packages/requests/sessions.py\u001b[0m in \u001b[0;36msend\u001b[0;34m(self, request, **kwargs)\u001b[0m\n\u001b[1;32m    644\u001b[0m \u001b[0;34m\u001b[0m\u001b[0m\n\u001b[1;32m    645\u001b[0m         \u001b[0;31m# Send the request\u001b[0m\u001b[0;34m\u001b[0m\u001b[0;34m\u001b[0m\u001b[0;34m\u001b[0m\u001b[0m\n\u001b[0;32m--> 646\u001b[0;31m         \u001b[0mr\u001b[0m \u001b[0;34m=\u001b[0m \u001b[0madapter\u001b[0m\u001b[0;34m.\u001b[0m\u001b[0msend\u001b[0m\u001b[0;34m(\u001b[0m\u001b[0mrequest\u001b[0m\u001b[0;34m,\u001b[0m \u001b[0;34m**\u001b[0m\u001b[0mkwargs\u001b[0m\u001b[0;34m)\u001b[0m\u001b[0;34m\u001b[0m\u001b[0;34m\u001b[0m\u001b[0m\n\u001b[0m\u001b[1;32m    647\u001b[0m \u001b[0;34m\u001b[0m\u001b[0m\n\u001b[1;32m    648\u001b[0m         \u001b[0;31m# Total elapsed time of the request (approximately)\u001b[0m\u001b[0;34m\u001b[0m\u001b[0;34m\u001b[0m\u001b[0;34m\u001b[0m\u001b[0m\n",
      "\u001b[0;32m/opt/anaconda3/lib/python3.7/site-packages/requests/adapters.py\u001b[0m in \u001b[0;36msend\u001b[0;34m(self, request, stream, timeout, verify, cert, proxies)\u001b[0m\n\u001b[1;32m    447\u001b[0m                     \u001b[0mdecode_content\u001b[0m\u001b[0;34m=\u001b[0m\u001b[0;32mFalse\u001b[0m\u001b[0;34m,\u001b[0m\u001b[0;34m\u001b[0m\u001b[0;34m\u001b[0m\u001b[0m\n\u001b[1;32m    448\u001b[0m                     \u001b[0mretries\u001b[0m\u001b[0;34m=\u001b[0m\u001b[0mself\u001b[0m\u001b[0;34m.\u001b[0m\u001b[0mmax_retries\u001b[0m\u001b[0;34m,\u001b[0m\u001b[0;34m\u001b[0m\u001b[0;34m\u001b[0m\u001b[0m\n\u001b[0;32m--> 449\u001b[0;31m                     \u001b[0mtimeout\u001b[0m\u001b[0;34m=\u001b[0m\u001b[0mtimeout\u001b[0m\u001b[0;34m\u001b[0m\u001b[0;34m\u001b[0m\u001b[0m\n\u001b[0m\u001b[1;32m    450\u001b[0m                 )\n\u001b[1;32m    451\u001b[0m \u001b[0;34m\u001b[0m\u001b[0m\n",
      "\u001b[0;32m/opt/anaconda3/lib/python3.7/site-packages/urllib3/connectionpool.py\u001b[0m in \u001b[0;36murlopen\u001b[0;34m(self, method, url, body, headers, retries, redirect, assert_same_host, timeout, pool_timeout, release_conn, chunked, body_pos, **response_kw)\u001b[0m\n\u001b[1;32m    598\u001b[0m                                                   \u001b[0mtimeout\u001b[0m\u001b[0;34m=\u001b[0m\u001b[0mtimeout_obj\u001b[0m\u001b[0;34m,\u001b[0m\u001b[0;34m\u001b[0m\u001b[0;34m\u001b[0m\u001b[0m\n\u001b[1;32m    599\u001b[0m                                                   \u001b[0mbody\u001b[0m\u001b[0;34m=\u001b[0m\u001b[0mbody\u001b[0m\u001b[0;34m,\u001b[0m \u001b[0mheaders\u001b[0m\u001b[0;34m=\u001b[0m\u001b[0mheaders\u001b[0m\u001b[0;34m,\u001b[0m\u001b[0;34m\u001b[0m\u001b[0;34m\u001b[0m\u001b[0m\n\u001b[0;32m--> 600\u001b[0;31m                                                   chunked=chunked)\n\u001b[0m\u001b[1;32m    601\u001b[0m \u001b[0;34m\u001b[0m\u001b[0m\n\u001b[1;32m    602\u001b[0m             \u001b[0;31m# If we're going to release the connection in ``finally:``, then\u001b[0m\u001b[0;34m\u001b[0m\u001b[0;34m\u001b[0m\u001b[0;34m\u001b[0m\u001b[0m\n",
      "\u001b[0;32m/opt/anaconda3/lib/python3.7/site-packages/urllib3/connectionpool.py\u001b[0m in \u001b[0;36m_make_request\u001b[0;34m(self, conn, method, url, timeout, chunked, **httplib_request_kw)\u001b[0m\n\u001b[1;32m    378\u001b[0m             \u001b[0;32mexcept\u001b[0m \u001b[0mTypeError\u001b[0m\u001b[0;34m:\u001b[0m  \u001b[0;31m# Python 3\u001b[0m\u001b[0;34m\u001b[0m\u001b[0;34m\u001b[0m\u001b[0m\n\u001b[1;32m    379\u001b[0m                 \u001b[0;32mtry\u001b[0m\u001b[0;34m:\u001b[0m\u001b[0;34m\u001b[0m\u001b[0;34m\u001b[0m\u001b[0m\n\u001b[0;32m--> 380\u001b[0;31m                     \u001b[0mhttplib_response\u001b[0m \u001b[0;34m=\u001b[0m \u001b[0mconn\u001b[0m\u001b[0;34m.\u001b[0m\u001b[0mgetresponse\u001b[0m\u001b[0;34m(\u001b[0m\u001b[0;34m)\u001b[0m\u001b[0;34m\u001b[0m\u001b[0;34m\u001b[0m\u001b[0m\n\u001b[0m\u001b[1;32m    381\u001b[0m                 \u001b[0;32mexcept\u001b[0m \u001b[0mException\u001b[0m \u001b[0;32mas\u001b[0m \u001b[0me\u001b[0m\u001b[0;34m:\u001b[0m\u001b[0;34m\u001b[0m\u001b[0;34m\u001b[0m\u001b[0m\n\u001b[1;32m    382\u001b[0m                     \u001b[0;31m# Remove the TypeError from the exception chain in Python 3;\u001b[0m\u001b[0;34m\u001b[0m\u001b[0;34m\u001b[0m\u001b[0;34m\u001b[0m\u001b[0m\n",
      "\u001b[0;32m/opt/anaconda3/lib/python3.7/http/client.py\u001b[0m in \u001b[0;36mgetresponse\u001b[0;34m(self)\u001b[0m\n\u001b[1;32m   1334\u001b[0m         \u001b[0;32mtry\u001b[0m\u001b[0;34m:\u001b[0m\u001b[0;34m\u001b[0m\u001b[0;34m\u001b[0m\u001b[0m\n\u001b[1;32m   1335\u001b[0m             \u001b[0;32mtry\u001b[0m\u001b[0;34m:\u001b[0m\u001b[0;34m\u001b[0m\u001b[0;34m\u001b[0m\u001b[0m\n\u001b[0;32m-> 1336\u001b[0;31m                 \u001b[0mresponse\u001b[0m\u001b[0;34m.\u001b[0m\u001b[0mbegin\u001b[0m\u001b[0;34m(\u001b[0m\u001b[0;34m)\u001b[0m\u001b[0;34m\u001b[0m\u001b[0;34m\u001b[0m\u001b[0m\n\u001b[0m\u001b[1;32m   1337\u001b[0m             \u001b[0;32mexcept\u001b[0m \u001b[0mConnectionError\u001b[0m\u001b[0;34m:\u001b[0m\u001b[0;34m\u001b[0m\u001b[0;34m\u001b[0m\u001b[0m\n\u001b[1;32m   1338\u001b[0m                 \u001b[0mself\u001b[0m\u001b[0;34m.\u001b[0m\u001b[0mclose\u001b[0m\u001b[0;34m(\u001b[0m\u001b[0;34m)\u001b[0m\u001b[0;34m\u001b[0m\u001b[0;34m\u001b[0m\u001b[0m\n",
      "\u001b[0;32m/opt/anaconda3/lib/python3.7/http/client.py\u001b[0m in \u001b[0;36mbegin\u001b[0;34m(self)\u001b[0m\n\u001b[1;32m    304\u001b[0m         \u001b[0;31m# read until we get a non-100 response\u001b[0m\u001b[0;34m\u001b[0m\u001b[0;34m\u001b[0m\u001b[0;34m\u001b[0m\u001b[0m\n\u001b[1;32m    305\u001b[0m         \u001b[0;32mwhile\u001b[0m \u001b[0;32mTrue\u001b[0m\u001b[0;34m:\u001b[0m\u001b[0;34m\u001b[0m\u001b[0;34m\u001b[0m\u001b[0m\n\u001b[0;32m--> 306\u001b[0;31m             \u001b[0mversion\u001b[0m\u001b[0;34m,\u001b[0m \u001b[0mstatus\u001b[0m\u001b[0;34m,\u001b[0m \u001b[0mreason\u001b[0m \u001b[0;34m=\u001b[0m \u001b[0mself\u001b[0m\u001b[0;34m.\u001b[0m\u001b[0m_read_status\u001b[0m\u001b[0;34m(\u001b[0m\u001b[0;34m)\u001b[0m\u001b[0;34m\u001b[0m\u001b[0;34m\u001b[0m\u001b[0m\n\u001b[0m\u001b[1;32m    307\u001b[0m             \u001b[0;32mif\u001b[0m \u001b[0mstatus\u001b[0m \u001b[0;34m!=\u001b[0m \u001b[0mCONTINUE\u001b[0m\u001b[0;34m:\u001b[0m\u001b[0;34m\u001b[0m\u001b[0;34m\u001b[0m\u001b[0m\n\u001b[1;32m    308\u001b[0m                 \u001b[0;32mbreak\u001b[0m\u001b[0;34m\u001b[0m\u001b[0;34m\u001b[0m\u001b[0m\n",
      "\u001b[0;32m/opt/anaconda3/lib/python3.7/http/client.py\u001b[0m in \u001b[0;36m_read_status\u001b[0;34m(self)\u001b[0m\n\u001b[1;32m    265\u001b[0m \u001b[0;34m\u001b[0m\u001b[0m\n\u001b[1;32m    266\u001b[0m     \u001b[0;32mdef\u001b[0m \u001b[0m_read_status\u001b[0m\u001b[0;34m(\u001b[0m\u001b[0mself\u001b[0m\u001b[0;34m)\u001b[0m\u001b[0;34m:\u001b[0m\u001b[0;34m\u001b[0m\u001b[0;34m\u001b[0m\u001b[0m\n\u001b[0;32m--> 267\u001b[0;31m         \u001b[0mline\u001b[0m \u001b[0;34m=\u001b[0m \u001b[0mstr\u001b[0m\u001b[0;34m(\u001b[0m\u001b[0mself\u001b[0m\u001b[0;34m.\u001b[0m\u001b[0mfp\u001b[0m\u001b[0;34m.\u001b[0m\u001b[0mreadline\u001b[0m\u001b[0;34m(\u001b[0m\u001b[0m_MAXLINE\u001b[0m \u001b[0;34m+\u001b[0m \u001b[0;36m1\u001b[0m\u001b[0;34m)\u001b[0m\u001b[0;34m,\u001b[0m \u001b[0;34m\"iso-8859-1\"\u001b[0m\u001b[0;34m)\u001b[0m\u001b[0;34m\u001b[0m\u001b[0;34m\u001b[0m\u001b[0m\n\u001b[0m\u001b[1;32m    268\u001b[0m         \u001b[0;32mif\u001b[0m \u001b[0mlen\u001b[0m\u001b[0;34m(\u001b[0m\u001b[0mline\u001b[0m\u001b[0;34m)\u001b[0m \u001b[0;34m>\u001b[0m \u001b[0m_MAXLINE\u001b[0m\u001b[0;34m:\u001b[0m\u001b[0;34m\u001b[0m\u001b[0;34m\u001b[0m\u001b[0m\n\u001b[1;32m    269\u001b[0m             \u001b[0;32mraise\u001b[0m \u001b[0mLineTooLong\u001b[0m\u001b[0;34m(\u001b[0m\u001b[0;34m\"status line\"\u001b[0m\u001b[0;34m)\u001b[0m\u001b[0;34m\u001b[0m\u001b[0;34m\u001b[0m\u001b[0m\n",
      "\u001b[0;32m/opt/anaconda3/lib/python3.7/socket.py\u001b[0m in \u001b[0;36mreadinto\u001b[0;34m(self, b)\u001b[0m\n\u001b[1;32m    587\u001b[0m         \u001b[0;32mwhile\u001b[0m \u001b[0;32mTrue\u001b[0m\u001b[0;34m:\u001b[0m\u001b[0;34m\u001b[0m\u001b[0;34m\u001b[0m\u001b[0m\n\u001b[1;32m    588\u001b[0m             \u001b[0;32mtry\u001b[0m\u001b[0;34m:\u001b[0m\u001b[0;34m\u001b[0m\u001b[0;34m\u001b[0m\u001b[0m\n\u001b[0;32m--> 589\u001b[0;31m                 \u001b[0;32mreturn\u001b[0m \u001b[0mself\u001b[0m\u001b[0;34m.\u001b[0m\u001b[0m_sock\u001b[0m\u001b[0;34m.\u001b[0m\u001b[0mrecv_into\u001b[0m\u001b[0;34m(\u001b[0m\u001b[0mb\u001b[0m\u001b[0;34m)\u001b[0m\u001b[0;34m\u001b[0m\u001b[0;34m\u001b[0m\u001b[0m\n\u001b[0m\u001b[1;32m    590\u001b[0m             \u001b[0;32mexcept\u001b[0m \u001b[0mtimeout\u001b[0m\u001b[0;34m:\u001b[0m\u001b[0;34m\u001b[0m\u001b[0;34m\u001b[0m\u001b[0m\n\u001b[1;32m    591\u001b[0m                 \u001b[0mself\u001b[0m\u001b[0;34m.\u001b[0m\u001b[0m_timeout_occurred\u001b[0m \u001b[0;34m=\u001b[0m \u001b[0;32mTrue\u001b[0m\u001b[0;34m\u001b[0m\u001b[0;34m\u001b[0m\u001b[0m\n",
      "\u001b[0;32m/opt/anaconda3/lib/python3.7/site-packages/urllib3/contrib/pyopenssl.py\u001b[0m in \u001b[0;36mrecv_into\u001b[0;34m(self, *args, **kwargs)\u001b[0m\n\u001b[1;32m    307\u001b[0m                 \u001b[0;32mraise\u001b[0m\u001b[0;34m\u001b[0m\u001b[0;34m\u001b[0m\u001b[0m\n\u001b[1;32m    308\u001b[0m         \u001b[0;32mexcept\u001b[0m \u001b[0mOpenSSL\u001b[0m\u001b[0;34m.\u001b[0m\u001b[0mSSL\u001b[0m\u001b[0;34m.\u001b[0m\u001b[0mWantReadError\u001b[0m\u001b[0;34m:\u001b[0m\u001b[0;34m\u001b[0m\u001b[0;34m\u001b[0m\u001b[0m\n\u001b[0;32m--> 309\u001b[0;31m             \u001b[0;32mif\u001b[0m \u001b[0;32mnot\u001b[0m \u001b[0mutil\u001b[0m\u001b[0;34m.\u001b[0m\u001b[0mwait_for_read\u001b[0m\u001b[0;34m(\u001b[0m\u001b[0mself\u001b[0m\u001b[0;34m.\u001b[0m\u001b[0msocket\u001b[0m\u001b[0;34m,\u001b[0m \u001b[0mself\u001b[0m\u001b[0;34m.\u001b[0m\u001b[0msocket\u001b[0m\u001b[0;34m.\u001b[0m\u001b[0mgettimeout\u001b[0m\u001b[0;34m(\u001b[0m\u001b[0;34m)\u001b[0m\u001b[0;34m)\u001b[0m\u001b[0;34m:\u001b[0m\u001b[0;34m\u001b[0m\u001b[0;34m\u001b[0m\u001b[0m\n\u001b[0m\u001b[1;32m    310\u001b[0m                 \u001b[0;32mraise\u001b[0m \u001b[0mtimeout\u001b[0m\u001b[0;34m(\u001b[0m\u001b[0;34m'The read operation timed out'\u001b[0m\u001b[0;34m)\u001b[0m\u001b[0;34m\u001b[0m\u001b[0;34m\u001b[0m\u001b[0m\n\u001b[1;32m    311\u001b[0m             \u001b[0;32melse\u001b[0m\u001b[0;34m:\u001b[0m\u001b[0;34m\u001b[0m\u001b[0;34m\u001b[0m\u001b[0m\n",
      "\u001b[0;32m/opt/anaconda3/lib/python3.7/site-packages/urllib3/util/wait.py\u001b[0m in \u001b[0;36mwait_for_read\u001b[0;34m(sock, timeout)\u001b[0m\n\u001b[1;32m    141\u001b[0m     \u001b[0mReturns\u001b[0m \u001b[0;32mTrue\u001b[0m \u001b[0;32mif\u001b[0m \u001b[0mthe\u001b[0m \u001b[0msocket\u001b[0m \u001b[0;32mis\u001b[0m \u001b[0mreadable\u001b[0m\u001b[0;34m,\u001b[0m \u001b[0;32mor\u001b[0m \u001b[0;32mFalse\u001b[0m \u001b[0;32mif\u001b[0m \u001b[0mthe\u001b[0m \u001b[0mtimeout\u001b[0m \u001b[0mexpired\u001b[0m\u001b[0;34m.\u001b[0m\u001b[0;34m\u001b[0m\u001b[0;34m\u001b[0m\u001b[0m\n\u001b[1;32m    142\u001b[0m     \"\"\"\n\u001b[0;32m--> 143\u001b[0;31m     \u001b[0;32mreturn\u001b[0m \u001b[0mwait_for_socket\u001b[0m\u001b[0;34m(\u001b[0m\u001b[0msock\u001b[0m\u001b[0;34m,\u001b[0m \u001b[0mread\u001b[0m\u001b[0;34m=\u001b[0m\u001b[0;32mTrue\u001b[0m\u001b[0;34m,\u001b[0m \u001b[0mtimeout\u001b[0m\u001b[0;34m=\u001b[0m\u001b[0mtimeout\u001b[0m\u001b[0;34m)\u001b[0m\u001b[0;34m\u001b[0m\u001b[0;34m\u001b[0m\u001b[0m\n\u001b[0m\u001b[1;32m    144\u001b[0m \u001b[0;34m\u001b[0m\u001b[0m\n\u001b[1;32m    145\u001b[0m \u001b[0;34m\u001b[0m\u001b[0m\n",
      "\u001b[0;32m/opt/anaconda3/lib/python3.7/site-packages/urllib3/util/wait.py\u001b[0m in \u001b[0;36mpoll_wait_for_socket\u001b[0;34m(sock, read, write, timeout)\u001b[0m\n\u001b[1;32m    102\u001b[0m         \u001b[0;32mreturn\u001b[0m \u001b[0mpoll_obj\u001b[0m\u001b[0;34m.\u001b[0m\u001b[0mpoll\u001b[0m\u001b[0;34m(\u001b[0m\u001b[0mt\u001b[0m\u001b[0;34m)\u001b[0m\u001b[0;34m\u001b[0m\u001b[0;34m\u001b[0m\u001b[0m\n\u001b[1;32m    103\u001b[0m \u001b[0;34m\u001b[0m\u001b[0m\n\u001b[0;32m--> 104\u001b[0;31m     \u001b[0;32mreturn\u001b[0m \u001b[0mbool\u001b[0m\u001b[0;34m(\u001b[0m\u001b[0m_retry_on_intr\u001b[0m\u001b[0;34m(\u001b[0m\u001b[0mdo_poll\u001b[0m\u001b[0;34m,\u001b[0m \u001b[0mtimeout\u001b[0m\u001b[0;34m)\u001b[0m\u001b[0;34m)\u001b[0m\u001b[0;34m\u001b[0m\u001b[0;34m\u001b[0m\u001b[0m\n\u001b[0m\u001b[1;32m    105\u001b[0m \u001b[0;34m\u001b[0m\u001b[0m\n\u001b[1;32m    106\u001b[0m \u001b[0;34m\u001b[0m\u001b[0m\n",
      "\u001b[0;32m/opt/anaconda3/lib/python3.7/site-packages/urllib3/util/wait.py\u001b[0m in \u001b[0;36m_retry_on_intr\u001b[0;34m(fn, timeout)\u001b[0m\n\u001b[1;32m     40\u001b[0m     \u001b[0;31m# Modern Python, that retries syscalls by default\u001b[0m\u001b[0;34m\u001b[0m\u001b[0;34m\u001b[0m\u001b[0;34m\u001b[0m\u001b[0m\n\u001b[1;32m     41\u001b[0m     \u001b[0;32mdef\u001b[0m \u001b[0m_retry_on_intr\u001b[0m\u001b[0;34m(\u001b[0m\u001b[0mfn\u001b[0m\u001b[0;34m,\u001b[0m \u001b[0mtimeout\u001b[0m\u001b[0;34m)\u001b[0m\u001b[0;34m:\u001b[0m\u001b[0;34m\u001b[0m\u001b[0;34m\u001b[0m\u001b[0m\n\u001b[0;32m---> 42\u001b[0;31m         \u001b[0;32mreturn\u001b[0m \u001b[0mfn\u001b[0m\u001b[0;34m(\u001b[0m\u001b[0mtimeout\u001b[0m\u001b[0;34m)\u001b[0m\u001b[0;34m\u001b[0m\u001b[0;34m\u001b[0m\u001b[0m\n\u001b[0m\u001b[1;32m     43\u001b[0m \u001b[0;32melse\u001b[0m\u001b[0;34m:\u001b[0m\u001b[0;34m\u001b[0m\u001b[0;34m\u001b[0m\u001b[0m\n\u001b[1;32m     44\u001b[0m     \u001b[0;31m# Old and broken Pythons.\u001b[0m\u001b[0;34m\u001b[0m\u001b[0;34m\u001b[0m\u001b[0;34m\u001b[0m\u001b[0m\n",
      "\u001b[0;32m/opt/anaconda3/lib/python3.7/site-packages/urllib3/util/wait.py\u001b[0m in \u001b[0;36mdo_poll\u001b[0;34m(t)\u001b[0m\n\u001b[1;32m    100\u001b[0m         \u001b[0;32mif\u001b[0m \u001b[0mt\u001b[0m \u001b[0;32mis\u001b[0m \u001b[0;32mnot\u001b[0m \u001b[0;32mNone\u001b[0m\u001b[0;34m:\u001b[0m\u001b[0;34m\u001b[0m\u001b[0;34m\u001b[0m\u001b[0m\n\u001b[1;32m    101\u001b[0m             \u001b[0mt\u001b[0m \u001b[0;34m*=\u001b[0m \u001b[0;36m1000\u001b[0m\u001b[0;34m\u001b[0m\u001b[0;34m\u001b[0m\u001b[0m\n\u001b[0;32m--> 102\u001b[0;31m         \u001b[0;32mreturn\u001b[0m \u001b[0mpoll_obj\u001b[0m\u001b[0;34m.\u001b[0m\u001b[0mpoll\u001b[0m\u001b[0;34m(\u001b[0m\u001b[0mt\u001b[0m\u001b[0;34m)\u001b[0m\u001b[0;34m\u001b[0m\u001b[0;34m\u001b[0m\u001b[0m\n\u001b[0m\u001b[1;32m    103\u001b[0m \u001b[0;34m\u001b[0m\u001b[0m\n\u001b[1;32m    104\u001b[0m     \u001b[0;32mreturn\u001b[0m \u001b[0mbool\u001b[0m\u001b[0;34m(\u001b[0m\u001b[0m_retry_on_intr\u001b[0m\u001b[0;34m(\u001b[0m\u001b[0mdo_poll\u001b[0m\u001b[0;34m,\u001b[0m \u001b[0mtimeout\u001b[0m\u001b[0;34m)\u001b[0m\u001b[0;34m)\u001b[0m\u001b[0;34m\u001b[0m\u001b[0;34m\u001b[0m\u001b[0m\n",
      "\u001b[0;31mKeyboardInterrupt\u001b[0m: "
     ]
    }
   ],
   "source": [
    "from vk_api.longpoll import VkLongPoll, VkEventType\n",
    "longpoll = VkLongPoll(vk_session)\n",
    "vk = vk_session.get_api()\n",
    "for event in longpoll.listen():\n",
    "    if event.type == VkEventType.MESSAGE_NEW and event.to_me and event.text:\n",
    "   #Слушаем longpoll, если пришло сообщение то:\t\t\t\n",
    "        if event.text.lower() == 'привет' or event.text == 'Hello': #Если написали заданную фразу\n",
    "            if event.from_user: #Если написали в ЛС\n",
    "                vk.messages.send( #Отправляем сообщение\n",
    "                    user_id=event.user_id,\n",
    "                    random_id=event.random_id,\n",
    "                    message='Привет!Возможно тебе не интерестно, но Гастабот лучший бот в этой вселенной !'\n",
    "\t\t)\n",
    "        elif event.text.split() ==['На','ком','мне','поиграть?']:\n",
    "            if event.from_user:\n",
    "                hero = random.choice(heroess)\n",
    "                position = random.choice(positions)#Если написали в ЛС\n",
    "                vk.messages.send( #Отправляем сообщение\n",
    "                    user_id=event.user_id,\n",
    "                    random_id=event.random_id,\n",
    "                    message=('Позиция -',position,'Герой - ',hero))\n",
    "        elif event.text.lower().split() == ['пошел','на','хуй'] or event.text.lower().split() == ['иди','нахуй'] or 'хуй' in event.text.lower():\n",
    "            if event.from_user: #Если написали в ЛС\n",
    "                vk.messages.send( #Отправляем сообщение\n",
    "                    user_id=event.user_id,\n",
    "                    random_id=event.random_id,\n",
    "                    \n",
    "                    message='нет друг я не оправдываюсь,.просто ты ёбаное мудло,я мать твою ебал, сестру твою ебал, кирпичами  голову разбивал, с балкона сбрасывал переворачивал снова ебал, потом твоего отца в жопу ебал,потом завтавил твоего отца ебать в жопу твою сестру сука, и тебя пидараса заставлял всё это смотреть,а потом гавно жрать общее все что понасрали твои ебучие родные.')\n",
    "                \n",
    "        elif event.text !='Привет': #Если написали заданную фразу\n",
    "            if event.from_user: #Если написали в ЛС\n",
    "                vk.messages.send( #Отправляем сообщение\n",
    "                    user_id=event.user_id,\n",
    "                    random_id=event.random_id,\n",
    "                    \n",
    "                    message='''Вначале приветствие , молодой джентльмен! А если хочешь поиграть в доту пиши: 'На ком мне поиграть?' ''')\n",
    "    "
   ]
  },
  {
   "cell_type": "code",
   "execution_count": 108,
   "metadata": {},
   "outputs": [],
   "source": [
    "b = random.choice(heroess)"
   ]
  },
  {
   "cell_type": "code",
   "execution_count": 141,
   "metadata": {},
   "outputs": [],
   "source": [
    "positions = ['Safe core','Mid core','Hardlainer','Soft support','Hard support']\n",
    "position = random.choice(positions)\n",
    "hero = random.choice(heroess)"
   ]
  },
  {
   "cell_type": "code",
   "execution_count": 122,
   "metadata": {},
   "outputs": [
    {
     "name": "stdout",
     "output_type": "stream",
     "text": [
      "Позиция - MID Герой -  Gyrocopter\n"
     ]
    }
   ],
   "source": [
    "print('Позиция -',position,'Герой - ',hero)"
   ]
  },
  {
   "cell_type": "code",
   "execution_count": 127,
   "metadata": {},
   "outputs": [
    {
     "data": {
      "text/plain": [
       "['b', 'b', 'bb', 'bb']"
      ]
     },
     "execution_count": 127,
     "metadata": {},
     "output_type": "execute_result"
    }
   ],
   "source": [
    "'b b bb bb '.split()"
   ]
  },
  {
   "cell_type": "code",
   "execution_count": 142,
   "metadata": {},
   "outputs": [
    {
     "ename": "SyntaxError",
     "evalue": "invalid syntax (<ipython-input-142-ec6addacdafa>, line 1)",
     "output_type": "error",
     "traceback": [
      "\u001b[0;36m  File \u001b[0;32m\"<ipython-input-142-ec6addacdafa>\"\u001b[0;36m, line \u001b[0;32m1\u001b[0m\n\u001b[0;31m    print('Позиция -'+' '+position+',' 'Герой - '+hero))\u001b[0m\n\u001b[0m                                                       ^\u001b[0m\n\u001b[0;31mSyntaxError\u001b[0m\u001b[0;31m:\u001b[0m invalid syntax\n"
     ]
    }
   ],
   "source": [
    "print('Позиция -'+' '+position+',' 'Герой - '+hero))"
   ]
  },
  {
   "cell_type": "code",
   "execution_count": 144,
   "metadata": {},
   "outputs": [],
   "source": [
    "b = 'АГА'\n",
    "b = b.lower()"
   ]
  },
  {
   "cell_type": "code",
   "execution_count": 145,
   "metadata": {},
   "outputs": [
    {
     "name": "stdout",
     "output_type": "stream",
     "text": [
      "ага\n"
     ]
    }
   ],
   "source": [
    "print(b)"
   ]
  },
  {
   "cell_type": "code",
   "execution_count": 169,
   "metadata": {},
   "outputs": [],
   "source": [
    "b = 'иди нахуй'"
   ]
  },
  {
   "cell_type": "code",
   "execution_count": 170,
   "metadata": {},
   "outputs": [
    {
     "name": "stdout",
     "output_type": "stream",
     "text": [
      "иди нахуй\n"
     ]
    }
   ],
   "source": [
    "if 'хуй' in b:\n",
    "    print(b)"
   ]
  },
  {
   "cell_type": "code",
   "execution_count": 164,
   "metadata": {},
   "outputs": [
    {
     "name": "stdout",
     "output_type": "stream",
     "text": [
      "иди нахуй\n"
     ]
    }
   ],
   "source": [
    "if b.find('хпаывп'):\n",
    "    print(b)"
   ]
  },
  {
   "cell_type": "code",
   "execution_count": 4,
   "metadata": {},
   "outputs": [],
   "source": [
    "b = \"Aгапонял\""
   ]
  },
  {
   "cell_type": "code",
   "execution_count": 2,
   "metadata": {},
   "outputs": [
    {
     "data": {
      "text/plain": [
       "'Aгапон'"
      ]
     },
     "execution_count": 2,
     "metadata": {},
     "output_type": "execute_result"
    }
   ],
   "source": [
    "b[:-2]"
   ]
  },
  {
   "cell_type": "code",
   "execution_count": 5,
   "metadata": {},
   "outputs": [
    {
     "name": "stdout",
     "output_type": "stream",
     "text": [
      "Aгапонял\n"
     ]
    }
   ],
   "source": [
    "print(b)"
   ]
  },
  {
   "cell_type": "code",
   "execution_count": null,
   "metadata": {},
   "outputs": [],
   "source": []
  }
 ],
 "metadata": {
  "kernelspec": {
   "display_name": "Python 3",
   "language": "python",
   "name": "python3"
  },
  "language_info": {
   "codemirror_mode": {
    "name": "ipython",
    "version": 3
   },
   "file_extension": ".py",
   "mimetype": "text/x-python",
   "name": "python",
   "nbconvert_exporter": "python",
   "pygments_lexer": "ipython3",
   "version": "3.7.4"
  }
 },
 "nbformat": 4,
 "nbformat_minor": 4
}
