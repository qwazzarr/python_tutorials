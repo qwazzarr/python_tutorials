{
 "cells": [
  {
   "cell_type": "code",
   "execution_count": 9,
   "metadata": {},
   "outputs": [
    {
     "name": "stdout",
     "output_type": "stream",
     "text": [
      "12:34-23.04\n",
      "K\n"
     ]
    },
    {
     "data": {
      "text/plain": [
       "'двенадцать часов тридцать четыре минуты двадцать третьего Апреля'"
      ]
     },
     "execution_count": 9,
     "metadata": {},
     "output_type": "execute_result"
    }
   ],
   "source": [
    "class Data():\n",
    "    def __init__(self,data):\n",
    "        time,data = data.split('-')\n",
    "        day, month = data.split('.')\n",
    "        hour, minute = time.split(':')\n",
    "        self.day = int(day)\n",
    "        self.month = month\n",
    "        self.hour = int(hour)\n",
    "        self.minute = int(minute)\n",
    "        self.time =  time\n",
    "        self.data = data\n",
    "    def transform_data(self,direction):\n",
    "        days = {'01':31,'02':29,'03':31,'04':30,'05':31,'06':30,\n",
    "                '07':31,'08':31,'09':30,'10':31,'11':30,'12':31}\n",
    "        \n",
    "        if direction == 'M':\n",
    "            self.day +=13\n",
    "            if self.day > days[self.month]:\n",
    "                self.day -= days[self.month] \n",
    "                self.month =int(self.month)+1\n",
    "                if self.month == 13:\n",
    "                    self.month = 1\n",
    "                    \n",
    "        if direction == 'W':\n",
    "            self.day-=13\n",
    "            if self.day <= 0:\n",
    "                self.day = abs(self.day) + 1\n",
    "                self.month =int(self.month) - 1\n",
    "                if self.month == 0:\n",
    "                    self.month = 12\n",
    "        if direction == 'K':\n",
    "            self.month = int(self.month)\n",
    "            \n",
    "        \n",
    "                    \n",
    "def in_writing(hour,minute,day,month): #просто доделай перевод из цифрового формата в письменный\n",
    "    months = {12:'Декабря',1:'Января',2:'Февраля',3:'Марта',4:'Апреля',5:'Мая',\n",
    "              6:'Июня',7:'Июля',8:'Августа',9:'Сентября',10:'Октрября',11:'Ноября'}\n",
    "    days = {0:'',1:'первого',2:'второго',3:'третьего',4:'четвертого',5:'пятого',6:'шестого',7:'седьмого',8:'восьмого',\n",
    "           9:'девятого',10:'десятого',11:'одинадцатого',12:'двенадцатового',13:'тринадцатого',\n",
    "           14:'четырнадцатого',15:'пятнадцатого',16:'шестнадцатого',\n",
    "           17:'семнадцатого',18:'восемнадцатого',19:'девятнадцатого',20:'двадцатого',30:'тридцатого'}\n",
    "    day_complex = {20:'двадцать',30:'тридцать'}\n",
    "    hours = {0:'ноль',1:'один',2:'два',3:'три',4:'четыре',5:'пять',6:'шесть',7:'семь',8:'восемь',9:'девять',10:'десять',\n",
    "            11:'одинадцать',12:'двенадцать',13:'тринадцать',14:'четырнадцать',15:'пятнадцать',\n",
    "            16:'шестнадцать',17:'семнадцать',18:'восемнадцать',19:'девятнадцать',20:'двадцать',21:'двадцать один',22:'двадцать два',\n",
    "            23:'двадцать три',24:'двадцать четыре'}\n",
    "    minutes = {0:'',1:'одна',2:'две',3:'три',4:'четыре',5:'пять',6:'шесть',7:'семь',8:'восемь',9:'девять',10:'десять',\n",
    "            11:'одинадцать',12:'двенадцать',13:'тринадцать',14:'четырнадцать',15:'пятнадцать',\n",
    "            16:'шестнадцать',17:'семнадцать',18:'восемнадцать',19:'девятнадцать',20:'двадцать',30:'тридцать',40:'сорок',\n",
    "             50:'пятьдесят',60:'шестьдесят'}\n",
    "    \n",
    "    #hours\n",
    "    if hour == 21 or hour == 1:\n",
    "        hour = hours[hour]+' час'\n",
    "    elif hour in {2,3,4,22,23,24}:\n",
    "        hour = hours[hour]+' часа'\n",
    "    else:\n",
    "        hour = hours[hour]+' часов'\n",
    "    \n",
    "    #minutes\n",
    "    if minute == 0:\n",
    "        minute = 'ноль минут'\n",
    "    elif minute%10 == 1 and minute!= 11:\n",
    "        minute = minutes[(minute//10)*10]+' '+minutes[minute%10]+' минута'\n",
    "    elif minute%10 in {2,3,4} and minute//10!=1:\n",
    "        minute = minutes[(minute//10)*10]+' '+minutes[minute%10]+' минуты'\n",
    "    else:\n",
    "        minute = minutes[(minute//10)*10]+' '+minutes[minute%10]+' минут'\n",
    "    \n",
    "    #days\n",
    "    if day > 20 and day!= 30:\n",
    "        day = day_complex[(day//10)*10]+' '+days[day%10]\n",
    "    else:\n",
    "        day = days[day]\n",
    "\n",
    "    \n",
    "    \n",
    "    \n",
    "    \n",
    "    return '{0} {1} {2} {3}'.format(hour,minute,day,months[month])    \n",
    "    \n",
    "    \n",
    "            \n",
    "            \n",
    "    \n",
    "def  main_function(time,direction):\n",
    "    data = Data(str(time)) \n",
    "    data.transform_data(str(direction))\n",
    "    new_data = in_writing(data.hour,data.minute,data.day,data.month)\n",
    "    return new_data\n",
    "\n",
    "\n",
    "main_function(input(),input())\n",
    "    \n",
    "    \n",
    "        \n",
    "        \n",
    "        \n",
    "                \n",
    "        \n",
    "        \n"
   ]
  },
  {
   "cell_type": "code",
   "execution_count": 26,
   "metadata": {},
   "outputs": [
    {
     "data": {
      "text/plain": [
       "'001'"
      ]
     },
     "execution_count": 26,
     "metadata": {},
     "output_type": "execute_result"
    }
   ],
   "source": [
    "bin(4)[:1:-1]"
   ]
  }
 ],
 "metadata": {
  "kernelspec": {
   "display_name": "Python 3",
   "language": "python",
   "name": "python3"
  },
  "language_info": {
   "codemirror_mode": {
    "name": "ipython",
    "version": 3
   },
   "file_extension": ".py",
   "mimetype": "text/x-python",
   "name": "python",
   "nbconvert_exporter": "python",
   "pygments_lexer": "ipython3",
   "version": "3.7.4"
  }
 },
 "nbformat": 4,
 "nbformat_minor": 2
}
