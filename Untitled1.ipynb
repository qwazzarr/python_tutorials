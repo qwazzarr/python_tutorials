{
 "cells": [
  {
   "cell_type": "code",
   "execution_count": 15,
   "metadata": {},
   "outputs": [],
   "source": [
    "def leaderboard(scores, alice):\n",
    "    actual_scores = dict()\n",
    "    count = 0\n",
    "    for i in scores:\n",
    "        if i not in actual_scores.keys():\n",
    "            count+= 1\n",
    "            actual_scores[i] = count\n",
    "    for alice_score in alice:\n",
    "        flag = False \n",
    "        for i in actual_scores.keys():\n",
    "            if alice_score >= i:\n",
    "                print(actual_scores[i])\n",
    "                flag = True\n",
    "                break\n",
    "        if not flag:\n",
    "            print(len(actual_scores)+1)\n",
    "        "
   ]
  },
  {
   "cell_type": "code",
   "execution_count": 31,
   "metadata": {},
   "outputs": [
    {
     "name": "stdout",
     "output_type": "stream",
     "text": [
      "1 21 1 1\n"
     ]
    }
   ],
   "source": [
    "b =[int(i) for i in input().split()]"
   ]
  },
  {
   "cell_type": "code",
   "execution_count": 55,
   "metadata": {},
   "outputs": [],
   "source": [
    "n = 4\n",
    "result =str()"
   ]
  },
  {
   "cell_type": "code",
   "execution_count": 56,
   "metadata": {},
   "outputs": [],
   "source": [
    "for i in range(n-1):\n",
    "        result +=str(' '*(n-i-1) + '#'*(i+1)+'\\n')\n",
    "result += str('#'*n)"
   ]
  },
  {
   "cell_type": "code",
   "execution_count": 48,
   "metadata": {},
   "outputs": [
    {
     "data": {
      "text/plain": [
       "'\\n   #\\n  ##\\n ###\\n####   #\\n  ##\\n ###\\n####\\n'"
      ]
     },
     "execution_count": 48,
     "metadata": {},
     "output_type": "execute_result"
    }
   ],
   "source": [
    "result"
   ]
  },
  {
   "cell_type": "code",
   "execution_count": 57,
   "metadata": {},
   "outputs": [
    {
     "name": "stdout",
     "output_type": "stream",
     "text": [
      "   #\n",
      "  ##\n",
      " ###\n",
      "####\n"
     ]
    }
   ],
   "source": [
    "print(result)"
   ]
  },
  {
   "cell_type": "code",
   "execution_count": null,
   "metadata": {},
   "outputs": [],
   "source": [
    "def organizingContainers(container):\n",
    "    x_type = []\n",
    "    y_type = []\n",
    "    count_of_y = 0\n",
    "    count_of_x = 0\n",
    "    neutral_type = []\n",
    "    for i in range (len(container)): \n",
    "        count_of_y += container[i][0]\n",
    "        count_of_x += container[i][1]\n",
    "        if container[i][1]>container[i][0]:\n",
    "            x_type.append(i)\n",
    "        elif container[i][1]<container[i][0]:\n",
    "            y_type.append(i)                  \n",
    "        elif container[i][1] == containe[i][0]:\n",
    "            neutral_type.append(i)\n",
    "    "
   ]
  },
  {
   "cell_type": "code",
   "execution_count": 11,
   "metadata": {},
   "outputs": [],
   "source": [
    "def surfaceArea(A):\n",
    "    area = 0\n",
    "    if len(A) ==1:\n",
    "        if len(A[0])==1:\n",
    "            return 6\n",
    "        if A[0][0]>A[0][1]:\n",
    "            area += A[0][0]-A[0][1]\n",
    "        area += 2\n",
    "        area += A[0][0]*3\n",
    "        if A[0][-1]>A[0][-2]:\n",
    "            area += A[0][-1]-A[0][-2]\n",
    "        area += 2\n",
    "        area += A[0][-1]*3\n",
    "        for i in range(1,len(A[0])-1):\n",
    "            area += 2\n",
    "            area += A[0][i]*2\n",
    "            if A[0][i]>A[0][i-1]:\n",
    "                area += A[0][i]-A[0][i-1]\n",
    "            if A[0][i]>A[0][i+1]:\n",
    "                area += A[0][i]-A[0][i+1]\n",
    "        return area\n",
    "                \n",
    "                \n",
    "        #дальше ебашить фор по змейке\n",
    "    if len(A[0])==1:\n",
    "        if A[0][0]>A[1][0]:\n",
    "            area += A[0][0] - A[1][0]\n",
    "        area += 2\n",
    "        area += A[0][0]*3\n",
    "        if A[-1][0]>A[-2][0]:\n",
    "            area += A[-1][0]-A[-2][0]\n",
    "        area += 2\n",
    "        area += A[-1][0]*3\n",
    "        for i in range(1,len(A)-1):\n",
    "            area += 2\n",
    "            area += A[i][0]*2\n",
    "            if A[i][0]> A[i-1][0]:\n",
    "                area += A[i][0]-A[i-1][0]\n",
    "            if A[i][0]> A[i+1][0]:\n",
    "                area += A[i][0]- A[i+1][0]\n",
    "        return area \n",
    "        #фор по змейке\n",
    "        \n",
    "        \n",
    "    #A[0][0]\n",
    "    if A[0][0]>A[0][1]:\n",
    "        area += A[0][0]-A[0][1]\n",
    "    if A[0][0]>A[1][0]:\n",
    "        area += A[0][0] - A[0][1]\n",
    "    area += 2\n",
    "    area += 2* A[0][0]\n",
    "    #A[0][-1]\n",
    "    if A[0][-1]>A[0][-2]:\n",
    "        area += A[0][-1]-A[0][-2]\n",
    "    if A[0][-1]>A[1][-1]:\n",
    "        area += A[0][-1] - A[1][-1]\n",
    "    area += 2\n",
    "    area += 2* A[0][-1]\n",
    "    #A[-1][0]\n",
    "    if A[-1][0]>A[-2][0]:\n",
    "        area += A[-1][0]-A[-2][0]\n",
    "    if A[-1][0]>A[-1][1]:\n",
    "        area += A[-1][0] - A[-1][1]\n",
    "    area += 2\n",
    "    area += 2* A[-1][0]\n",
    "    #A[-1][-1]\n",
    "    if A[-1][-1]>A[-2][-1]:\n",
    "        area += A[-1][-1]-A[-2][-1]\n",
    "    if A[-1][-1]>A[-1][-2]:\n",
    "        area += A[-1][-1] - A[-1][-2]\n",
    "    area += 2\n",
    "    area += 2* A[-1][-1]\n",
    " \n",
    "    #Верхняя и нижняя змейка\n",
    "    for i in range(1,len(A[0])-1):\n",
    "        area += 4\n",
    "        area += A[0][i]\n",
    "        area += A[-1][i]\n",
    "        if A[0][i]>A[0][i-1]:\n",
    "            area += A[0][i]- A[0][i-1]\n",
    "        if A[0][i]>A[0][i+1]:\n",
    "            area += A[0][i] -A[0][i+1]\n",
    "        if A[0][i]>A[1][i]:\n",
    "            area += A[0][i] - A[1][i]\n",
    "        if A[-1][i]>A[-1][i-1]:\n",
    "            area += A[-1][i]- A[-1][i-1]\n",
    "        if A[-1][i]>A[-1][i+1]:\n",
    "            area += A[-1][i] -A[-1][i+1]\n",
    "        if A[-1][i]>A[-2][i]:\n",
    "            area += A[-1][i] - A[-2][i]\n",
    "    \n",
    "    #Левая и правая\n",
    "    for i in range(1,len(A)-1):\n",
    "        area += 4\n",
    "        \n",
    "        area += A[i][0]\n",
    "        \n",
    "        area += A[i][-1]\n",
    "        \n",
    "        if A[i][0]>A[i-1][0]:\n",
    "            area += A[i][0]- A[i-1][0]\n",
    "        if A[i][0]>A[i+1][0]:\n",
    "            area += A[i][0] -A[i+1][0]\n",
    "        if A[i][0]>A[i][1]:\n",
    "            area += A[i][0] - A[i][1]\n",
    "        if A[i][-1]>A[i-1][-1]:\n",
    "            area += A[i][-1]- A[i-1][-1]\n",
    "        if A[i][-1]>A[i+1][-1]:\n",
    "            area += A[i][-1] -A[i+1][-1]\n",
    "        if A[i][-1]>A[i][-2]:\n",
    "            area += A[i][-1] - A[i][-2]\n",
    "   \n",
    "    #центр\n",
    "    for i in range(1,len(A[0])-1):\n",
    "        for b in range(1,len(A)-1):\n",
    "            area+=2\n",
    "            el =A[i][b]\n",
    "            if el> A[i][b+1]:\n",
    "                area += el-A[i][b+1]\n",
    "            if el >A[i][b-1]:\n",
    "                area += el-A[i][b-1]\n",
    "            if el >A[i+1][b]:\n",
    "                area += el - A[i+1][b]\n",
    "            if el > A[i-1][b]:\n",
    "                area += el - A[i-1][b]\n",
    "    return area\n",
    "        \n",
    "    "
   ]
  },
  {
   "cell_type": "code",
   "execution_count": 100,
   "metadata": {},
   "outputs": [],
   "source": [
    "def encryption(s):\n",
    "    s.strip()\n",
    "    count =0\n",
    "    amount_of_rows = int(len(s)**0.5)\n",
    "    amount_of_columns = int(len(s)**0.5)+1\n",
    "    if amount_of_columns*amount_of_rows<len(s):\n",
    "        amount_of_rows+=1\n",
    "    while amount_of_rows*amount_of_columns < len(s):\n",
    "        if (amount_of_rows+1)*amount_of_columns<(amount_of_columns+1)*amount_of_rows:\n",
    "            amount_of_rows+=1\n",
    "        else:\n",
    "            amount_of_columns+=1\n",
    "    table = [[0]*amount_of_columns for i in range(amount_of_rows)]\n",
    "    for i in range(amount_of_rows):\n",
    "        for b in range(amount_of_columns):\n",
    "            try:\n",
    "                table[i][b] = s[count]\n",
    "                count+=1\n",
    "            except:\n",
    "                break\n",
    "    answer = str()\n",
    "    print( table )\n",
    "    print(amount_of_rows,amount_of_columns)\n",
    "    for i in range(amount_of_columns):\n",
    "        for b in range(amount_of_rows):\n",
    "            if table[b][i] != 0:\n",
    "                answer+=table[b][i]\n",
    "        answer+='\\n'\n",
    "    print( answer )"
   ]
  },
  {
   "cell_type": "code",
   "execution_count": 101,
   "metadata": {},
   "outputs": [
    {
     "name": "stdout",
     "output_type": "stream",
     "text": [
      "[['c', 'h', 'i'], ['l', 'l', 'o'], ['u', 't', 0]]\n",
      "3 3\n",
      "clu\n",
      "hlt\n",
      "io\n",
      "\n"
     ]
    }
   ],
   "source": [
    "encryption(s)"
   ]
  },
  {
   "cell_type": "code",
   "execution_count": 49,
   "metadata": {},
   "outputs": [],
   "source": [
    "amount_of_rows = int(len(s)**0.5)\n",
    "amount_of_columns = int(len(s)**0.5)+1\n",
    "table = [[0]*amount_of_columns for i in range(amount_of_rows)]"
   ]
  },
  {
   "cell_type": "code",
   "execution_count": 94,
   "metadata": {},
   "outputs": [],
   "source": [
    "s ='chillout'"
   ]
  },
  {
   "cell_type": "code",
   "execution_count": 102,
   "metadata": {},
   "outputs": [
    {
     "data": {
      "text/plain": [
       "'a'"
      ]
     },
     "execution_count": 102,
     "metadata": {},
     "output_type": "execute_result"
    }
   ],
   "source": [
    "min('ab')"
   ]
  },
  {
   "cell_type": "code",
   "execution_count": 104,
   "metadata": {},
   "outputs": [
    {
     "data": {
      "text/plain": [
       "'baa'"
      ]
     },
     "execution_count": 104,
     "metadata": {},
     "output_type": "execute_result"
    }
   ],
   "source": [
    "max('baa','aab')"
   ]
  },
  {
   "cell_type": "code",
   "execution_count": 57,
   "metadata": {},
   "outputs": [],
   "source": [
    "def biggerIsGreater(w):\n",
    "    minimum = 'z'*101\n",
    "    for i in range(len(w)):\n",
    "        for b in range(i+1,len(w)):\n",
    "            new_word = w[0:i]+w[b]+w[i+1:b]+w[i]+w[b+1:]\n",
    "            print(new_word)\n",
    "            if new_word > w :\n",
    "                print('1 barrier')\n",
    "                if new_word<minimum:\n",
    "                    print('2 barrier')\n",
    "                    minimum = new_word\n",
    "    if minimum == 'z'*101:\n",
    "        return 'no answer'\n",
    "    return minimum\n",
    "            \n",
    "            "
   ]
  },
  {
   "cell_type": "code",
   "execution_count": 58,
   "metadata": {},
   "outputs": [
    {
     "name": "stdout",
     "output_type": "stream",
     "text": [
      "kdhc\n",
      "1 barrier\n",
      "2 barrier\n",
      "hkdc\n",
      "1 barrier\n",
      "2 barrier\n",
      "ckhd\n",
      "dhkc\n",
      "dchk\n",
      "dkch\n"
     ]
    },
    {
     "data": {
      "text/plain": [
       "'hkdc'"
      ]
     },
     "execution_count": 58,
     "metadata": {},
     "output_type": "execute_result"
    }
   ],
   "source": [
    "biggerIsGreater('dkhc')"
   ]
  },
  {
   "cell_type": "code",
   "execution_count": 119,
   "metadata": {},
   "outputs": [
    {
     "data": {
      "text/plain": [
       "False"
      ]
     },
     "execution_count": 119,
     "metadata": {},
     "output_type": "execute_result"
    }
   ],
   "source": [
    "'h'>'h'"
   ]
  },
  {
   "cell_type": "code",
   "execution_count": 124,
   "metadata": {},
   "outputs": [
    {
     "ename": "TypeError",
     "evalue": "'str' object does not support item assignment",
     "output_type": "error",
     "traceback": [
      "\u001b[0;31m---------------------------------------------------------------------------\u001b[0m",
      "\u001b[0;31mTypeError\u001b[0m                                 Traceback (most recent call last)",
      "\u001b[0;32m<ipython-input-124-c003355215bb>\u001b[0m in \u001b[0;36m<module>\u001b[0;34m\u001b[0m\n\u001b[1;32m      1\u001b[0m \u001b[0mword\u001b[0m \u001b[0;34m=\u001b[0m \u001b[0;34m'huilala'\u001b[0m\u001b[0;34m\u001b[0m\u001b[0;34m\u001b[0m\u001b[0m\n\u001b[0;32m----> 2\u001b[0;31m \u001b[0mword\u001b[0m\u001b[0;34m[\u001b[0m\u001b[0;36m1\u001b[0m\u001b[0;34m]\u001b[0m\u001b[0;34m,\u001b[0m\u001b[0mword\u001b[0m\u001b[0;34m[\u001b[0m\u001b[0;36m2\u001b[0m\u001b[0;34m]\u001b[0m \u001b[0;34m=\u001b[0m \u001b[0mword\u001b[0m\u001b[0;34m[\u001b[0m\u001b[0;36m2\u001b[0m\u001b[0;34m]\u001b[0m\u001b[0;34m,\u001b[0m\u001b[0mword\u001b[0m\u001b[0;34m[\u001b[0m\u001b[0;36m1\u001b[0m\u001b[0;34m]\u001b[0m\u001b[0;34m\u001b[0m\u001b[0;34m\u001b[0m\u001b[0m\n\u001b[0m",
      "\u001b[0;31mTypeError\u001b[0m: 'str' object does not support item assignment"
     ]
    }
   ],
   "source": [
    "word = 'huilala'\n",
    "word[1],word[2] = word[2],word[1]"
   ]
  },
  {
   "cell_type": "code",
   "execution_count": 123,
   "metadata": {},
   "outputs": [
    {
     "data": {
      "text/plain": [
       "True"
      ]
     },
     "execution_count": 123,
     "metadata": {},
     "output_type": "execute_result"
    }
   ],
   "source": [
    "'a' > ' '"
   ]
  },
  {
   "cell_type": "code",
   "execution_count": 3,
   "metadata": {},
   "outputs": [],
   "source": [
    "aff = 'aff'"
   ]
  },
  {
   "cell_type": "code",
   "execution_count": 59,
   "metadata": {},
   "outputs": [
    {
     "data": {
      "text/plain": [
       "['stack',\n",
       " 'stakc',\n",
       " 'stcak',\n",
       " 'stcka',\n",
       " 'stkac',\n",
       " 'stkca',\n",
       " 'satck',\n",
       " 'satkc',\n",
       " 'sactk',\n",
       " 'sackt',\n",
       " 'saktc',\n",
       " 'sakct',\n",
       " 'sctak',\n",
       " 'sctka',\n",
       " 'scatk',\n",
       " 'scakt',\n",
       " 'sckta',\n",
       " 'sckat',\n",
       " 'sktac',\n",
       " 'sktca',\n",
       " 'skatc',\n",
       " 'skact',\n",
       " 'skcta',\n",
       " 'skcat',\n",
       " 'tsack',\n",
       " 'tsakc',\n",
       " 'tscak',\n",
       " 'tscka',\n",
       " 'tskac',\n",
       " 'tskca',\n",
       " 'tasck',\n",
       " 'taskc',\n",
       " 'tacsk',\n",
       " 'tacks',\n",
       " 'taksc',\n",
       " 'takcs',\n",
       " 'tcsak',\n",
       " 'tcska',\n",
       " 'tcask',\n",
       " 'tcaks',\n",
       " 'tcksa',\n",
       " 'tckas',\n",
       " 'tksac',\n",
       " 'tksca',\n",
       " 'tkasc',\n",
       " 'tkacs',\n",
       " 'tkcsa',\n",
       " 'tkcas',\n",
       " 'astck',\n",
       " 'astkc',\n",
       " 'asctk',\n",
       " 'asckt',\n",
       " 'asktc',\n",
       " 'askct',\n",
       " 'atsck',\n",
       " 'atskc',\n",
       " 'atcsk',\n",
       " 'atcks',\n",
       " 'atksc',\n",
       " 'atkcs',\n",
       " 'acstk',\n",
       " 'acskt',\n",
       " 'actsk',\n",
       " 'actks',\n",
       " 'ackst',\n",
       " 'ackts',\n",
       " 'akstc',\n",
       " 'aksct',\n",
       " 'aktsc',\n",
       " 'aktcs',\n",
       " 'akcst',\n",
       " 'akcts',\n",
       " 'cstak',\n",
       " 'cstka',\n",
       " 'csatk',\n",
       " 'csakt',\n",
       " 'cskta',\n",
       " 'cskat',\n",
       " 'ctsak',\n",
       " 'ctska',\n",
       " 'ctask',\n",
       " 'ctaks',\n",
       " 'ctksa',\n",
       " 'ctkas',\n",
       " 'castk',\n",
       " 'caskt',\n",
       " 'catsk',\n",
       " 'catks',\n",
       " 'cakst',\n",
       " 'cakts',\n",
       " 'cksta',\n",
       " 'cksat',\n",
       " 'cktsa',\n",
       " 'cktas',\n",
       " 'ckast',\n",
       " 'ckats',\n",
       " 'kstac',\n",
       " 'kstca',\n",
       " 'ksatc',\n",
       " 'ksact',\n",
       " 'kscta',\n",
       " 'kscat',\n",
       " 'ktsac',\n",
       " 'ktsca',\n",
       " 'ktasc',\n",
       " 'ktacs',\n",
       " 'ktcsa',\n",
       " 'ktcas',\n",
       " 'kastc',\n",
       " 'kasct',\n",
       " 'katsc',\n",
       " 'katcs',\n",
       " 'kacst',\n",
       " 'kacts',\n",
       " 'kcsta',\n",
       " 'kcsat',\n",
       " 'kctsa',\n",
       " 'kctas',\n",
       " 'kcast',\n",
       " 'kcats']"
      ]
     },
     "execution_count": 59,
     "metadata": {},
     "output_type": "execute_result"
    }
   ],
   "source": [
    "from itertools import permutations\n",
    "perms = [''.join(p) for p in permutations('stack')]\n",
    "perms"
   ]
  },
  {
   "cell_type": "code",
   "execution_count": 5,
   "metadata": {},
   "outputs": [
    {
     "data": {
      "text/plain": [
       "'aff'"
      ]
     },
     "execution_count": 5,
     "metadata": {},
     "output_type": "execute_result"
    }
   ],
   "source": [
    "aff"
   ]
  },
  {
   "cell_type": "code",
   "execution_count": 6,
   "metadata": {},
   "outputs": [],
   "source": [
    "bb = aff.replace('a','d')"
   ]
  },
  {
   "cell_type": "code",
   "execution_count": 7,
   "metadata": {},
   "outputs": [
    {
     "data": {
      "text/plain": [
       "'dff'"
      ]
     },
     "execution_count": 7,
     "metadata": {},
     "output_type": "execute_result"
    }
   ],
   "source": [
    "bb"
   ]
  },
  {
   "cell_type": "code",
   "execution_count": 8,
   "metadata": {},
   "outputs": [],
   "source": [
    "bb =bb.replace(bb[1],bb[0])"
   ]
  },
  {
   "cell_type": "code",
   "execution_count": 9,
   "metadata": {},
   "outputs": [
    {
     "data": {
      "text/plain": [
       "'ddd'"
      ]
     },
     "execution_count": 9,
     "metadata": {},
     "output_type": "execute_result"
    }
   ],
   "source": [
    "bb"
   ]
  },
  {
   "cell_type": "code",
   "execution_count": 60,
   "metadata": {},
   "outputs": [],
   "source": [
    "a = 'bbggg'"
   ]
  },
  {
   "cell_type": "code",
   "execution_count": null,
   "metadata": {},
   "outputs": [],
   "source": [
    "a.replace()"
   ]
  },
  {
   "cell_type": "code",
   "execution_count": 44,
   "metadata": {},
   "outputs": [],
   "source": [
    "a = a[0:2]"
   ]
  },
  {
   "cell_type": "code",
   "execution_count": 45,
   "metadata": {},
   "outputs": [
    {
     "data": {
      "text/plain": [
       "'gg'"
      ]
     },
     "execution_count": 45,
     "metadata": {},
     "output_type": "execute_result"
    }
   ],
   "source": [
    "def greater_permutations(n:str, prefix = None ):\n",
    "    global list_of_all_shit\n",
    "    prefix = prefix or []\n",
    "    if len(n) == 0:\n",
    "        list_of_all_shit.append(prefix)\n",
    "        return\n",
    "    for letter in n:\n",
    "        \n",
    "        \n",
    "    "
   ]
  },
  {
   "cell_type": "code",
   "execution_count": 76,
   "metadata": {},
   "outputs": [
    {
     "name": "stdout",
     "output_type": "stream",
     "text": [
      "0\n",
      "0\n",
      "3\n",
      "3\n",
      "3\n",
      "6\n",
      "6\n"
     ]
    },
    {
     "data": {
      "text/plain": [
       "9"
      ]
     },
     "execution_count": 76,
     "metadata": {},
     "output_type": "execute_result"
    }
   ],
   "source": [
    "queensAttack(4, 0, 4, 4, [])"
   ]
  },
  {
   "cell_type": "code",
   "execution_count": 75,
   "metadata": {},
   "outputs": [],
   "source": [
    "def queensAttack(n, k, r_q, c_q, obstacles):\n",
    "    row = r_q+1\n",
    "    column = c_q-1\n",
    "    count = 0\n",
    "    while 0< row <=n and 0< column <=n:\n",
    "        if [row,column] in obstacles:\n",
    "            break\n",
    "        count+=1\n",
    "        row+=1\n",
    "        column-=1\n",
    "    row = r_q+1\n",
    "    column = c_q+1\n",
    "    print(count)\n",
    "    while 0< row <=n and 0< column <=n:\n",
    "        if [row,column] in obstacles:\n",
    "            break\n",
    "        count+=1\n",
    "        row+=1\n",
    "        column+=1\n",
    "    row = r_q-1\n",
    "    column = c_q-1\n",
    "    print(count)\n",
    "    while 0< row <=n and 0< column <=n:\n",
    "        if [row,column] in obstacles:\n",
    "            break\n",
    "        count+=1\n",
    "        row-=1\n",
    "        column-=1\n",
    "    row = r_q-1\n",
    "    column = c_q+1\n",
    "    print(count)\n",
    "    while 0< row <=n and 0< column <=n:\n",
    "        if [row,column] in obstacles:\n",
    "\n",
    "            break\n",
    "        count+=1\n",
    "        row -=1\n",
    "        column+=1\n",
    "    row = r_q\n",
    "    column = c_q+1\n",
    "    print(count)\n",
    "    while 0< row <=n and 0< column <=n:\n",
    "        if [row,column] in obstacles:\n",
    "            break\n",
    "        count+=1\n",
    "        column+=1\n",
    "    row = r_q\n",
    "    column = c_q-1\n",
    "    print(count)\n",
    "    while 0< row <=n and 0< column <=n:\n",
    "        if [row,column] in obstacles:\n",
    "            break\n",
    "        count+=1\n",
    "        column -=1\n",
    "    row = r_q+1\n",
    "    column = c_q\n",
    "    print(count)\n",
    "    while 0< row <=n and 0< column <=n:\n",
    "        if [row,column] in obstacles:\n",
    "            break\n",
    "        count+=1\n",
    "        row+=1\n",
    "    row = r_q - 1\n",
    "    column = c_q\n",
    "    print(count)\n",
    "    while 0< row <=n and 0< column <=n:\n",
    "        if [row,column] in obstacles:\n",
    "            break\n",
    "        count+=1\n",
    "        row -=1\n",
    "    return count\n",
    "    \n",
    "    \n",
    "        \n",
    "        \n",
    "        \n",
    "        \n",
    "    \n",
    "        \n",
    "        \n",
    "        \n",
    "#The first line contains two space-separated integers N and K, the length of the board's sides and the number of obstacles. \n",
    "#The next line contains two space-separated integers rq and cq , the queen's row and column position. \n",
    "#Each of the next k lines contains two space-separated integers  and , the row and column position of ."
   ]
  },
  {
   "cell_type": "code",
   "execution_count": 77,
   "metadata": {},
   "outputs": [],
   "source": [
    "a = 0"
   ]
  },
  {
   "cell_type": "code",
   "execution_count": 43,
   "metadata": {},
   "outputs": [],
   "source": [
    "def bomb(i,b,grid,second):\n",
    "    grid[i] = grid[i][:b]+'.'+grid[i][b+1:]\n",
    "    \n",
    "    \n",
    "    \n",
    "    \n",
    "    if b == 0:\n",
    "        \n",
    "        if i >=len(grid)-1:\n",
    "            if grid[i][b+1] == str(second):\n",
    "                grid = bomb(i,b+1,grid,second)\n",
    "            grid[i] = grid[i][:b] + '..' +grid[i][b+2:]\n",
    "            grid[i-1] =grid[i-1][:b] + '.' +grid[i-1][b+1:]\n",
    "            return grid\n",
    "        \n",
    "        if grid[i][b+1] == str(second):\n",
    "            grid = bomb(i,b+1,grid,second)\n",
    "        if grid[i+1][b] == str(second):\n",
    "            grid = bomb(i+1,b,grid,second)\n",
    "        grid[i] = grid[i][:b] + '..' +grid[i][b+2:]\n",
    "        grid[i+1] = grid[i+1][:b] + '.' +grid[i+1][b+1:]\n",
    "        grid[i-1] =grid[i-1][:b] + '.' +grid[i-1][b+1:]\n",
    "        return grid\n",
    "    if b == len(grid[0])-1:\n",
    "        if grid[i+1][b] == str(second):\n",
    "            grid = bomb(i+1,b,grid,second)\n",
    "        grid[i] = grid[:b]+'..'\n",
    "        grid[i+1] = grid[i+1][:b] + '.' +grid[i+1][b+1:]\n",
    "        grid[i-1] =grid[i-1][:b] + '.' +grid[i-1][b+1:]\n",
    "        return grid \n",
    "    if i == 0:\n",
    "        if grid[i][b+1] == str(second):\n",
    "            grid = bomb(i,b+1,grid,second)\n",
    "        if grid[i+1][b] == str(second):\n",
    "            grid = bomb(i+1,b,grid,second)\n",
    "        grid[i] = grid[i][:b] + '...' +grid[i][b+2:]\n",
    "        grid[i+1] = grid[i+1][:b] + '.' +grid[i+1][b+1:]\n",
    "        return grid\n",
    "    if i >=len(grid)-1:\n",
    "        if grid[i][b+1] == str(second):\n",
    "            grid = bomb(i,b+1,grid,second)\n",
    "        grid[i] = grid[i][:b] + '..' +grid[i][b+2:]\n",
    "        grid[i-1] =grid[i-1][:b] + '.' +grid[i-1][b+1:]\n",
    "        return grid\n",
    "        \n",
    "    \n",
    "        \n",
    "        \n",
    "        \n",
    "        \n",
    "        \n",
    "    \n",
    "        \n",
    "    if grid[i][b+1] == str(second):\n",
    "        grid = bomb(i,b+1,grid,second)\n",
    "    if grid[i+1][b] == str(second):\n",
    "        grid = bomb(i+1,b,grid,second)   \n",
    "    grid[i] = grid[i][:b-1] + '...' +grid[i][b+2:]\n",
    "    grid[i+1] = grid[i+1][:b] + '.' +grid[i+1][b+1:]\n",
    "    grid[i-1] =grid[i-1][:b] + '.' +grid[i-1][b+1:]\n",
    "    return grid "
   ]
  },
  {
   "cell_type": "code",
   "execution_count": 44,
   "metadata": {},
   "outputs": [],
   "source": [
    "\n",
    "def bomberMan(n, grid):\n",
    "    grid = grid.split()\n",
    "    for i in range(len(grid)):\n",
    "        for b in range(len(grid[0])):\n",
    "            if grid[i][b] == 'O':\n",
    "                grid[i] = grid[i].replace(grid[i][b],'0')\n",
    "    \n",
    "    \n",
    "    \n",
    "    for second in range(2,n+1):\n",
    "        if second%2 == 0:\n",
    "            for i in range(len(grid)):\n",
    "                for b in range(len(grid[0])):\n",
    "                    if grid[i][b] == '.':\n",
    "                        grid[i] = grid[i].replace(grid[i][b],str(second))\n",
    "                        \n",
    "                    \n",
    "        else:\n",
    "            for i in range(len(grid)):\n",
    "                for b in range(len(grid[0])):\n",
    "                    if grid[i][b] == str(second-3):\n",
    "                        print(grid)\n",
    "                        grid = bomb(i,b,grid,second-3)\n",
    "                        print(grid)\n",
    "                        \n",
    "    \n",
    "    for i in range(len(grid)):\n",
    "        for b in range(len(grid[0])):\n",
    "            if grid[i][b] != '.':\n",
    "                grid[i] = grid[i].replace(grid[i][b],'O')\n",
    "    grid = '\\n'.join(grid)\n",
    "    print(grid)\n",
    "    return grid\n",
    "            "
   ]
  },
  {
   "cell_type": "code",
   "execution_count": 45,
   "metadata": {},
   "outputs": [
    {
     "name": "stdout",
     "output_type": "stream",
     "text": [
      "['2222222', '2220222', '2222022', '2222222', '0022222', '0022222']\n",
      "['222.222', '22...22', '222.022', '2222222', '0022222', '0022222']\n",
      "['222.222', '22...22', '222.022', '2222222', '0022222', '0022222']\n",
      "['222.222', '22...22', '222...2', '2222.22', '0022222', '0022222']\n",
      "['222.222', '22...22', '222...2', '2222.22', '0022222', '0022222']\n",
      "['222.222', '22...22', '222...2', '..22.22', '...2222', '...2222']\n",
      "OOO.OOO\n",
      "OO...OO\n",
      "OOO...O\n",
      "..OO.OO\n",
      "...OOOO\n",
      "...OOOO\n"
     ]
    },
    {
     "data": {
      "text/plain": [
       "'OOO.OOO\\nOO...OO\\nOOO...O\\n..OO.OO\\n...OOOO\\n...OOOO'"
      ]
     },
     "execution_count": 45,
     "metadata": {},
     "output_type": "execute_result"
    }
   ],
   "source": [
    "bomberMan (3,a)"
   ]
  },
  {
   "cell_type": "code",
   "execution_count": 4,
   "metadata": {},
   "outputs": [],
   "source": [
    "a  = '.......\\n...O...\\n....O..\\n.......\\nOO.....\\nOO.....'"
   ]
  },
  {
   "cell_type": "code",
   "execution_count": 1,
   "metadata": {},
   "outputs": [
    {
     "data": {
      "text/plain": [
       "2.5"
      ]
     },
     "execution_count": 1,
     "metadata": {},
     "output_type": "execute_result"
    }
   ],
   "source": [
    "5/2"
   ]
  },
  {
   "cell_type": "code",
   "execution_count": 2,
   "metadata": {},
   "outputs": [
    {
     "data": {
      "text/plain": [
       "2"
      ]
     },
     "execution_count": 2,
     "metadata": {},
     "output_type": "execute_result"
    }
   ],
   "source": [
    "5//2"
   ]
  },
  {
   "cell_type": "code",
   "execution_count": 20,
   "metadata": {},
   "outputs": [],
   "source": [
    "def cutTheSticks(arr):\n",
    "    answer = []\n",
    "    while arr:\n",
    "        answer.append(len(arr))\n",
    "        min_element = min(arr)\n",
    "        if min(arr) == max(arr):\n",
    "            arr = []\n",
    "            return answer\n",
    "        for i in range(len(arr)):\n",
    "            print(arr)\n",
    "            arr[i] -= min_element\n",
    "        arr.remove(0)\n",
    "                \n",
    "                \n",
    "    else:\n",
    "        return answer\n"
   ]
  },
  {
   "cell_type": "code",
   "execution_count": 21,
   "metadata": {},
   "outputs": [
    {
     "name": "stdout",
     "output_type": "stream",
     "text": [
      "[1, 2, 3]\n",
      "[0, 2, 3]\n",
      "[0, 1, 3]\n",
      "[1, 2]\n",
      "[0, 2]\n"
     ]
    },
    {
     "data": {
      "text/plain": [
       "[3, 2, 1]"
      ]
     },
     "execution_count": 21,
     "metadata": {},
     "output_type": "execute_result"
    }
   ],
   "source": [
    "cutTheSticks([1,2,3])"
   ]
  },
  {
   "cell_type": "markdown",
   "metadata": {},
   "source": [
    "min([1,2,3])"
   ]
  },
  {
   "cell_type": "code",
   "execution_count": 16,
   "metadata": {},
   "outputs": [],
   "source": [
    "n = 12"
   ]
  },
  {
   "cell_type": "code",
   "execution_count": 17,
   "metadata": {},
   "outputs": [
    {
     "name": "stdout",
     "output_type": "stream",
     "text": [
      "1\n"
     ]
    }
   ],
   "source": [
    "while n>1:\n",
    "    n-=1\n",
    "else:\n",
    "    print('1')"
   ]
  },
  {
   "cell_type": "code",
   "execution_count": 22,
   "metadata": {},
   "outputs": [],
   "source": [
    "values =dict()"
   ]
  },
  {
   "cell_type": "code",
   "execution_count": 23,
   "metadata": {},
   "outputs": [],
   "source": [
    "values[1] = 2\n",
    "values[2] = 3"
   ]
  },
  {
   "cell_type": "code",
   "execution_count": 24,
   "metadata": {},
   "outputs": [
    {
     "name": "stdout",
     "output_type": "stream",
     "text": [
      "1\n",
      "2\n"
     ]
    }
   ],
   "source": [
    "for i in values:\n",
    "    print(i)"
   ]
  },
  {
   "cell_type": "code",
   "execution_count": 51,
   "metadata": {},
   "outputs": [],
   "source": [
    "def ICPC(topic):\n",
    "    max_topics = 0\n",
    "    pairs = 0\n",
    "    for i in range(len(topic)):\n",
    "        list_of_empty_topics = set()\n",
    "        base_of_topics = len(topic[i])\n",
    "        temp_count = 0\n",
    "        for b in range(len(topic[i])):\n",
    "            if topic[i][b] == 0:\n",
    "                list_of_empty_topics.add(b)\n",
    "                base_of_topics -=1 \n",
    "        for d in range(i+1,len(topic)):\n",
    "            temp_count = base_of_topics\n",
    "            for v in range(len(topic[i])):\n",
    "                if topic[d][v] == 1 and v in list_of_empty_topics:\n",
    "                    temp_count +=1\n",
    "            if temp_count > max_topics:\n",
    "                max_topics = temp_count\n",
    "                pairs = 1\n",
    "            elif temp_count == max_topics:\n",
    "                pairs +=1\n",
    "                print(i,d)\n",
    "    return max_topics , pairs\n",
    "            \n",
    "                "
   ]
  },
  {
   "cell_type": "code",
   "execution_count": 53,
   "metadata": {},
   "outputs": [
    {
     "name": "stdout",
     "output_type": "stream",
     "text": [
      "0 2\n",
      "0 5\n",
      "1 5\n",
      "2 3\n",
      "2 5\n",
      "3 5\n"
     ]
    },
    {
     "data": {
      "text/plain": [
       "(5, 6)"
      ]
     },
     "execution_count": 53,
     "metadata": {},
     "output_type": "execute_result"
    }
   ],
   "source": [
    "ICPC([[1,1,1,0,1],[1,0,1,0,1],[1,1,0,0,1],[1,0,1,1,1],[1,0,0,0,0],[0,1,1,1,0]])"
   ]
  },
  {
   "cell_type": "code",
   "execution_count": 54,
   "metadata": {},
   "outputs": [],
   "source": [
    "a = '1234'\n",
    "a = list(a)"
   ]
  },
  {
   "cell_type": "code",
   "execution_count": 55,
   "metadata": {},
   "outputs": [
    {
     "data": {
      "text/plain": [
       "['1', '2', '3', '4']"
      ]
     },
     "execution_count": 55,
     "metadata": {},
     "output_type": "execute_result"
    }
   ],
   "source": [
    "a"
   ]
  },
  {
   "cell_type": "code",
   "execution_count": 58,
   "metadata": {},
   "outputs": [],
   "source": [
    "def flatlandSpaceStations(n, c):\n",
    "    cities = [float(\"inf\")]*n\n",
    "    for i in c: \n",
    "        cities[i] = 0\n",
    "    for i in range(n):\n",
    "        not_found = True\n",
    "        length = 0\n",
    "        if cities[i] == 0:\n",
    "            continue\n",
    "        while not_found:\n",
    "            length+=1\n",
    "            if i-length>=0:\n",
    "                if cities[i-length] == 0:\n",
    "                    not_found = False\n",
    "            if i+length<=n-1:\n",
    "                if cities[i+length] == 0:\n",
    "                    not_found = False\n",
    "        else:\n",
    "            cities[i] = length\n",
    "    return max(cities)"
   ]
  },
  {
   "cell_type": "code",
   "execution_count": 59,
   "metadata": {},
   "outputs": [
    {
     "data": {
      "text/plain": [
       "6"
      ]
     },
     "execution_count": 59,
     "metadata": {},
     "output_type": "execute_result"
    }
   ],
   "source": [
    "flatlandSpaceStations(20,[13,1,11,10,6])"
   ]
  },
  {
   "cell_type": "code",
   "execution_count": 156,
   "metadata": {},
   "outputs": [],
   "source": [
    "def is_happy(board):\n",
    "    for i in range(len(board)):\n",
    "        if board[i] == '_':\n",
    "            continue \n",
    "        if i>0 and i<len(board)-1:\n",
    "            if board[i-1] == board[i] or board[i+1] == board[i]:\n",
    "                continue \n",
    "        if i == 0:\n",
    "            if board[i+1] == board[i]:\n",
    "                continue\n",
    "        if i == len(board) -1:\n",
    "            if board[i-1] == board[i]:\n",
    "                continue\n",
    "        return False\n",
    "    return True\n",
    "def is_happy2(board,i):\n",
    "    if board[i] == '_':\n",
    "            return True \n",
    "    if i>0 and i<len(board)-1:\n",
    "        if board[i-1] == board[i] or board[i+1] == board[i]:\n",
    "            return True \n",
    "    if i == 0:\n",
    "        if board[i+1] == board[i]:\n",
    "            return True\n",
    "    if i == len(board) -1:\n",
    "        if board[i-1] == board[i]:\n",
    "            return True\n",
    "    return False\n",
    "def move_colour(board):\n",
    "    done = True\n",
    "    while done:\n",
    "        done = False\n",
    "        for i in range(len(board)):\n",
    "            if not is_happy2(board,i):\n",
    "                for b in range(len(board)):\n",
    "                    if b == i-1:\n",
    "                        if board[b] ==  '_' and b!=0 and board[b-1] == board[i] :\n",
    "                            board[b] = board[i]\n",
    "                            board[i] = '_'\n",
    "                            done = True\n",
    "                            break\n",
    "                    elif b == i+1:\n",
    "                        if board[b] ==  '_' and b!=len(board)-1 and board[b+1] == board[i]:\n",
    "                            board[b] = board[i]\n",
    "                            board[i] = '_'\n",
    "                            done = True\n",
    "                            break\n",
    "                    else:\n",
    "                        if board[b] ==  '_' and ((b!=len(board)-1 and board[b+1] == board[i]) or (b!=0 and board[b-1] == board[i])):\n",
    "                            board[b] = board[i]\n",
    "                            board[i] = '_'\n",
    "                            done = True\n",
    "                            break\n",
    "        if is_happy(board):\n",
    "            return True\n",
    "        print(board)\n",
    "    else:\n",
    "        return False\n",
    "def happyLadybugs(strboard):\n",
    "    board = list(strboard)\n",
    "    if move_colour(board):\n",
    "        return 'Yes'\n",
    "    else:\n",
    "        return 'No'\n",
    "                      \n",
    "                    "
   ]
  },
  {
   "cell_type": "code",
   "execution_count": 159,
   "metadata": {},
   "outputs": [],
   "source": [
    "board = 'YFCA_NXMGJYYGCMMGGGXYNAMFNJJX_'"
   ]
  },
  {
   "cell_type": "code",
   "execution_count": 75,
   "metadata": {},
   "outputs": [
    {
     "data": {
      "text/plain": [
       "True"
      ]
     },
     "execution_count": 75,
     "metadata": {},
     "output_type": "execute_result"
    }
   ],
   "source": [
    "is_happy2(1)"
   ]
  },
  {
   "cell_type": "code",
   "execution_count": 76,
   "metadata": {},
   "outputs": [
    {
     "ename": "TypeError",
     "evalue": "'str' object does not support item assignment",
     "output_type": "error",
     "traceback": [
      "\u001b[0;31m---------------------------------------------------------------------------\u001b[0m",
      "\u001b[0;31mTypeError\u001b[0m                                 Traceback (most recent call last)",
      "\u001b[0;32m<ipython-input-76-39067244f910>\u001b[0m in \u001b[0;36m<module>\u001b[0;34m\u001b[0m\n\u001b[0;32m----> 1\u001b[0;31m \u001b[0mboard\u001b[0m\u001b[0;34m[\u001b[0m\u001b[0;36m1\u001b[0m\u001b[0;34m]\u001b[0m \u001b[0;34m=\u001b[0m \u001b[0mboard\u001b[0m\u001b[0;34m[\u001b[0m\u001b[0;36m2\u001b[0m\u001b[0;34m]\u001b[0m\u001b[0;34m\u001b[0m\u001b[0;34m\u001b[0m\u001b[0m\n\u001b[0m",
      "\u001b[0;31mTypeError\u001b[0m: 'str' object does not support item assignment"
     ]
    }
   ],
   "source": [
    "board[1] = board[2]"
   ]
  },
  {
   "cell_type": "raw",
   "metadata": {},
   "source": [
    "board = board.split()"
   ]
  },
  {
   "cell_type": "code",
   "execution_count": 89,
   "metadata": {},
   "outputs": [],
   "source": [
    "board = list(board)"
   ]
  },
  {
   "cell_type": "code",
   "execution_count": 90,
   "metadata": {},
   "outputs": [
    {
     "data": {
      "text/plain": [
       "['_', 'B', 'B', '_']"
      ]
     },
     "execution_count": 90,
     "metadata": {},
     "output_type": "execute_result"
    }
   ],
   "source": [
    "board"
   ]
  },
  {
   "cell_type": "code",
   "execution_count": 85,
   "metadata": {},
   "outputs": [
    {
     "ename": "IndexError",
     "evalue": "list index out of range",
     "output_type": "error",
     "traceback": [
      "\u001b[0;31m---------------------------------------------------------------------------\u001b[0m",
      "\u001b[0;31mIndexError\u001b[0m                                Traceback (most recent call last)",
      "\u001b[0;32m<ipython-input-85-19d6be8d7a7c>\u001b[0m in \u001b[0;36m<module>\u001b[0;34m\u001b[0m\n\u001b[0;32m----> 1\u001b[0;31m \u001b[0mboard\u001b[0m\u001b[0;34m[\u001b[0m\u001b[0;36m0\u001b[0m\u001b[0;34m]\u001b[0m \u001b[0;34m=\u001b[0m \u001b[0mboard\u001b[0m\u001b[0;34m[\u001b[0m\u001b[0;36m1\u001b[0m\u001b[0;34m]\u001b[0m\u001b[0;34m\u001b[0m\u001b[0;34m\u001b[0m\u001b[0m\n\u001b[0m",
      "\u001b[0;31mIndexError\u001b[0m: list index out of range"
     ]
    }
   ],
   "source": []
  },
  {
   "cell_type": "code",
   "execution_count": 160,
   "metadata": {},
   "outputs": [
    {
     "name": "stdout",
     "output_type": "stream",
     "text": [
      "['Y', 'F', 'C', 'A', 'N', 'N', 'M', 'M', 'G', 'J', 'Y', 'Y', 'G', 'C', 'M', 'M', 'G', 'G', 'G', 'X', 'Y', '_', 'A', '_', 'F', 'N', 'J', 'J', 'X', 'X']\n",
      "['_', 'C', 'C', 'A', 'N', 'N', 'M', 'M', 'G', 'J', 'Y', 'Y', 'G', '_', 'M', 'M', 'G', 'G', 'G', 'X', 'Y', 'Y', 'A', 'F', 'F', 'N', 'J', 'J', 'X', 'X']\n",
      "['_', 'C', 'C', 'A', 'N', 'N', 'M', 'M', '_', 'J', 'Y', 'Y', 'G', 'G', 'M', 'M', 'G', 'G', 'G', 'X', 'Y', 'Y', 'A', 'F', 'F', 'N', 'J', 'J', 'X', 'X']\n",
      "['_', 'C', 'C', 'A', 'N', 'N', 'M', 'M', '_', 'J', 'Y', 'Y', 'G', 'G', 'M', 'M', 'G', 'G', 'G', 'X', 'Y', 'Y', 'A', 'F', 'F', 'N', 'J', 'J', 'X', 'X']\n"
     ]
    },
    {
     "data": {
      "text/plain": [
       "'No'"
      ]
     },
     "execution_count": 160,
     "metadata": {},
     "output_type": "execute_result"
    }
   ],
   "source": [
    "happyLadybugs(board)"
   ]
  },
  {
   "cell_type": "code",
   "execution_count": 97,
   "metadata": {},
   "outputs": [],
   "source": [
    "board = list(board)"
   ]
  },
  {
   "cell_type": "code",
   "execution_count": null,
   "metadata": {},
   "outputs": [],
   "source": []
  },
  {
   "cell_type": "code",
   "execution_count": 98,
   "metadata": {},
   "outputs": [
    {
     "data": {
      "text/plain": [
       "['_', 'B', 'B', '_', 'B']"
      ]
     },
     "execution_count": 98,
     "metadata": {},
     "output_type": "execute_result"
    }
   ],
   "source": [
    "board"
   ]
  },
  {
   "cell_type": "code",
   "execution_count": 99,
   "metadata": {},
   "outputs": [],
   "source": [
    "board[2] = board[3]"
   ]
  },
  {
   "cell_type": "code",
   "execution_count": 123,
   "metadata": {},
   "outputs": [
    {
     "data": {
      "text/plain": [
       "'RBW_WBR'"
      ]
     },
     "execution_count": 123,
     "metadata": {},
     "output_type": "execute_result"
    }
   ],
   "source": [
    "board"
   ]
  },
  {
   "cell_type": "code",
   "execution_count": 127,
   "metadata": {},
   "outputs": [
    {
     "ename": "TypeError",
     "evalue": "is_happy() takes 0 positional arguments but 1 was given",
     "output_type": "error",
     "traceback": [
      "\u001b[0;31m---------------------------------------------------------------------------\u001b[0m",
      "\u001b[0;31mTypeError\u001b[0m                                 Traceback (most recent call last)",
      "\u001b[0;32m<ipython-input-127-2bcbc71b2f38>\u001b[0m in \u001b[0;36m<module>\u001b[0;34m\u001b[0m\n\u001b[0;32m----> 1\u001b[0;31m \u001b[0mis_happy\u001b[0m\u001b[0;34m(\u001b[0m\u001b[0;34m'RRWWBB_'\u001b[0m\u001b[0;34m)\u001b[0m\u001b[0;34m\u001b[0m\u001b[0;34m\u001b[0m\u001b[0m\n\u001b[0m",
      "\u001b[0;31mTypeError\u001b[0m: is_happy() takes 0 positional arguments but 1 was given"
     ]
    }
   ],
   "source": [
    "is_happy()"
   ]
  },
  {
   "cell_type": "code",
   "execution_count": 203,
   "metadata": {},
   "outputs": [],
   "source": [
    "def happyLadybugs(b):\n",
    "    b = list(b)\n",
    "    if len(b) == 1 and b[0]!='_':\n",
    "        return 'NO'\n",
    "    if is_happy(b):\n",
    "        return 'YES'\n",
    "    letters = dict()\n",
    "    for i in b:\n",
    "        letters[i] = letters.get(i,0)+1\n",
    "    letters['_'] = letters.get('_',0)\n",
    "    if letters['_']>0:\n",
    "        letters['_'] = 2\n",
    "        for i in letters:\n",
    "            if letters[i] >=2:\n",
    "                continue\n",
    "            else:\n",
    "                return 'NO'\n",
    "        return 'YES'"
   ]
  },
  {
   "cell_type": "code",
   "execution_count": 204,
   "metadata": {},
   "outputs": [],
   "source": [
    "b = '_'"
   ]
  },
  {
   "cell_type": "code",
   "execution_count": 205,
   "metadata": {},
   "outputs": [
    {
     "data": {
      "text/plain": [
       "'YES'"
      ]
     },
     "execution_count": 205,
     "metadata": {},
     "output_type": "execute_result"
    }
   ],
   "source": [
    "happyLadybugs(b)"
   ]
  },
  {
   "cell_type": "code",
   "execution_count": 170,
   "metadata": {},
   "outputs": [
    {
     "ename": "NameError",
     "evalue": "name 'letters' is not defined",
     "output_type": "error",
     "traceback": [
      "\u001b[0;31m---------------------------------------------------------------------------\u001b[0m",
      "\u001b[0;31mNameError\u001b[0m                                 Traceback (most recent call last)",
      "\u001b[0;32m<ipython-input-170-f80e87c70556>\u001b[0m in \u001b[0;36m<module>\u001b[0;34m\u001b[0m\n\u001b[0;32m----> 1\u001b[0;31m \u001b[0mletters\u001b[0m\u001b[0;34m\u001b[0m\u001b[0;34m\u001b[0m\u001b[0m\n\u001b[0m",
      "\u001b[0;31mNameError\u001b[0m: name 'letters' is not defined"
     ]
    }
   ],
   "source": [
    "letters"
   ]
  },
  {
   "cell_type": "code",
   "execution_count": 187,
   "metadata": {},
   "outputs": [],
   "source": [
    "def is_happy(board):\n",
    "    for i in range(len(board)):\n",
    "        if board[i] == '_':\n",
    "            continue \n",
    "        if i>0 and i<len(board)-1:\n",
    "            if board[i-1] == board[i] or board[i+1] == board[i]:\n",
    "                continue \n",
    "        if i == 0:\n",
    "            if board[i+1] == board[i]:\n",
    "                continue\n",
    "        if i == len(board) -1:\n",
    "            if board[i-1] == board[i]:\n",
    "                continue\n",
    "        return False\n",
    "    return True"
   ]
  },
  {
   "cell_type": "code",
   "execution_count": null,
   "metadata": {},
   "outputs": [],
   "source": [
    "[1,2,3,4,21,4]"
   ]
  },
  {
   "cell_type": "code",
   "execution_count": 215,
   "metadata": {},
   "outputs": [],
   "source": [
    "def jumpingOnClouds(c):\n",
    "    for i in range(len(c)):\n",
    "        if c[i] == 1:\n",
    "            c[i] = float(\"inf\")\n",
    "    c[1] = max(1,c[1])\n",
    "    for i in range(2,len(c)):\n",
    "        c[i] = min(c[i-1],c[i-2])+1+c[i]\n",
    "    print(c)\n",
    "    return c[len(c)-1]\n",
    "    \n",
    "    \n",
    "    \n",
    "    "
   ]
  },
  {
   "cell_type": "code",
   "execution_count": 217,
   "metadata": {},
   "outputs": [
    {
     "name": "stdout",
     "output_type": "stream",
     "text": [
      "[0, 1, 1, 2, inf, 3]\n"
     ]
    },
    {
     "data": {
      "text/plain": [
       "3"
      ]
     },
     "execution_count": 217,
     "metadata": {},
     "output_type": "execute_result"
    }
   ],
   "source": [
    "jumpingOnClouds([0,0,0,0,1,0])"
   ]
  },
  {
   "cell_type": "code",
   "execution_count": 270,
   "metadata": {},
   "outputs": [],
   "source": [
    "def strangeCounter(t):\n",
    "    cicle = 0\n",
    "    board = dict()\n",
    "    board[1]=3\n",
    "    i = 1\n",
    "    while True:\n",
    "        cicle+=1\n",
    "        board[i+board[i]] = 3*(2**cicle)\n",
    "        b = copy.copy(i)\n",
    "        i = i+board[i]\n",
    "        if i>t:\n",
    "            break\n",
    "    print(board,cicle,b)\n",
    "    return 3*(2**(cicle-1))-(t-b)\n",
    "    "
   ]
  },
  {
   "cell_type": "code",
   "execution_count": 274,
   "metadata": {},
   "outputs": [
    {
     "name": "stdout",
     "output_type": "stream",
     "text": [
      "{1: 3, 4: 6, 10: 12, 22: 24} 3 22 10\n"
     ]
    },
    {
     "data": {
      "text/plain": [
       "11"
      ]
     },
     "execution_count": 274,
     "metadata": {},
     "output_type": "execute_result"
    }
   ],
   "source": [
    "strangeCounter(11)"
   ]
  },
  {
   "cell_type": "code",
   "execution_count": 222,
   "metadata": {},
   "outputs": [
    {
     "ename": "KeyError",
     "evalue": "2",
     "output_type": "error",
     "traceback": [
      "\u001b[0;31m---------------------------------------------------------------------------\u001b[0m",
      "\u001b[0;31mKeyError\u001b[0m                                  Traceback (most recent call last)",
      "\u001b[0;32m<ipython-input-222-42fab5d15a22>\u001b[0m in \u001b[0;36m<module>\u001b[0;34m\u001b[0m\n\u001b[0;32m----> 1\u001b[0;31m \u001b[0;32mif\u001b[0m \u001b[0;32mnot\u001b[0m \u001b[0mboard\u001b[0m\u001b[0;34m[\u001b[0m\u001b[0;36m2\u001b[0m\u001b[0;34m]\u001b[0m\u001b[0;34m:\u001b[0m\u001b[0;34m\u001b[0m\u001b[0;34m\u001b[0m\u001b[0m\n\u001b[0m\u001b[1;32m      2\u001b[0m     \u001b[0mprint\u001b[0m\u001b[0;34m(\u001b[0m\u001b[0;34m'w'\u001b[0m\u001b[0;34m)\u001b[0m\u001b[0;34m\u001b[0m\u001b[0;34m\u001b[0m\u001b[0m\n",
      "\u001b[0;31mKeyError\u001b[0m: 2"
     ]
    }
   ],
   "source": [
    "if not board[2]:\n",
    "    print('w')"
   ]
  },
  {
   "cell_type": "code",
   "execution_count": 269,
   "metadata": {},
   "outputs": [],
   "source": [
    "import copy"
   ]
  },
  {
   "cell_type": "code",
   "execution_count": 276,
   "metadata": {},
   "outputs": [],
   "source": [
    "def chocolateFeast(n, c, m):\n",
    "    number_of_wrappers = 0\n",
    "    count = 0\n",
    "    number_of_wrappers+=n//c\n",
    "    count+=n//c\n",
    "    while number_of_wrappers!=0:\n",
    "        count+= number_of_wrappers//m\n",
    "        number_of_wrappers = number_of_wrappers%m + number_of_wrappers//m\n",
    "        if number_of\n",
    "        print(number_of_wrappers)    \n",
    "    return count"
   ]
  },
  {
   "cell_type": "code",
   "execution_count": 280,
   "metadata": {},
   "outputs": [],
   "source": [
    "def empty_graph(n):\n",
    "    board = dict()\n",
    "    for i in range(n):\n",
    "        for b in range(n):\n",
    "            board[str(i)+str(b)]=set()\n",
    "    return board"
   ]
  },
  {
   "cell_type": "code",
   "execution_count": 282,
   "metadata": {},
   "outputs": [
    {
     "data": {
      "text/plain": [
       "{'00': set(),\n",
       " '01': set(),\n",
       " '02': set(),\n",
       " '03': set(),\n",
       " '04': set(),\n",
       " '10': set(),\n",
       " '11': set(),\n",
       " '12': set(),\n",
       " '13': set(),\n",
       " '14': set(),\n",
       " '20': set(),\n",
       " '21': set(),\n",
       " '22': set(),\n",
       " '23': set(),\n",
       " '24': set(),\n",
       " '30': set(),\n",
       " '31': set(),\n",
       " '32': set(),\n",
       " '33': set(),\n",
       " '34': set(),\n",
       " '40': set(),\n",
       " '41': set(),\n",
       " '42': set(),\n",
       " '43': set(),\n",
       " '44': set()}"
      ]
     },
     "execution_count": 282,
     "metadata": {},
     "output_type": "execute_result"
    }
   ],
   "source": [
    "graph(5)"
   ]
  },
  {
   "cell_type": "code",
   "execution_count": null,
   "metadata": {},
   "outputs": [],
   "source": [
    "def write_graph(board):\n",
    "    "
   ]
  }
 ],
 "metadata": {
  "kernelspec": {
   "display_name": "Python 3",
   "language": "python",
   "name": "python3"
  },
  "language_info": {
   "codemirror_mode": {
    "name": "ipython",
    "version": 3
   },
   "file_extension": ".py",
   "mimetype": "text/x-python",
   "name": "python",
   "nbconvert_exporter": "python",
   "pygments_lexer": "ipython3",
   "version": "3.7.4"
  }
 },
 "nbformat": 4,
 "nbformat_minor": 4
}
