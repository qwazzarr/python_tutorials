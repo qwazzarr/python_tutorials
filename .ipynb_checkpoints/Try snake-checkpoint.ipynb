{
 "cells": [
  {
   "cell_type": "code",
   "execution_count": 1,
   "metadata": {},
   "outputs": [
    {
     "name": "stdout",
     "output_type": "stream",
     "text": [
      "pygame 1.9.6\n",
      "Hello from the pygame community. https://www.pygame.org/contribute.html\n"
     ]
    }
   ],
   "source": [
    "import pygame"
   ]
  },
  {
   "cell_type": "code",
   "execution_count": 2,
   "metadata": {},
   "outputs": [
    {
     "data": {
      "text/plain": [
       "(6, 0)"
      ]
     },
     "execution_count": 2,
     "metadata": {},
     "output_type": "execute_result"
    }
   ],
   "source": [
    "import random\n",
    "import time\n",
    "pygame.init()"
   ]
  },
  {
   "cell_type": "code",
   "execution_count": 3,
   "metadata": {},
   "outputs": [],
   "source": [
    "pygame.font.init()\n",
    "WIDTH, HEIGHT = 800, 800\n",
    "WIN = pygame.display.set_mode((WIDTH, HEIGHT))\n",
    "pygame.display.set_caption(\"Snake\")\n",
    "main_font = pygame.font.SysFont(\"comicsans\", 30)"
   ]
  },
  {
   "cell_type": "code",
   "execution_count": 4,
   "metadata": {},
   "outputs": [],
   "source": [
    "class Snake_block():\n",
    "    def __init__(self,x,y):\n",
    "        self.x = x \n",
    "        self.y = y\n",
    "        self.fy = x\n",
    "        self.fx = y\n",
    "    def wave(self, obj):\n",
    "        obj.fx = self.x\n",
    "        obj.fy = self.y\n",
    "    def move(self):\n",
    "        self.x = self.fx\n",
    "        self.y = self.fy\n",
    "    def self_draw(self, win):\n",
    "        pygame.draw.rect(win,(255,0,0),(self.x,self.y, 20 ,20))\n",
    "    \n",
    "class Snake():\n",
    "    def __init__(self ,x , y) : \n",
    "        self.x = x\n",
    "        self.y = y\n",
    "        self.speed = 20\n",
    "        self.direction = None\n",
    "        self.tail = [Snake_block(x,y)]\n",
    "    def move(self):\n",
    "        if self.direction == 'Up':\n",
    "                         self.y -= self.speed\n",
    "        elif self.direction == 'Down':\n",
    "                         self.y += self.speed\n",
    "        elif self.direction == 'Right':\n",
    "                         self.x += self.speed\n",
    "        elif self.direction == 'Left':\n",
    "                         self.x -= self.speed\n",
    "        if self.y > 800:\n",
    "            self.y = self.speed\n",
    "        if self.y<0:\n",
    "            self.y = 780\n",
    "        if self.x > 800:\n",
    "            self.x = self.speed\n",
    "        if self.x<0:\n",
    "            self.x = 780\n",
    "        \n",
    "                         \n",
    "    def growth(self):\n",
    "        self.tail.append(Snake_block(self.tail[-1].x,self.tail[-1].y))\n",
    "    def give_info(self):\n",
    "        for block in range(len(self.tail)-1):\n",
    "            self.tail[block].wave(self.tail[block+1])\n",
    "            self.tail[block].move()\n",
    "        self.tail[-1].move()\n",
    "    def give_prime_info(self):\n",
    "        self.tail[0].fx = self.x\n",
    "        self.tail[0].fy = self.y\n",
    "    def draw(self,win):\n",
    "        for block in self.tail:\n",
    "            block.self_draw(win)\n",
    "    def check_collide(self,):\n",
    "        if len(self.tail)>1:\n",
    "            for block in range(1,len(self.tail)):\n",
    "                if self.tail[block].x == self.x and self.tail[block].y == self.y:\n",
    "                    return False\n",
    "        return True \n",
    "\n",
    "class Apples():\n",
    "    def __init__(self,):\n",
    "        self.x = random.randrange(0,800,20)\n",
    "        self.y = random.randrange(0,800,20)\n",
    "    def collide (self,obj):\n",
    "        if self.x == obj.x and self.y == obj.y:\n",
    "            obj.growth()\n",
    "            self.x = random.randrange(0,800,20)\n",
    "            self.y = random.randrange(0,800,20)\n",
    "    def draw (self,win):\n",
    "        pygame.draw.rect(win,(0,255,0),(self.x,self.y, 20 ,20))\n",
    "            \n",
    "            \n",
    "    \n",
    "                         \n",
    "        \n",
    "                                 \n",
    "\n",
    "\n",
    "\n",
    "         "
   ]
  },
  {
   "cell_type": "code",
   "execution_count": 5,
   "metadata": {},
   "outputs": [],
   "source": [
    "def main():\n",
    "    run = True\n",
    "    FPS = 60\n",
    "    clock = pygame.time.Clock()\n",
    "    Main_Snake = Snake(random.randrange(0,800,20),random.randrange(0,800,20))\n",
    "    Apple = Apples()\n",
    "    def redraw_window():\n",
    "        WIN.fill((0,0,0))\n",
    "        Main_Snake.draw(WIN)\n",
    "        Apple.draw(WIN)\n",
    "        \n",
    "        \n",
    "    while run : \n",
    "        for event in pygame.event.get():\n",
    "            if event.type == pygame.QUIT:\n",
    "                run = False\n",
    "        keys = pygame.key.get_pressed()\n",
    "        if keys[pygame.K_a]:\n",
    "            Main_Snake.direction = 'Left'\n",
    "        if keys[pygame.K_d]:\n",
    "            Main_Snake.direction = ('Right')\n",
    "        if keys[pygame.K_w]:\n",
    "            Main_Snake.direction = ('Up')\n",
    "        if keys[pygame.K_s]:\n",
    "            Main_Snake.direction = ('Down')\n",
    "        Main_Snake.move()\n",
    "        if not Main_Snake.check_collide():\n",
    "            run = False\n",
    "            print('a')\n",
    "            \n",
    "        Apple.collide(Main_Snake)\n",
    "        Main_Snake.give_info()\n",
    "        Main_Snake.give_prime_info()\n",
    "\n",
    "        redraw_window()\n",
    "        pygame.display.update()"
   ]
  },
  {
   "cell_type": "code",
   "execution_count": null,
   "metadata": {},
   "outputs": [],
   "source": [
    "main()"
   ]
  },
  {
   "cell_type": "code",
   "execution_count": null,
   "metadata": {},
   "outputs": [],
   "source": []
  }
 ],
 "metadata": {
  "kernelspec": {
   "display_name": "Python 3",
   "language": "python",
   "name": "python3"
  },
  "language_info": {
   "codemirror_mode": {
    "name": "ipython",
    "version": 3
   },
   "file_extension": ".py",
   "mimetype": "text/x-python",
   "name": "python",
   "nbconvert_exporter": "python",
   "pygments_lexer": "ipython3",
   "version": "3.7.4"
  }
 },
 "nbformat": 4,
 "nbformat_minor": 2
}
